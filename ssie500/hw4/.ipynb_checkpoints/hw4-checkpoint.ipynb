{
 "cells": [
  {
   "cell_type": "code",
   "execution_count": 20,
   "metadata": {},
   "outputs": [],
   "source": [
    "#Standard Imports\n",
    "import pandas as pd\n",
    "from collections import Counter\n",
    "import requests as r\n",
    "import matplotlib.pyplot as plt\n",
    "import heapq\n",
    "import numpy as np\n",
    "%matplotlib inline"
   ]
  },
  {
   "cell_type": "code",
   "execution_count": 21,
   "metadata": {},
   "outputs": [],
   "source": [
    "#URL of text for US Constitution from `gutenberg.org`\n",
    "url = 'http://www.gutenberg.org/cache/epub/5/pg5.txt'\n",
    "#Get text and store in an object. \n",
    "text = r.get(url).text.strip().replace('\\n', '')\n",
    "\n",
    "#Develop char counts from the text\n",
    "textDict = dict(Counter(text))\n",
    "\n",
    "#Store results in a dataframe\n",
    "df = pd.DataFrame({'char': list(textDict.keys()), 'char_count': list(textDict.values())})\n",
    "df['freq'] = df['char_count'] * (1/df.char_count.sum())\n",
    "df = df.sort_values(by='freq', ascending=False).reset_index(drop=True)\n",
    "\n",
    "#Store results in a dict\n",
    "freq = {row['char']:row['freq'] for index, row in df.iterrows()}"
   ]
  },
  {
   "cell_type": "code",
   "execution_count": 22,
   "metadata": {},
   "outputs": [
    {
     "name": "stdout",
     "output_type": "stream",
     "text": [
      "The First 2,000 Characters of the raw text: \n",
      "---\n"
     ]
    },
    {
     "data": {
      "text/plain": [
       "'\\ufeffThe Project Gutenberg EBook of The United States\\' Constitution\\rby  Founding Fathers\\r\\rCopyright laws are changing all over the world. Be sure to check the\\rcopyright laws for your country before downloading or redistributing\\rthis or any other Project Gutenberg eBook.\\r\\rThis header should be the first thing seen when viewing this Project\\rGutenberg file.  Please do not remove it.  Do not change or edit the\\rheader without written permission.\\r\\rPlease read the \"legal small print,\" and other information about the\\reBook and Project Gutenberg at the bottom of this file.  Included is\\rimportant information about your specific rights and restrictions in\\rhow the file may be used.  You can also find out about how to make a\\rdonation to Project Gutenberg, and how to get involved.\\r\\r\\r**Welcome To The World of Free Plain Vanilla Electronic Texts**\\r\\r**eBooks Readable By Both Humans and By Computers, Since 1971**\\r\\r*****These eBooks Were Prepared By Thousands of Volunteers!*****\\r\\r\\rTitle: The United States\\' Constitution\\r\\rAuthor:  Founding Fathers\\r\\rRelease Date: December, 1975  [EBook #5]\\r[This file was first posted on August 19, 2003]\\r[Previous update: April 14, 2006]\\r[Last updated: April 1, 2015]\\r\\rEdition: 11\\r\\rLanguage: English\\r\\r\\r*** START OF THE PROJECT GUTENBERG EBOOK, THE UNITED STATES\\' CONSTITUTION ***\\r\\r\\r\\r\\rAll of the original Project Gutenberg Etexts from the\\r1970\\'s were produced in ALL CAPS, no lower case.  The\\rcomputers we used then didn\\'t have lower case at all.\\r\\r***\\r\\rThese original Project Gutenberg Etexts will be compiled into a file\\rcontaining them all, in order to improve the content ratios of Etext\\rto header material.\\r\\r***\\r\\r\\r\\rThe following edition of The Consitution of the United States of America\\rhas been based on many hours of study of a variety of editions, and will\\rinclude certain variant spellings, punctuation, and captialization as we\\rhave been able to reasonable ascertain belonged to the orginal.  In case\\rof internal discrepancies in these matters, most or all have been'"
      ]
     },
     "execution_count": 22,
     "metadata": {},
     "output_type": "execute_result"
    }
   ],
   "source": [
    "print('The First 2,000 Characters of the raw text: \\n---')\n",
    "text[:2000]"
   ]
  },
  {
   "cell_type": "code",
   "execution_count": 31,
   "metadata": {},
   "outputs": [
    {
     "data": {
      "text/plain": [
       "6636"
      ]
     },
     "execution_count": 31,
     "metadata": {},
     "output_type": "execute_result"
    }
   ],
   "source": [
    "len(text.split(' '))"
   ]
  },
  {
   "cell_type": "code",
   "execution_count": 23,
   "metadata": {},
   "outputs": [
    {
     "data": {
      "text/plain": [
       "{'s': '0000',\n",
       " 'b': '001000',\n",
       " 'y': '101000',\n",
       " 'd': '11000',\n",
       " 'e': '100',\n",
       " 'i': '0010',\n",
       " 'n': '1010',\n",
       " 'k': '00000110',\n",
       " 'N': '10000110',\n",
       " 'T': '1000110',\n",
       " ',': '100110',\n",
       " ';': '000010110',\n",
       " 'H': '100010110',\n",
       " ']': '00010010110',\n",
       " '7': '010010010110',\n",
       " '@': '00110010010110',\n",
       " 'X': '10110010010110',\n",
       " 'Q': '1110010010110',\n",
       " '\"': '1010010110',\n",
       " 'G': '110010110',\n",
       " 'S': '1010110',\n",
       " 'v': '0110110',\n",
       " 'O': '01110110',\n",
       " ':': '0011110110',\n",
       " 'q': '1011110110',\n",
       " '*': '111110110',\n",
       " 'a': '1110',\n",
       " 'l': '00001',\n",
       " 'm': '010001',\n",
       " 'I': '00110001',\n",
       " 'R': '10110001',\n",
       " 'A': '01110001',\n",
       " \"'\": '00011110001',\n",
       " 'z': '10011110001',\n",
       " '-': '1011110001',\n",
       " '2': '0111110001',\n",
       " 'V': '1111110001',\n",
       " 'o': '1001',\n",
       " 't': '0101',\n",
       " 'w': '0001101',\n",
       " 'E': '01001101',\n",
       " '0': '011001101',\n",
       " '/': '00111001101',\n",
       " '~': '000010111001101',\n",
       " '\\ufeff': '100010111001101',\n",
       " '%': '10010111001101',\n",
       " '8': '1010111001101',\n",
       " '3': '110111001101',\n",
       " '(': '01111001101',\n",
       " ')': '11111001101',\n",
       " 'D': '000101101',\n",
       " 'M': '100101101',\n",
       " 'L': '010101101',\n",
       " 'F': '0110101101',\n",
       " '1': '1110101101',\n",
       " 'x': '001101101',\n",
       " 'Y': '0101101101',\n",
       " 'J': '1101101101',\n",
       " 'P': '11101101',\n",
       " 'h': '11101',\n",
       " ' ': '011',\n",
       " 'f': '000111',\n",
       " 'u': '100111',\n",
       " 'c': '010111',\n",
       " 'g': '0110111',\n",
       " '.': '01110111',\n",
       " 'C': '11110111',\n",
       " 'r': '01111',\n",
       " 'p': '0011111',\n",
       " 'W': '0001011111',\n",
       " 'K': '001001011111',\n",
       " '!': '101001011111',\n",
       " '4': '011001011111',\n",
       " '#': '0000111001011111',\n",
       " '$': '1000111001011111',\n",
       " '+': '0100111001011111',\n",
       " '<': '1100111001011111',\n",
       " '>': '0010111001011111',\n",
       " '_': '1010111001011111',\n",
       " '?': '110111001011111',\n",
       " '6': '1111001011111',\n",
       " 'U': '101011111',\n",
       " 'B': '011011111',\n",
       " 'j': '0111011111',\n",
       " '9': '01111011111',\n",
       " '5': '011111011111',\n",
       " '[': '111111011111',\n",
       " '\\r': '111111'}"
      ]
     },
     "execution_count": 23,
     "metadata": {},
     "output_type": "execute_result"
    }
   ],
   "source": [
    "#https://stackoverflow.com/questions/46825980/huffman-coding-tree-traversal\n",
    "#https://docs.python.org/3/library/heapq.html#module-heapq\n",
    "#https://sites.fas.harvard.edu/~libs111/files/lectures/unit9-1.pdf\n",
    "\n",
    "heap_freq = []\n",
    "for char, frq in freq.items():\n",
    "    heap_freq.append([frq, [char, \"\"]])\n",
    "\n",
    "#Sorts in decending order, places data in the heap structure.\n",
    "heapfy = heapq.heapify(heap_freq)\n",
    "\n",
    "#Loop through heap elements as it gets shorter.\n",
    "while len(heap_freq) > 1:\n",
    "    # Take the two smallest values from  the heap.\n",
    "    left_node = heapq.heappop(heap_freq)\n",
    "    right_node = heapq.heappop(heap_freq)\n",
    "    \n",
    "    # Return the list elements from left node.\n",
    "    left_elements = left_node[1:]\n",
    "    # Return the list elements from  the right node.\n",
    "    right_elements = right_node[1:]\n",
    "    \n",
    "    # Scan each element in the left node and append a zero.\n",
    "    for each in left_elements:\n",
    "        each[1] = each[1] + '0'\n",
    "      \n",
    "    # Scan each element in the right node and append a one.    \n",
    "    for each in right_elements:\n",
    "        each[1] = each[1] + '1'\n",
    "\n",
    "    # Append the resulting elements (coded char and new freq) back into the heap.\n",
    "    heapq.heappush(heap_freq, [left_node[0] + right_node[0]] + left_node[1:] + right_node[1:])\n",
    "\n",
    "# Create dict of all of the coded char\n",
    "huffDict = {each[0]:each[1] for each in heapq.heappop(heap_freq)[1:]}\n",
    "huffDict"
   ]
  },
  {
   "cell_type": "code",
   "execution_count": 24,
   "metadata": {},
   "outputs": [
    {
     "name": "stdout",
     "output_type": "stream",
     "text": [
      "Information Entropy: 4.685 bits\n"
     ]
    }
   ],
   "source": [
    "#Calculate Expected Information from the raw text.\n",
    "\n",
    "df['entropy'] = -1 * df['freq'] * np.log2(df['freq'])\n",
    "info_entropy = sum(df.entropy.to_list())\n",
    "print('Information Entropy: {:.3f} bits'.format(info_entropy))"
   ]
  },
  {
   "cell_type": "code",
   "execution_count": 25,
   "metadata": {},
   "outputs": [
    {
     "name": "stdout",
     "output_type": "stream",
     "text": [
      "Average Codeword Length After Encoding: 4.719 bits\n"
     ]
    }
   ],
   "source": [
    "#Encode the raw text using Huffman Encoding based on starter code presented in class.\n",
    "#Calculated the Average Codeword Length.\n",
    "\n",
    "encoded = ''\n",
    "for i in range(len(text)):\n",
    "    encoded += huffDict[text[i]]\n",
    "    \n",
    "print('Average Codeword Length After Encoding: {:.3f} bits'.format(len(encoded)/len(text)))"
   ]
  },
  {
   "cell_type": "code",
   "execution_count": 26,
   "metadata": {},
   "outputs": [
    {
     "name": "stdout",
     "output_type": "stream",
     "text": [
      "The First 2,000 Characters of the Encoded Text: \n",
      "---\n",
      "10001011100110110001101110110001111101101011111001011101111110001011101010111100101101001110101100101000100010001111011011101101001101011011111100110010000011001110010001110111000110111011000111010111111010001001011001100001110101100101111001011000000000111100010111111011110011010000001010010010110011101010010100110101111110010001010000110110110101101100110011110101100000101010011011101101101011011110010111101100011110000111111111111111101111001001111110100001111001001101111110101010110000111100001101000001111100111110001101011111101111010100110111001010100110111011111000001000010111001011011010001111011010111101100011000110110010111100001110000111011101101101111110001100001001110111110001101011001011010111111011000101110000011001101011110110011111101011110010011111101000011110010011011111101010101100001111000011010000011000111100101111011101000100110011101111011010111100110011110100101011111010000110010001000001111001011111000111100010010001101101000001100111101100000101010011011101110010111101101111100110000010000001010111100100010001001110101001010100110111111111010111101001000000111001011110111110101010100001110010101111011000111101111101101011111001011101111110001011101010111100101101001110101100101000100010001111011011101110001101111110011001000001100111011111111111111110001101110100100000011111011001110110001000111101100001110110011001110000111000011001000100011010111101100011000111001001111000001010110101111010010101001101110110000100100101001100011011110110010100110110110001010000011010010101001101110110101111010010000001111101101011111001011101111110001011101011111111100101101001110101100101000100010001111011011101100011100100000110001110111011011111011010000110011100000100011110001001011101010010101011011111000100011001011011010001100100101011101110110110001011011001011101010010101011010111111011110101001101111000111001011110111001100000100101011010111101100111111111011001110110001000111101100011010010010111101100110011101010110001101011110010010101011001\n"
     ]
    }
   ],
   "source": [
    "#Show the first 2000 characters of the encoded text.\n",
    "print('The First 2,000 Characters of the Encoded Text: \\n---\\n{}'.format(encoded[:2000]))"
   ]
  },
  {
   "cell_type": "code",
   "execution_count": 27,
   "metadata": {},
   "outputs": [
    {
     "data": {
      "image/png": "[encoded data removed]",
      "text/plain": [
       "<Figure size 1440x720 with 1 Axes>"
      ]
     },
     "metadata": {
      "needs_background": "light"
     },
     "output_type": "display_data"
    }
   ],
   "source": [
    "#Plot the distribution of char from the raw text.\n",
    "\n",
    "plt.figure(figsize=(20, 10))\n",
    "plt.bar(df.char, df.freq, color='blue', alpha=0.5)\n",
    "plt.yticks(fontsize=14)\n",
    "plt.xticks(fontsize=14)\n",
    "plt.xlabel('Character', fontsize=16)\n",
    "plt.ylabel('Character Frequency', fontsize=16)\n",
    "plt.title('Character Frequency Chart of the US Constitution', fontsize=19)\n",
    "plt.show()"
   ]
  }
 ],
 "metadata": {
  "kernelspec": {
   "display_name": "Python 3",
   "language": "python",
   "name": "python3"
  },
  "language_info": {
   "codemirror_mode": {
    "name": "ipython",
    "version": 3
   },
   "file_extension": ".py",
   "mimetype": "text/x-python",
   "name": "python",
   "nbconvert_exporter": "python",
   "pygments_lexer": "ipython3",
   "version": "3.8.2"
  }
 },
 "nbformat": 4,
 "nbformat_minor": 4
}

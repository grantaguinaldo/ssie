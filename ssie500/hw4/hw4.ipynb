{
 "cells": [
  {
   "cell_type": "code",
   "execution_count": 12,
   "metadata": {},
   "outputs": [],
   "source": [
    "import pandas as pd\n",
    "import numpy as np\n",
    "from collections import Counter\n",
    "import requests as r\n",
    "import matplotlib.pyplot as plt\n",
    "import heapq\n",
    "%matplotlib inline"
   ]
  },
  {
   "cell_type": "code",
   "execution_count": 13,
   "metadata": {},
   "outputs": [],
   "source": [
    "url = 'https://gist.githubusercontent.com/ctindall/4588786/raw/d3c331af8a4af0b3a36b3d27afc99042f1733038/us-constitution.txt'"
   ]
  },
  {
   "cell_type": "code",
   "execution_count": 14,
   "metadata": {},
   "outputs": [],
   "source": [
    "text = r.get(url).text.strip().replace('\\n', '')"
   ]
  },
  {
   "cell_type": "code",
   "execution_count": 15,
   "metadata": {},
   "outputs": [],
   "source": [
    "textDict = dict(Counter(text))"
   ]
  },
  {
   "cell_type": "code",
   "execution_count": 16,
   "metadata": {},
   "outputs": [],
   "source": [
    "df = pd.DataFrame({'char': list(textDict.keys()), 'char_count': list(textDict.values())})\n",
    "df['freq'] = df['char_count'] * (1/df.char_count.sum())\n",
    "df = df.sort_values(by='freq', ascending=True).reset_index(drop=True)\n",
    "df['rank'] = df.index + 1"
   ]
  },
  {
   "cell_type": "code",
   "execution_count": 17,
   "metadata": {},
   "outputs": [
    {
     "data": {
      "text/html": [
       "<div>\n",
       "<style scoped>\n",
       "    .dataframe tbody tr th:only-of-type {\n",
       "        vertical-align: middle;\n",
       "    }\n",
       "\n",
       "    .dataframe tbody tr th {\n",
       "        vertical-align: top;\n",
       "    }\n",
       "\n",
       "    .dataframe thead th {\n",
       "        text-align: right;\n",
       "    }\n",
       "</style>\n",
       "<table border=\"1\" class=\"dataframe\">\n",
       "  <thead>\n",
       "    <tr style=\"text-align: right;\">\n",
       "      <th></th>\n",
       "      <th>char</th>\n",
       "      <th>char_count</th>\n",
       "      <th>freq</th>\n",
       "      <th>rank</th>\n",
       "    </tr>\n",
       "  </thead>\n",
       "  <tbody>\n",
       "    <tr>\n",
       "      <th>0</th>\n",
       "      <td>9</td>\n",
       "      <td>1</td>\n",
       "      <td>0.000038</td>\n",
       "      <td>1</td>\n",
       "    </tr>\n",
       "    <tr>\n",
       "      <th>1</th>\n",
       "      <td>8</td>\n",
       "      <td>1</td>\n",
       "      <td>0.000038</td>\n",
       "      <td>2</td>\n",
       "    </tr>\n",
       "    <tr>\n",
       "      <th>2</th>\n",
       "      <td>0</td>\n",
       "      <td>1</td>\n",
       "      <td>0.000038</td>\n",
       "      <td>3</td>\n",
       "    </tr>\n",
       "    <tr>\n",
       "      <th>3</th>\n",
       "      <td>\"</td>\n",
       "      <td>2</td>\n",
       "      <td>0.000076</td>\n",
       "      <td>4</td>\n",
       "    </tr>\n",
       "    <tr>\n",
       "      <th>4</th>\n",
       "      <td>K</td>\n",
       "      <td>2</td>\n",
       "      <td>0.000076</td>\n",
       "      <td>5</td>\n",
       "    </tr>\n",
       "    <tr>\n",
       "      <th>5</th>\n",
       "      <td>7</td>\n",
       "      <td>2</td>\n",
       "      <td>0.000076</td>\n",
       "      <td>6</td>\n",
       "    </tr>\n",
       "    <tr>\n",
       "      <th>6</th>\n",
       "      <td>5</td>\n",
       "      <td>2</td>\n",
       "      <td>0.000076</td>\n",
       "      <td>7</td>\n",
       "    </tr>\n",
       "    <tr>\n",
       "      <th>7</th>\n",
       "      <td>6</td>\n",
       "      <td>2</td>\n",
       "      <td>0.000076</td>\n",
       "      <td>8</td>\n",
       "    </tr>\n",
       "    <tr>\n",
       "      <th>8</th>\n",
       "      <td>Q</td>\n",
       "      <td>4</td>\n",
       "      <td>0.000152</td>\n",
       "      <td>9</td>\n",
       "    </tr>\n",
       "    <tr>\n",
       "      <th>9</th>\n",
       "      <td>4</td>\n",
       "      <td>4</td>\n",
       "      <td>0.000152</td>\n",
       "      <td>10</td>\n",
       "    </tr>\n",
       "  </tbody>\n",
       "</table>\n",
       "</div>"
      ],
      "text/plain": [
       "  char  char_count      freq  rank\n",
       "0    9           1  0.000038     1\n",
       "1    8           1  0.000038     2\n",
       "2    0           1  0.000038     3\n",
       "3    \"           2  0.000076     4\n",
       "4    K           2  0.000076     5\n",
       "5    7           2  0.000076     6\n",
       "6    5           2  0.000076     7\n",
       "7    6           2  0.000076     8\n",
       "8    Q           4  0.000152     9\n",
       "9    4           4  0.000152    10"
      ]
     },
     "execution_count": 17,
     "metadata": {},
     "output_type": "execute_result"
    }
   ],
   "source": [
    "df.head(10)"
   ]
  },
  {
   "cell_type": "code",
   "execution_count": 18,
   "metadata": {},
   "outputs": [],
   "source": [
    "freqJSON = []\n",
    "for index, row in df.iterrows():\n",
    "    freqJSON.append({'char': row['char'], 'freq': row['freq'], 'rank': row['rank']})"
   ]
  },
  {
   "cell_type": "code",
   "execution_count": 19,
   "metadata": {},
   "outputs": [
    {
     "name": "stdout",
     "output_type": "stream",
     "text": [
      "Initial Self Entropy: 4.451 bits\n"
     ]
    }
   ],
   "source": [
    "df['initial_entropy'] = -1 * df['freq'] * np.log2(df['freq'])\n",
    "print('Initial Self Entropy: {:.3f} bits'.format(sum(df['initial_entropy'])))"
   ]
  },
  {
   "cell_type": "code",
   "execution_count": 20,
   "metadata": {},
   "outputs": [
    {
     "data": {
      "image/png": "[encoded data removed]",
      "text/plain": [
       "<Figure size 1440x720 with 1 Axes>"
      ]
     },
     "metadata": {
      "needs_background": "light"
     },
     "output_type": "display_data"
    }
   ],
   "source": [
    "plt.figure(figsize=(20, 10))\n",
    "plt.bar(df.char, df.freq, color='blue', alpha=0.5)\n",
    "plt.yticks(fontsize=14)\n",
    "plt.xticks(fontsize=14)\n",
    "plt.xlabel('Character', fontsize=16)\n",
    "plt.ylabel('Character Frequency', fontsize=16)\n",
    "plt.title('Character Frequency Chart of the US Constitution', fontsize=19)\n",
    "plt.show()"
   ]
  },
  {
   "cell_type": "code",
   "execution_count": 28,
   "metadata": {},
   "outputs": [],
   "source": [
    "import heapq\n",
    "def encode(data):\n",
    "    key = dict()\n",
    "    encoded = str()\n",
    "    corp = dict()\n",
    "    \n",
    "    # Count the frequency of characters in data\n",
    "    for _ in data:\n",
    "        corp[_]=corp.get(_,0)+1\n",
    "        # corp.get returns a default value of 0 if key not found\n",
    "        \n",
    "    while len(htree)>1:\n",
    "        left_node = heapq.heappop(htree)\n",
    "        right_node = heapq.heappop(htree)\n",
    "    for _ in left[1]:\n",
    "                # Add a 0 to the encoding of all nodes on the left\n",
    "                key[_] = '0' + key.get(_,\"\")\n",
    "    for _ in right[1]:\n",
    "                # Add a 1 to the encoding of all nodes on the right\n",
    "                key[_]= '1' + key.get(_,\"\")\n",
    "    # Join both as one node and push to tree\n",
    "                heapq.heappush(htree(left_node[0]+right_node[0],\n",
    "                    left_node[1]+right_node[1]))\n",
    "    for x in key:\n",
    "        print(x,key[x])\n",
    "        \n",
    "        ''' \n",
    "        Replace all our characters with their bit encodings and place     them in our string “encoding” \n",
    "        '''\n",
    "    for char in data:\n",
    "        encoded+=key[char]\n",
    "\n",
    "    # Here we’re just filling the left over bits with 0's\n",
    "    rem = len(encoded)%8\n",
    "    key['rem'] = rem\n",
    "    encoded+'0'*rem\n",
    "    return encoded"
   ]
  },
  {
   "cell_type": "code",
   "execution_count": 100,
   "metadata": {},
   "outputs": [],
   "source": [
    "num = [i for i in range(2, 69)]\n",
    "num1 = [1]\n",
    "num2 = []\n",
    "for i in range(len(num)):\n",
    "    a = heapq.heappop(num)\n",
    "    heapq.heappush(num1, a)\n",
    "    num2.append(num1[-2:])\n"
   ]
  },
  {
   "cell_type": "code",
   "execution_count": 109,
   "metadata": {},
   "outputs": [],
   "source": [
    "a = []\n",
    "b = []\n",
    "num = [i for i in range(0, 69)]\n",
    "while len(num) > 1:\n",
    "    a.append(heapq.heappop(num))\n",
    "    b.append(heapq.heappop(num))"
   ]
  }
 ],
 "metadata": {
  "kernelspec": {
   "display_name": "Python 3",
   "language": "python",
   "name": "python3"
  },
  "language_info": {
   "codemirror_mode": {
    "name": "ipython",
    "version": 3
   },
   "file_extension": ".py",
   "mimetype": "text/x-python",
   "name": "python",
   "nbconvert_exporter": "python",
   "pygments_lexer": "ipython3",
   "version": "3.8.3"
  }
 },
 "nbformat": 4,
 "nbformat_minor": 4
}

{
 "cells": [
  {
   "cell_type": "code",
   "execution_count": null,
   "metadata": {},
   "outputs": [],
   "source": [
    "import pandas as pd\n",
    "from collections import Counter\n",
    "import requests as r\n",
    "import matplotlib.pyplot as plt\n",
    "import heapq\n",
    "import numpy as np\n",
    "%matplotlib inline"
   ]
  },
  {
   "cell_type": "code",
   "execution_count": null,
   "metadata": {},
   "outputs": [],
   "source": [
    "url = 'https://gist.githubusercontent.com/ctindall/4588786/raw/d3c331af8a4af0b3a36b3d27afc99042f1733038/us-constitution.txt'\n",
    "#url = 'https://raw.githubusercontent.com/grantaguinaldo/ssie/master/ssie500/hw2/pride_prejudice.txt?token=AE6SX6CH5KNONKHOSPX44OK7UOHBO'\n",
    "text = r.get(url).text.strip().replace('\\n', '')\n",
    "textDict = dict(Counter(text))\n",
    "\n",
    "df = pd.DataFrame({'char': list(textDict.keys()), 'char_count': list(textDict.values())})\n",
    "df['freq'] = df['char_count'] * (1/df.char_count.sum())\n",
    "df = df.sort_values(by='freq', ascending=False).reset_index(drop=True)\n",
    "freq = {row['char']:row['freq'] for index, row in df.iterrows()}"
   ]
  },
  {
   "cell_type": "code",
   "execution_count": null,
   "metadata": {},
   "outputs": [],
   "source": [
    "#https://stackoverflow.com/questions/46825980/huffman-coding-tree-traversal\n",
    "#https://gist.github.com/nboubakr/0eec4ea650eeb6dc21f9\n",
    "#https://docs.python.org/3/library/heapq.html#module-heapq\n",
    "heap_freq = []\n",
    "for char, frq in freq.items():\n",
    "    heap_freq.append([frq, [char, \"\"]])\n",
    "\n",
    " #Sorts in decending order, in place and places data in the heap structure.\n",
    "heapfy = heapq.heapify(heap_freq)\n",
    "\n",
    "#Loop through heap elements as it gets shorter.\n",
    "while len(heap_freq) > 1:\n",
    "    # Take the two smallest values from  the heap.\n",
    "    left_node = heapq.heappop(heap_freq)\n",
    "    right_node = heapq.heappop(heap_freq)\n",
    "    \n",
    "    # Return the list elements from left node.\n",
    "    left_elements = left_node[1:]\n",
    "    # Return the list elements from  the right node.\n",
    "    right_elements = right_node[1:]\n",
    "    \n",
    "    # Scan each element in the left node and append a zero.\n",
    "    for each in left_elements:\n",
    "        each[1] = each[1] + '0'\n",
    "      \n",
    "    # Scan each element in the right node and append a one.    \n",
    "    for each in right_elements:\n",
    "        each[1] = each[1] + '1'\n",
    "\n",
    "    # Append the resulting elements (coded char and new freq) back into the heap\n",
    "    heapq.heappush(heap_freq, [left_node[0] + right_node[0]] + left_node[1:] + right_node[1:])\n",
    "\n",
    "# Create dict of all of the coded char\n",
    "huffDict = {each[0]:each[1] for each in heapq.heappop(heap_freq)[1:]}\n",
    "huffDict"
   ]
  },
  {
   "cell_type": "code",
   "execution_count": null,
   "metadata": {},
   "outputs": [],
   "source": [
    "df['entropy'] = -1 * df['freq'] * np.log2(df['freq'])\n",
    "info_entropy = sum(df.entropy.to_list())\n",
    "print('Information Entropy: {:.3f} bits'.format(info_entropy))"
   ]
  },
  {
   "cell_type": "code",
   "execution_count": null,
   "metadata": {},
   "outputs": [],
   "source": [
    "encoded = ''\n",
    "for i in range(len(text)):\n",
    "    encoded += huffDict[text[i]]\n",
    "    \n",
    "print('Average Codeword Length After Encoding: {:.3f} bits'.format(len(encoded)/len(text)))"
   ]
  },
  {
   "cell_type": "code",
   "execution_count": null,
   "metadata": {},
   "outputs": [],
   "source": [
    "plt.figure(figsize=(20, 10))\n",
    "plt.bar(df.char, df.freq, color='blue', alpha=0.5)\n",
    "plt.yticks(fontsize=14)\n",
    "plt.xticks(fontsize=14)\n",
    "plt.xlabel('Character', fontsize=16)\n",
    "plt.ylabel('Character Frequency', fontsize=16)\n",
    "plt.title('Character Frequency Chart of the US Constitution', fontsize=19)\n",
    "plt.show()"
   ]
  }
 ],
 "metadata": {
  "kernelspec": {
   "display_name": "Python 3",
   "language": "python",
   "name": "python3"
  },
  "language_info": {
   "codemirror_mode": {
    "name": "ipython",
    "version": 3
   },
   "file_extension": ".py",
   "mimetype": "text/x-python",
   "name": "python",
   "nbconvert_exporter": "python",
   "pygments_lexer": "ipython3",
   "version": "3.8.3"
  }
 },
 "nbformat": 4,
 "nbformat_minor": 4
}

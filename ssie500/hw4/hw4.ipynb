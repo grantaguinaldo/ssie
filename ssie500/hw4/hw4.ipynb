{
 "cells": [
  {
   "cell_type": "code",
   "execution_count": null,
   "metadata": {},
   "outputs": [],
   "source": [
    "import pandas as pd\n",
    "import numpy as np\n",
    "from collections import Counter\n",
    "import requests as r\n",
    "import matplotlib.pyplot as plt\n",
    "import heapq\n",
    "import queue\n",
    "%matplotlib inline"
   ]
  },
  {
   "cell_type": "code",
   "execution_count": null,
   "metadata": {},
   "outputs": [],
   "source": [
    "url = 'https://gist.githubusercontent.com/ctindall/4588786/raw/d3c331af8a4af0b3a36b3d27afc99042f1733038/us-constitution.txt'\n",
    "text = r.get(url).text.strip().replace('\\n', '')\n",
    "textDict = dict(Counter(text))\n",
    "\n",
    "df = pd.DataFrame({'char': list(textDict.keys()), 'char_count': list(textDict.values())})\n",
    "df['freq'] = df['char_count'] * (1/df.char_count.sum())\n",
    "df = df.sort_values(by='freq', ascending=True).reset_index(drop=True)\n",
    "df['rank'] = df.index + 1\n",
    "\n",
    "freq = [(row['char'], row['freq']) for index, row in df.iterrows()]\n",
    "#freq = [('A', 0.5), ('B', 0.3), ('C', 0.1), ('D', 0.1)]"
   ]
  },
  {
   "cell_type": "code",
   "execution_count": null,
   "metadata": {},
   "outputs": [],
   "source": [
    "df['initial_entropy'] = -1 * df['freq'] * np.log2(df['freq'])\n",
    "print('Initial Self Entropy: {:.3f} bits'.format(sum(df['initial_entropy'])))"
   ]
  },
  {
   "cell_type": "code",
   "execution_count": null,
   "metadata": {},
   "outputs": [],
   "source": [
    "def sorted_key(x):\n",
    "    return x[1]\n",
    "\n",
    "def huffman(ls):\n",
    "    sorted_ls = sorted(ls, key = sorted_key)\n",
    "    l2 = sorted_ls[:2]\n",
    "    ls = sorted_ls[2:] + [([l2[0][0], l2[1][0]], l2[0][1] + l2[1][1])]\n",
    "    if len(ls) == 1:\n",
    "        return ls[0][0]\n",
    "    else:\n",
    "        return huffman(ls)"
   ]
  },
  {
   "cell_type": "code",
   "execution_count": null,
   "metadata": {},
   "outputs": [],
   "source": [
    "tr = huffman(freq)"
   ]
  },
  {
   "cell_type": "code",
   "execution_count": null,
   "metadata": {},
   "outputs": [],
   "source": [
    "def find_char(ls, char):\n",
    "    if ls[0] == char:\n",
    "        return '0'\n",
    "    elif ls[1] == char:\n",
    "        return '1'\n",
    "    elif type(ls[0]) == list:\n",
    "        attempt = find_char(ls[0], char)\n",
    "        if attempt != None:\n",
    "            return '0' + attempt\n",
    "        else:\n",
    "            return None\n",
    "    elif type(ls[1]) == list:\n",
    "        if find_char(ls[1], char) != None:\n",
    "            return '1' + find_char(ls[1], char)\n",
    "        else:\n",
    "            return None\n",
    "    else:\n",
    "        return None"
   ]
  },
  {
   "cell_type": "code",
   "execution_count": null,
   "metadata": {},
   "outputs": [],
   "source": [
    "code = {char: find_char(tr, char) for char in text}\n",
    "code"
   ]
  },
  {
   "cell_type": "code",
   "execution_count": null,
   "metadata": {},
   "outputs": [],
   "source": [
    "#code = {'A': '0', 'B': '11', 'C': '100', 'D': '101'}"
   ]
  },
  {
   "cell_type": "code",
   "execution_count": null,
   "metadata": {},
   "outputs": [],
   "source": [
    "text = 'ABCDBCBCBCAABr'\n",
    "encoded = ''\n",
    "for i in range(len(text)):\n",
    "    encoded += code[text[i]]\n",
    "print(encoded)"
   ]
  },
  {
   "cell_type": "code",
   "execution_count": null,
   "metadata": {},
   "outputs": [],
   "source": [
    "#plt.figure(figsize=(20, 10))\n",
    "#plt.bar(df.char, df.freq, color='blue', alpha=0.5)\n",
    "#plt.yticks(fontsize=14)\n",
    "#plt.xticks(fontsize=14)\n",
    "#plt.xlabel('Character', fontsize=16)\n",
    "#plt.ylabel('Character Frequency', fontsize=16)\n",
    "#plt.title('Character Frequency Chart of the US Constitution', fontsize=19)\n",
    "#plt.show()"
   ]
  },
  {
   "cell_type": "code",
   "execution_count": null,
   "metadata": {},
   "outputs": [],
   "source": []
  }
 ],
 "metadata": {
  "kernelspec": {
   "display_name": "Python 3",
   "language": "python",
   "name": "python3"
  },
  "language_info": {
   "codemirror_mode": {
    "name": "ipython",
    "version": 3
   },
   "file_extension": ".py",
   "mimetype": "text/x-python",
   "name": "python",
   "nbconvert_exporter": "python",
   "pygments_lexer": "ipython3",
   "version": "3.8.3"
  }
 },
 "nbformat": 4,
 "nbformat_minor": 4
}

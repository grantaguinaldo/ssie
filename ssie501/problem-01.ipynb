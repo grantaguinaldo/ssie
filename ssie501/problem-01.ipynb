{
 "cells": [
  {
   "cell_type": "code",
   "execution_count": 1,
   "metadata": {},
   "outputs": [
    {
     "name": "stdout",
     "output_type": "stream",
     "text": [
      "Elapsed Time for loading `sampleSpace.pkl`: 107.2454240322113\n",
      "Elapsed Time for loading `homomorphicSpace.pkl`: 0.19091582298278809\n"
     ]
    }
   ],
   "source": [
    "import pandas as pd\n",
    "import numpy as np\n",
    "from itertools import product, chain, combinations\n",
    "import itertools\n",
    "from collections import defaultdict\n",
    "import time\n",
    "import pickle\n",
    "\n",
    "# Systems\n",
    "R1 = ['aa', 'ab', 'ai',\n",
    "'bb', 'bc', 'bd',\n",
    "'cc', 'cg', 'ci',\n",
    "'db', 'dd',\n",
    "'ec', 'ee', 'ej',\n",
    "'fa', 'fh', 'fk', \n",
    "'gc', 'gd', 'gi', \n",
    "'hf', 'hh', 'hk', \n",
    "'ic','ig', 'ii', 'ij', \n",
    "'je', 'jh', 'jj',\n",
    "'ka', 'kf', 'kh', 'kk']\n",
    "\n",
    "R2 = ['11', '12', '13', '21', \n",
    "      '22', '31', '33', '35', \n",
    "      '41', '42', '44', '54', '55']\n",
    "\n",
    "#Load Pickle Files for Total Sample Space\n",
    "start_time = time.time()\n",
    "with open('sampleSpace.pkl', 'rb') as f:\n",
    "    SAMPLE_SPACE = pickle.load(f)\n",
    "end_time = time.time()\n",
    "print('Elapsed Time for loading `sampleSpace.pkl`: {}'.format(end_time-start_time))\n",
    "\n",
    "#Load Pickle Files for Homomorphic Sample Space\n",
    "start_time = time.time()\n",
    "with open('homomorphicSpace.pkl', 'rb') as f:\n",
    "    HOMOMORPHIC_SPACE = pickle.load(f)\n",
    "end_time = time.time()\n",
    "print('Elapsed Time for loading `homomorphicSpace.pkl`: {}'.format(end_time-start_time))"
   ]
  },
  {
   "cell_type": "code",
   "execution_count": null,
   "metadata": {},
   "outputs": [],
   "source": [
    "#Find all Possible Mappings\n",
    "start_time = time.time()\n",
    "a = [list(each) for each in itertools.product('12345', repeat=11)]\n",
    "space = [dict(zip([each for each in 'abcdefghijk'], i)) for i in a]\n",
    "end_time = time.time()\n",
    "print('Elapsed Time: {}'.format(end_time-start_time))"
   ]
  },
  {
   "cell_type": "code",
   "execution_count": 2,
   "metadata": {},
   "outputs": [
    {
     "data": {
      "text/plain": [
       "48828125"
      ]
     },
     "execution_count": 2,
     "metadata": {},
     "output_type": "execute_result"
    }
   ],
   "source": [
    "#Total Possible Mappings Between S1 and S2\n",
    "len(SAMPLE_SPACE)"
   ]
  },
  {
   "cell_type": "code",
   "execution_count": 3,
   "metadata": {},
   "outputs": [],
   "source": [
    "def is_homomorphism(x, R1, R2):\n",
    "    '''\n",
    "    Returns True if R2 is a subset of initial_decode.\n",
    "    '''\n",
    "    initial_decode = [''.join(each) for each in [[x[each[0]], x[each[1]]] for each in R1]]     \n",
    "    return set(initial_decode) == set(R2)\n",
    "\n",
    "\n",
    "def is_strong_homomorphism(x, R1, R2):\n",
    "    data = sorted(list(zip(list(x.values()), list(x.keys()))))\n",
    "    d = defaultdict(list)\n",
    "    for r1, r2 in data:\n",
    "        d[r1].append(r2)\n",
    "    h_x_inv = dict(d)\n",
    "    \n",
    "    initial_decode = [''.join(each) for each in [[x[each[0]], x[each[1]]] for each in R1]] \n",
    "\n",
    "    second_pos = []\n",
    "    nested_decode = []\n",
    "    dict_decode = {}\n",
    "    \n",
    "    for eachi in initial_decode:\n",
    "        a = [h_x_inv[each[0][0]] for each in eachi]\n",
    "        cart_prod_i = [element for element in itertools.product(a[0], a[1])]\n",
    "        d = [''.join(each) for each in cart_prod_i]\n",
    "        nested_decode.append(d)\n",
    "        dict_decode[eachi] = d\n",
    "    aaa = [i for j in [dict_decode[each] for each in R2] for i in j]\n",
    "    return set(R1).issubset(aaa)"
   ]
  },
  {
   "cell_type": "code",
   "execution_count": 4,
   "metadata": {},
   "outputs": [
    {
     "name": "stdout",
     "output_type": "stream",
     "text": [
      "Elapsed Time: 13.885 min\n",
      "14\n",
      "[]\n"
     ]
    }
   ],
   "source": [
    "#Find All Homomorphisms\n",
    "start_time = time.time()\n",
    "\n",
    "homomorphic_solutions = []\n",
    "except_index = []\n",
    "for e in SAMPLE_SPACE:\n",
    "    try:\n",
    "        if is_homomorphism(x=e, R1=R1, R2=R2):\n",
    "            homomorphic_solutions.append(e)\n",
    "        else:\n",
    "            pass \n",
    "    except:\n",
    "        except_index.append(e)\n",
    "        print('Exception: {}'.format(e))\n",
    "        \n",
    "end_time = time.time()\n",
    "print('Elapsed Time: {:.3f} min'.format((end_time-start_time)/60))\n",
    "print(len(homomorphic_solutions))\n",
    "print(except_index)"
   ]
  },
  {
   "cell_type": "code",
   "execution_count": 5,
   "metadata": {},
   "outputs": [
    {
     "name": "stdout",
     "output_type": "stream",
     "text": [
      "Elapsed Time: 14.084 min\n",
      "14\n",
      "[]\n"
     ]
    }
   ],
   "source": [
    "strong_homomorphic_solutions = []\n",
    "except_index = []\n",
    "for e in HOMOMORPHIC_SPACE:\n",
    "    try:\n",
    "        if is_strong_homomorphism(x=e, R1=R1, R2=R2):\n",
    "            strong_homomorphic_solutions.append(e)\n",
    "        else:\n",
    "            pass \n",
    "    except:\n",
    "        except_index.append(e)\n",
    "        print('Exception: {}'.format(e))\n",
    "        \n",
    "end_time = time.time()\n",
    "print('Elapsed Time: {:.3f} min'.format((end_time-start_time)/60))\n",
    "print(len(strong_homomorphic_solutions))\n",
    "print(except_index)"
   ]
  },
  {
   "cell_type": "code",
   "execution_count": 6,
   "metadata": {},
   "outputs": [
    {
     "data": {
      "text/plain": [
       "{'a': '4',\n",
       " 'b': '2',\n",
       " 'c': '1',\n",
       " 'd': '1',\n",
       " 'e': '1',\n",
       " 'f': '5',\n",
       " 'g': '1',\n",
       " 'h': '5',\n",
       " 'i': '1',\n",
       " 'j': '3',\n",
       " 'k': '5'}"
      ]
     },
     "execution_count": 6,
     "metadata": {},
     "output_type": "execute_result"
    }
   ],
   "source": [
    "#Example of 1 of 14 Strong Homomorphic Solutions\n",
    "example_map = strong_homomorphic_solutions[0]\n",
    "example_map"
   ]
  },
  {
   "cell_type": "code",
   "execution_count": 18,
   "metadata": {},
   "outputs": [
    {
     "data": {
      "text/plain": [
       "{'aa': '44',\n",
       " 'ab': '42',\n",
       " 'ai': '41',\n",
       " 'bb': '22',\n",
       " 'bc': '21',\n",
       " 'bd': '21',\n",
       " 'cc': '11',\n",
       " 'cg': '11',\n",
       " 'ci': '11',\n",
       " 'db': '12',\n",
       " 'dd': '11',\n",
       " 'ec': '11',\n",
       " 'ee': '11',\n",
       " 'ej': '13',\n",
       " 'fa': '54',\n",
       " 'fh': '55',\n",
       " 'fk': '55',\n",
       " 'gc': '11',\n",
       " 'gd': '11',\n",
       " 'gi': '11',\n",
       " 'hf': '55',\n",
       " 'hh': '55',\n",
       " 'hk': '55',\n",
       " 'ic': '11',\n",
       " 'ig': '11',\n",
       " 'ii': '11',\n",
       " 'ij': '13',\n",
       " 'je': '31',\n",
       " 'jh': '35',\n",
       " 'jj': '33',\n",
       " 'ka': '54',\n",
       " 'kf': '55',\n",
       " 'kh': '55',\n",
       " 'kk': '55'}"
      ]
     },
     "execution_count": 18,
     "metadata": {},
     "output_type": "execute_result"
    }
   ],
   "source": [
    "#Forward Decode\n",
    "initial_decode = [''.join(each) for each in [[example_map[each[0]], example_map[each[1]]] for each in R1]]\n",
    "forward_decode = dict(zip(R1, initial_decode))\n",
    "forward_decode"
   ]
  },
  {
   "cell_type": "code",
   "execution_count": 17,
   "metadata": {},
   "outputs": [
    {
     "data": {
      "text/plain": [
       "{'44': ['aa'],\n",
       " '42': ['ab'],\n",
       " '41': ['ac', 'ad', 'ae', 'ag', 'ai'],\n",
       " '22': ['bb'],\n",
       " '21': ['bc', 'bd', 'be', 'bg', 'bi'],\n",
       " '11': ['cc',\n",
       "  'cd',\n",
       "  'ce',\n",
       "  'cg',\n",
       "  'ci',\n",
       "  'dc',\n",
       "  'dd',\n",
       "  'de',\n",
       "  'dg',\n",
       "  'di',\n",
       "  'ec',\n",
       "  'ed',\n",
       "  'ee',\n",
       "  'eg',\n",
       "  'ei',\n",
       "  'gc',\n",
       "  'gd',\n",
       "  'ge',\n",
       "  'gg',\n",
       "  'gi',\n",
       "  'ic',\n",
       "  'id',\n",
       "  'ie',\n",
       "  'ig',\n",
       "  'ii'],\n",
       " '12': ['cb', 'db', 'eb', 'gb', 'ib'],\n",
       " '13': ['cj', 'dj', 'ej', 'gj', 'ij'],\n",
       " '54': ['fa', 'ha', 'ka'],\n",
       " '55': ['ff', 'fh', 'fk', 'hf', 'hh', 'hk', 'kf', 'kh', 'kk'],\n",
       " '31': ['jc', 'jd', 'je', 'jg', 'ji'],\n",
       " '35': ['jf', 'jh', 'jk'],\n",
       " '33': ['jj']}"
      ]
     },
     "execution_count": 17,
     "metadata": {},
     "output_type": "execute_result"
    }
   ],
   "source": [
    "#Reverse Decode\n",
    "second_pos = []\n",
    "nested_decode = []\n",
    "dict_decode = {}\n",
    "\n",
    "for eachi in initial_decode:\n",
    "    a = [h_x_inv[each[0][0]] for each in eachi]\n",
    "    cart_prod_i = [element for element in itertools.product(a[0], a[1])]\n",
    "    d = [''.join(each) for each in cart_prod_i]\n",
    "    nested_decode.append(d)\n",
    "    dict_decode[eachi] = d\n",
    "reverse_decode = dict_decode\n",
    "reverse_decode"
   ]
  },
  {
   "cell_type": "code",
   "execution_count": null,
   "metadata": {},
   "outputs": [],
   "source": [
    "#Initial Code to Find all Homomorphisms\n",
    "start_time = time.time()\n",
    "\n",
    "homomorphic_solutions = []\n",
    "except_index = []\n",
    "for e in SAMPLE_SPACE:\n",
    "    try:\n",
    "        if is_homomorphism(x=e, R1=R1, R2=R2):\n",
    "            homomorphic_solutions.append(e)\n",
    "        else:\n",
    "            pass \n",
    "    except:\n",
    "        except_index.append(e)\n",
    "        print('Exception: {}'.format(e))\n",
    "        \n",
    "end_time = time.time()\n",
    "print('Elapsed Time: {:.3f} min'.format((end_time-start_time)/60))\n",
    "print(len(homomorphic_solutions))\n",
    "print(except_index)"
   ]
  },
  {
   "cell_type": "code",
   "execution_count": null,
   "metadata": {},
   "outputs": [],
   "source": [
    "#Save var `homomorphic_solutions` as pkl file.\n",
    "with open('homomorphicSpace.pkl', 'wb') as f:\n",
    "    pickle.dump(homomorphic_solutions, f)"
   ]
  }
 ],
 "metadata": {
  "kernelspec": {
   "display_name": "Python 3",
   "language": "python",
   "name": "python3"
  },
  "language_info": {
   "codemirror_mode": {
    "name": "ipython",
    "version": 3
   },
   "file_extension": ".py",
   "mimetype": "text/x-python",
   "name": "python",
   "nbconvert_exporter": "python",
   "pygments_lexer": "ipython3",
   "version": "3.8.2"
  }
 },
 "nbformat": 4,
 "nbformat_minor": 4
}

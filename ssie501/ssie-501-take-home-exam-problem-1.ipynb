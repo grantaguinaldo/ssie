{
 "cells": [
  {
   "cell_type": "code",
   "execution_count": 13,
   "metadata": {},
   "outputs": [
    {
     "name": "stdout",
     "output_type": "stream",
     "text": [
      "True\n",
      "Hi\n",
      "False\n"
     ]
    }
   ],
   "source": [
    "R1 = ['aa', 'ab', 'ai',\n",
    "'bb', 'bc', 'bd',\n",
    "'cc', 'cg', 'ci',\n",
    "'db', 'dd',\n",
    "'ec', 'ee', 'ej',\n",
    "'fa', 'fh', 'fk', \n",
    "'gc', 'gd', 'gi', \n",
    "'hf', 'hh', 'hk', \n",
    "'ic','ig', 'ii', 'ij', \n",
    "'je', 'jh', 'jj',\n",
    "'ka', 'kf', 'kh', 'kk']\n",
    "\n",
    "R2 = ['11', '12', '13', '21', \n",
    "      '22', '31', '33', '35', \n",
    "      '41', '42', '44', '54', '55']\n",
    "#Forward Decode Table.\n",
    "h_x = {'a': '1', 'b': '1', 'c': '1', \n",
    "      'd': '1', 'e': '1', 'f': '3', \n",
    "      'g': '4', 'h': '5', 'i': '2', \n",
    "      'j': '3', 'k': '4'}\n",
    "\n",
    "#Backwards Decode Table.\n",
    "data = sorted(list(zip(list(h_x.values()), list(h_x.keys()))))\n",
    "d = defaultdict(list)\n",
    "for r1, r2 in data:\n",
    "    d[r1].append(r2)\n",
    "h_x_inv = dict(d)\n",
    "\n",
    "#Forward Decode\n",
    "initial_decode = [''.join(each) for each in [[h_x[each[0]], h_x[each[1]]] for each in R1]] \n",
    "#Check that elements in this list are in R2\n",
    "\n",
    "#Check that this decode list is in R1\n",
    "#Forward Decode\n",
    "second_pos = []\n",
    "nested_decode = []\n",
    "dict_decode = {}\n",
    "for eachi in initial_decode:\n",
    "    a = [h_x_inv[each[0][0]] for each in eachi]\n",
    "    cart_prod_i = [element for element in itertools.product(a[0], a[1])]\n",
    "    d = [''.join(each) for each in cart_prod_i]\n",
    "    nested_decode.append(d)\n",
    "    dict_decode[eachi] = d\n",
    "dict_decode\n",
    "interm_check = set(R2).issubset(list(dict_decode.keys()))\n",
    "print(interm_check)\n",
    "if set(R2).issubset(list(dict_decode.keys())):\n",
    "    print('Hi')\n",
    "    aaa = [i for j in [dict_decode[each] for each in R2] for i in j]\n",
    "    print(set(R1).issubset(aaa)) #[i for j in aaa for i in j]"
   ]
  },
  {
   "cell_type": "code",
   "execution_count": null,
   "metadata": {},
   "outputs": [],
   "source": [
    "import pandas as pd\n",
    "import numpy as np\n",
    "from itertools import product, chain, combinations\n",
    "import itertools\n",
    "from collections import defaultdict\n",
    "import time\n",
    "import pickle\n",
    "\n",
    "start_time = time.time()\n",
    "with open('sampleSpace.pkl', 'rb') as f:\n",
    "    SAMPLE_SPACE = pickle.load(f)\n",
    "end_time = time.time()\n",
    "print('Elapsed Time: {}'.format(end_time-start_time))"
   ]
  },
  {
   "cell_type": "code",
   "execution_count": 3,
   "metadata": {},
   "outputs": [],
   "source": [
    "R1 = ['aa', 'ab', 'ai',\n",
    "'bb', 'bc', 'bd',\n",
    "'cc', 'cg', 'ci',\n",
    "'db', 'dd',\n",
    "'ec', 'ee', 'ej',\n",
    "'fa', 'fh', 'fk', \n",
    "'gc', 'gd', 'gi', \n",
    "'hf', 'hh', 'hk', \n",
    "'ic','ig', 'ii', 'ij', \n",
    "'je', 'jh', 'jj',\n",
    "'ka', 'kf', 'kh', 'kk']\n",
    "\n",
    "R2 = ['11', '12', '13', '21', \n",
    "      '22', '31', '33', '35', \n",
    "      '41', '42', '44', '54', '55']"
   ]
  },
  {
   "cell_type": "code",
   "execution_count": 4,
   "metadata": {},
   "outputs": [],
   "source": [
    "def check_selection(x, R1, R2):\n",
    "    data = sorted(list(zip(list(x.values()), list(x.keys()))))\n",
    "    d = defaultdict(list)\n",
    "    for r1, r2 in data:\n",
    "        d[r1].append(r2)\n",
    "    h_x_inv = dict(d)\n",
    "\n",
    "    #Forward Decode\n",
    "    initial_decode = [''.join(each) for each in [[x[each[0]], x[each[1]]] for each in R1]] \n",
    "    #Check that elements in this list are in R2\n",
    "\n",
    "    #Check that this decode list is in R1\n",
    "    #Forward Decode\n",
    "    second_pos = []\n",
    "    nested_decode = []\n",
    "    dict_decode = {}\n",
    "    for eachi in initial_decode:\n",
    "        a = [h_x_inv[each[0][0]] for each in eachi]\n",
    "        cart_prod_i = [element for element in itertools.product(a[0], a[1])]\n",
    "        d = [''.join(each) for each in cart_prod_i]\n",
    "        nested_decode.append(d)\n",
    "        dict_decode[eachi] = d\n",
    "    interm_check = set(R2).issubset(dict_decode.keys())\n",
    "    #aaa = [i for j in [dict_decode[each] for each in R2] for i in j]\n",
    "    if interm_check:\n",
    "        aaa = [i for j in [dict_decode[each] for each in R2] for i in j]\n",
    "        return set(R1).issubset(aaa) #[i for j in aaa for i in j]\n",
    "    else:\n",
    "        return False"
   ]
  },
  {
   "cell_type": "code",
   "execution_count": 5,
   "metadata": {},
   "outputs": [
    {
     "data": {
      "text/plain": [
       "False"
      ]
     },
     "execution_count": 5,
     "metadata": {},
     "output_type": "execute_result"
    }
   ],
   "source": [
    "e = {'a': '1', 'b': '1', 'c': '1', 'd': '1', 'e': '1', 'f': '3', 'g': '4', 'h': '5', 'i': '2', 'j': '3', 'k': '4'}\n",
    "check_selection(x=e, R1=R1, R2=R2)"
   ]
  },
  {
   "cell_type": "code",
   "execution_count": null,
   "metadata": {},
   "outputs": [],
   "source": [
    "start_time = time.time()\n",
    "\n",
    "solution10 = []\n",
    "except_index = []\n",
    "for e in SAMPLE_SPACE[:28000000]:\n",
    "    try:\n",
    "        if check_selection(x=e, R1=R1, R2=R2):\n",
    "            solution10.append(e)\n",
    "        else:\n",
    "            pass \n",
    "    except:\n",
    "        except_index.append(e)\n",
    "        print('Exception: {}'.format(e))\n",
    "        \n",
    "end_time = time.time()\n",
    "print('Elapsed Time: {:.3f} min'.format((end_time-start_time)/60))\n",
    "print(len(solution10))\n",
    "print(except_index)"
   ]
  },
  {
   "cell_type": "code",
   "execution_count": null,
   "metadata": {},
   "outputs": [],
   "source": [
    "start_time = time.time()\n",
    "\n",
    "solution11 = []\n",
    "except_index = []\n",
    "for e in SAMPLE_SPACE[28000000:]:\n",
    "    try:\n",
    "        if check_selection(x=e, R1=R1, R2=R2):\n",
    "            solution11.append(e)\n",
    "        else:\n",
    "            pass \n",
    "    except:\n",
    "        except_index.append(e)\n",
    "        print('Exception: {}'.format(e))\n",
    "        \n",
    "end_time = time.time()\n",
    "print('Elapsed Time: {:.3f} min'.format((end_time-start_time)/60))\n",
    "print(len(solution10))\n",
    "print(except_index)"
   ]
  },
  {
   "cell_type": "code",
   "execution_count": null,
   "metadata": {},
   "outputs": [],
   "source": []
  },
  {
   "cell_type": "code",
   "execution_count": null,
   "metadata": {},
   "outputs": [],
   "source": []
  },
  {
   "cell_type": "code",
   "execution_count": null,
   "metadata": {},
   "outputs": [],
   "source": []
  },
  {
   "cell_type": "code",
   "execution_count": null,
   "metadata": {},
   "outputs": [],
   "source": []
  },
  {
   "cell_type": "code",
   "execution_count": null,
   "metadata": {},
   "outputs": [],
   "source": []
  },
  {
   "cell_type": "code",
   "execution_count": null,
   "metadata": {},
   "outputs": [],
   "source": []
  },
  {
   "cell_type": "code",
   "execution_count": null,
   "metadata": {},
   "outputs": [],
   "source": []
  },
  {
   "cell_type": "code",
   "execution_count": null,
   "metadata": {},
   "outputs": [],
   "source": []
  },
  {
   "cell_type": "code",
   "execution_count": null,
   "metadata": {},
   "outputs": [],
   "source": []
  },
  {
   "cell_type": "code",
   "execution_count": null,
   "metadata": {},
   "outputs": [],
   "source": [
    "e = {'a': '1', 'b': '1', 'c': '1', 'd': '1', 'e': '1', 'f': '1', 'g': '1', 'h': '1', 'i': '2', 'j': '3', 'k': '5'}\n",
    "check_selection(x=e, R1=R1, R2=R2)"
   ]
  },
  {
   "cell_type": "code",
   "execution_count": null,
   "metadata": {},
   "outputs": [],
   "source": [
    "start_time = time.time()\n",
    "\n",
    "solution1 = []\n",
    "except_index = []\n",
    "for e in SAMPLE_SPACE[:1000000]:\n",
    "    try:\n",
    "        #print('0######')\n",
    "        if not check_selection(x=e, R1=R1, R2=R2):\n",
    "            #print('1######')\n",
    "            pass\n",
    "            #print('2######')\n",
    "        else:\n",
    "            #print('@@@@@@@')\n",
    "            solution1.append(e)\n",
    "            #print('1@@@@@@')\n",
    "    except:\n",
    "        #print('!!!!!!!!!')\n",
    "        except_index.append(e)\n",
    "        print('Exception: {}'.format(e))\n",
    "        \n",
    "end_time = time.time()\n",
    "print('Elapsed Time: {:.3f} min'.format((end_time-start_time)/60))\n",
    "print(len(solution1))\n",
    "print(except_index)"
   ]
  },
  {
   "cell_type": "code",
   "execution_count": null,
   "metadata": {},
   "outputs": [],
   "source": [
    "start_time = time.time()\n",
    "\n",
    "solution2 = []\n",
    "except_index = []\n",
    "for e in SAMPLE_SPACE[1000000:2500000]:\n",
    "    try:\n",
    "        #print('0######')\n",
    "        if not check_selection(x=e, R1=R1, R2=R2):\n",
    "            #print('1######')\n",
    "            pass\n",
    "            #print('2######')\n",
    "        else:\n",
    "            #print('@@@@@@@')\n",
    "            solution2.append(e)\n",
    "            #print('1@@@@@@')\n",
    "    except:\n",
    "        #print('!!!!!!!!!')\n",
    "        except_index.append(e)\n",
    "        print('Exception: {}'.format(e))\n",
    "        \n",
    "end_time = time.time()\n",
    "print('Elapsed Time: {:.3f} min'.format((end_time-start_time)/60))\n",
    "print(len(solution2))\n",
    "print(except_index)"
   ]
  },
  {
   "cell_type": "code",
   "execution_count": null,
   "metadata": {},
   "outputs": [],
   "source": [
    "start_time = time.time()\n",
    "\n",
    "solution3 = []\n",
    "except_index = []\n",
    "for e in SAMPLE_SPACE[2500000:4000000]:\n",
    "    try:\n",
    "        if not check_selection(x=e, R1=R1, R2=R2):\n",
    "            pass\n",
    "        else:\n",
    "            solution3.append(e)\n",
    "    except:\n",
    "        except_index.append(e)\n",
    "        print('Exception: {}'.format(e))\n",
    "        \n",
    "end_time = time.time()\n",
    "print('Elapsed Time: {:.3f} min'.format((end_time-start_time)/60))\n",
    "print(len(solution3))\n",
    "print(except_index)"
   ]
  },
  {
   "cell_type": "code",
   "execution_count": null,
   "metadata": {},
   "outputs": [],
   "source": [
    "start_time = time.time()\n",
    "\n",
    "solution4 = []\n",
    "except_index = []\n",
    "for e in SAMPLE_SPACE[4000000:5500000]:\n",
    "    try:\n",
    "        if not check_selection(x=e, R1=R1, R2=R2):\n",
    "            pass\n",
    "        else:\n",
    "            solution4.append(e)\n",
    "    except:\n",
    "        except_index.append(e)\n",
    "        print('Exception: {}'.format(e))\n",
    "        \n",
    "end_time = time.time()\n",
    "print('Elapsed Time: {:.3f} min'.format((end_time-start_time)/60))\n",
    "print(len(solution4))\n",
    "print(except_index)"
   ]
  },
  {
   "cell_type": "code",
   "execution_count": null,
   "metadata": {},
   "outputs": [],
   "source": [
    "start_time = time.time()\n",
    "\n",
    "solution5 = []\n",
    "except_index = []\n",
    "for e in SAMPLE_SPACE[5500000:8000000]:\n",
    "    try:\n",
    "        if not check_selection(x=e, R1=R1, R2=R2):\n",
    "            pass\n",
    "        else:\n",
    "            solution5.append(e)\n",
    "    except:\n",
    "        except_index.append(e)\n",
    "        print('Exception: {}'.format(e))\n",
    "        \n",
    "end_time = time.time()\n",
    "print('Elapsed Time: {:.3f} min'.format((end_time-start_time)/60))\n",
    "print(len(solution5))\n",
    "print(except_index)"
   ]
  },
  {
   "cell_type": "code",
   "execution_count": null,
   "metadata": {},
   "outputs": [],
   "source": [
    "start_time = time.time()\n",
    "\n",
    "solution5 = []\n",
    "except_index = []\n",
    "for e in SAMPLE_SPACE[8000000:10000000]:\n",
    "    try:\n",
    "        if not check_selection(x=e, R1=R1, R2=R2):\n",
    "            pass\n",
    "        else:\n",
    "            solution5.append(e)\n",
    "    except:\n",
    "        except_index.append(e)\n",
    "        print('Exception: {}'.format(e))\n",
    "        \n",
    "end_time = time.time()\n",
    "print('Elapsed Time: {:.3f} min'.format((end_time-start_time)/60))\n",
    "print(len(solution5))\n",
    "print(except_index)"
   ]
  },
  {
   "cell_type": "code",
   "execution_count": null,
   "metadata": {},
   "outputs": [],
   "source": [
    "start_time = time.time()\n",
    "\n",
    "solution6 = []\n",
    "except_index = []\n",
    "for e in SAMPLE_SPACE[10000000:15000000]:\n",
    "    try:\n",
    "        if not check_selection(x=e, R1=R1, R2=R2):\n",
    "            pass\n",
    "        else:\n",
    "            solution6.append(e)\n",
    "    except:\n",
    "        except_index.append(e)\n",
    "        print('Exception: {}'.format(e))\n",
    "        \n",
    "end_time = time.time()\n",
    "print('Elapsed Time: {:.3f} min'.format((end_time-start_time)/60))\n",
    "print(len(solution6))\n",
    "print(except_index)"
   ]
  },
  {
   "cell_type": "code",
   "execution_count": null,
   "metadata": {},
   "outputs": [],
   "source": [
    "start_time = time.time()\n",
    "\n",
    "solution7 = []\n",
    "except_index = []\n",
    "for e in SAMPLE_SPACE[15000000:25000000]:\n",
    "    try:\n",
    "        if not check_selection(x=e, R1=R1, R2=R2):\n",
    "            pass\n",
    "        else:\n",
    "            solution7.append(e)\n",
    "    except:\n",
    "        except_index.append(e)\n",
    "        print('Exception: {}'.format(e))\n",
    "        \n",
    "end_time = time.time()\n",
    "print('Elapsed Time: {:.3f} min'.format((end_time-start_time)/60))\n",
    "print(len(solution7))\n",
    "print(except_index)"
   ]
  },
  {
   "cell_type": "code",
   "execution_count": null,
   "metadata": {},
   "outputs": [],
   "source": [
    "start_time = time.time()\n",
    "\n",
    "solution8 = []\n",
    "except_index = []\n",
    "for e in SAMPLE_SPACE[25000000:45000000]:\n",
    "    try:\n",
    "        if not check_selection(x=e, R1=R1, R2=R2):\n",
    "            pass\n",
    "        else:\n",
    "            solution8.append(e)\n",
    "    except:\n",
    "        except_index.append(e)\n",
    "        print('Exception: {}'.format(e))\n",
    "        \n",
    "end_time = time.time()\n",
    "print('Elapsed Time: {:.3f} min'.format((end_time-start_time)/60))\n",
    "print(len(solution8))\n",
    "print(except_index)"
   ]
  },
  {
   "cell_type": "code",
   "execution_count": null,
   "metadata": {},
   "outputs": [],
   "source": [
    "start_time = time.time()\n",
    "\n",
    "solution9 = []\n",
    "except_index = []\n",
    "for e in SAMPLE_SPACE[45000000:]:\n",
    "    try:\n",
    "        if not check_selection(x=e, R1=R1, R2=R2):\n",
    "            pass\n",
    "        else:\n",
    "            solution9.append(e)\n",
    "    except:\n",
    "        except_index.append(e)\n",
    "        print('Exception: {}'.format(e))\n",
    "        \n",
    "end_time = time.time()\n",
    "print('Elapsed Time: {:.3f} min'.format((end_time-start_time)/60))\n",
    "print(len(solution9))\n",
    "print(except_index)"
   ]
  },
  {
   "cell_type": "code",
   "execution_count": null,
   "metadata": {},
   "outputs": [],
   "source": []
  }
 ],
 "metadata": {
  "kernelspec": {
   "display_name": "Python 3",
   "language": "python",
   "name": "python3"
  },
  "language_info": {
   "codemirror_mode": {
    "name": "ipython",
    "version": 3
   },
   "file_extension": ".py",
   "mimetype": "text/x-python",
   "name": "python",
   "nbconvert_exporter": "python",
   "pygments_lexer": "ipython3",
   "version": "3.8.2"
  }
 },
 "nbformat": 4,
 "nbformat_minor": 4
}

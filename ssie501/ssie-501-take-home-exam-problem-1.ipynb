{
 "cells": [
  {
   "cell_type": "code",
   "execution_count": 78,
   "metadata": {},
   "outputs": [
    {
     "name": "stdout",
     "output_type": "stream",
     "text": [
      "True\n",
      "Hi\n",
      "True\n"
     ]
    }
   ],
   "source": [
    "import pandas as pd\n",
    "import numpy as np\n",
    "from itertools import product, chain, combinations\n",
    "import itertools\n",
    "from collections import defaultdict\n",
    "import time\n",
    "import pickle\n",
    "\n",
    "R1 = ['aa', 'ab', 'ai',\n",
    "'bb', 'bc', 'bd',\n",
    "'cc', 'cg', 'ci',\n",
    "'db', 'dd',\n",
    "'ec', 'ee', 'ej',\n",
    "'fa', 'fh', 'fk', \n",
    "'gc', 'gd', 'gi', \n",
    "'hf', 'hh', 'hk', \n",
    "'ic','ig', 'ii', 'ij', \n",
    "'je', 'jh', 'jj',\n",
    "'ka', 'kf', 'kh', 'kk']\n",
    "\n",
    "R2 = ['11', '12', '13', '21', \n",
    "      '22', '31', '33', '35', \n",
    "      '41', '42', '44', '54', '55']\n",
    "#Forward Decode Table.\n",
    "h_x = homomorphic_solutions[0]\n",
    "\n",
    "#Backwards Decode Table.\n",
    "data = sorted(list(zip(list(h_x.values()), list(h_x.keys()))))\n",
    "d = defaultdict(list)\n",
    "for r1, r2 in data:\n",
    "    d[r1].append(r2)\n",
    "h_x_inv = dict(d)\n",
    "\n",
    "#Forward Decode\n",
    "initial_decode = [''.join(each) for each in [[h_x[each[0]], h_x[each[1]]] for each in R1]] \n",
    "#Check that elements in this list are in R2\n",
    "\n",
    "#Check that this decode list is in R1\n",
    "#Forward Decode\n",
    "second_pos = []\n",
    "nested_decode = []\n",
    "dict_decode = {}\n",
    "for eachi in initial_decode:\n",
    "    a = [h_x_inv[each[0][0]] for each in eachi]\n",
    "    cart_prod_i = [element for element in itertools.product(a[0], a[1])]\n",
    "    d = [''.join(each) for each in cart_prod_i]\n",
    "    nested_decode.append(d)\n",
    "    dict_decode[eachi] = d\n",
    "dict_decode\n",
    "interm_check = set(R2).issubset(list(dict_decode.keys()))\n",
    "print(interm_check)\n",
    "if set(R2).issubset(list(dict_decode.keys())):\n",
    "    print('Hi')\n",
    "    aaa = [i for j in [dict_decode[each] for each in R2] for i in j]\n",
    "    print(set(R1).issubset(aaa)) #[i for j in aaa for i in j]"
   ]
  },
  {
   "cell_type": "code",
   "execution_count": 69,
   "metadata": {},
   "outputs": [
    {
     "data": {
      "text/plain": [
       "True"
      ]
     },
     "execution_count": 69,
     "metadata": {},
     "output_type": "execute_result"
    }
   ],
   "source": [
    "initial_decode\n",
    "dict_decode\n",
    "aaa = [i for j in [dict_decode[each] for each in R2] for i in j]\n",
    "set(R1).issubset(aaa)"
   ]
  },
  {
   "cell_type": "code",
   "execution_count": 94,
   "metadata": {},
   "outputs": [
    {
     "data": {
      "text/plain": [
       "{'a': '4',\n",
       " 'b': '2',\n",
       " 'c': '1',\n",
       " 'd': '1',\n",
       " 'e': '1',\n",
       " 'f': '5',\n",
       " 'g': '1',\n",
       " 'h': '5',\n",
       " 'i': '1',\n",
       " 'j': '3',\n",
       " 'k': '5'}"
      ]
     },
     "execution_count": 94,
     "metadata": {},
     "output_type": "execute_result"
    }
   ],
   "source": [
    "#Map\n",
    "h_x"
   ]
  },
  {
   "cell_type": "code",
   "execution_count": 91,
   "metadata": {},
   "outputs": [],
   "source": [
    "forward_mapping = dict(zip(R1, initial_decode))\n",
    "backward_mapping = dict_decode"
   ]
  },
  {
   "cell_type": "code",
   "execution_count": 92,
   "metadata": {},
   "outputs": [
    {
     "data": {
      "text/plain": [
       "{'aa': '44',\n",
       " 'ab': '42',\n",
       " 'ai': '41',\n",
       " 'bb': '22',\n",
       " 'bc': '21',\n",
       " 'bd': '21',\n",
       " 'cc': '11',\n",
       " 'cg': '11',\n",
       " 'ci': '11',\n",
       " 'db': '12',\n",
       " 'dd': '11',\n",
       " 'ec': '11',\n",
       " 'ee': '11',\n",
       " 'ej': '13',\n",
       " 'fa': '54',\n",
       " 'fh': '55',\n",
       " 'fk': '55',\n",
       " 'gc': '11',\n",
       " 'gd': '11',\n",
       " 'gi': '11',\n",
       " 'hf': '55',\n",
       " 'hh': '55',\n",
       " 'hk': '55',\n",
       " 'ic': '11',\n",
       " 'ig': '11',\n",
       " 'ii': '11',\n",
       " 'ij': '13',\n",
       " 'je': '31',\n",
       " 'jh': '35',\n",
       " 'jj': '33',\n",
       " 'ka': '54',\n",
       " 'kf': '55',\n",
       " 'kh': '55',\n",
       " 'kk': '55'}"
      ]
     },
     "execution_count": 92,
     "metadata": {},
     "output_type": "execute_result"
    }
   ],
   "source": [
    "forward_mapping"
   ]
  },
  {
   "cell_type": "code",
   "execution_count": 95,
   "metadata": {},
   "outputs": [
    {
     "data": {
      "text/plain": [
       "{'44': ['aa'],\n",
       " '42': ['ab'],\n",
       " '41': ['ac', 'ad', 'ae', 'ag', 'ai'],\n",
       " '22': ['bb'],\n",
       " '21': ['bc', 'bd', 'be', 'bg', 'bi'],\n",
       " '11': ['cc',\n",
       "  'cd',\n",
       "  'ce',\n",
       "  'cg',\n",
       "  'ci',\n",
       "  'dc',\n",
       "  'dd',\n",
       "  'de',\n",
       "  'dg',\n",
       "  'di',\n",
       "  'ec',\n",
       "  'ed',\n",
       "  'ee',\n",
       "  'eg',\n",
       "  'ei',\n",
       "  'gc',\n",
       "  'gd',\n",
       "  'ge',\n",
       "  'gg',\n",
       "  'gi',\n",
       "  'ic',\n",
       "  'id',\n",
       "  'ie',\n",
       "  'ig',\n",
       "  'ii'],\n",
       " '12': ['cb', 'db', 'eb', 'gb', 'ib'],\n",
       " '13': ['cj', 'dj', 'ej', 'gj', 'ij'],\n",
       " '54': ['fa', 'ha', 'ka'],\n",
       " '55': ['ff', 'fh', 'fk', 'hf', 'hh', 'hk', 'kf', 'kh', 'kk'],\n",
       " '31': ['jc', 'jd', 'je', 'jg', 'ji'],\n",
       " '35': ['jf', 'jh', 'jk'],\n",
       " '33': ['jj']}"
      ]
     },
     "execution_count": 95,
     "metadata": {},
     "output_type": "execute_result"
    }
   ],
   "source": [
    "backward_mapping"
   ]
  },
  {
   "cell_type": "code",
   "execution_count": null,
   "metadata": {},
   "outputs": [],
   "source": []
  },
  {
   "cell_type": "code",
   "execution_count": null,
   "metadata": {},
   "outputs": [],
   "source": []
  },
  {
   "cell_type": "code",
   "execution_count": 70,
   "metadata": {},
   "outputs": [],
   "source": [
    "def is_strong_homomorphism(x, R1, R2):\n",
    "    data = sorted(list(zip(list(h_x.values()), list(h_x.keys()))))\n",
    "    d = defaultdict(list)\n",
    "    for r1, r2 in data:\n",
    "        d[r1].append(r2)\n",
    "    h_x_inv = dict(d)\n",
    "    \n",
    "    #Forward Decode\n",
    "    initial_decode = [''.join(each) for each in [[h_x[each[0]], h_x[each[1]]] for each in R1]] \n",
    "    #Check that elements in this list are in R2\n",
    "\n",
    "    #Check that this decode list is in R1\n",
    "    #Forward Decode\n",
    "    second_pos = []\n",
    "    nested_decode = []\n",
    "    dict_decode = {}\n",
    "    \n",
    "    for eachi in initial_decode:\n",
    "        a = [h_x_inv[each[0][0]] for each in eachi]\n",
    "        cart_prod_i = [element for element in itertools.product(a[0], a[1])]\n",
    "        d = [''.join(each) for each in cart_prod_i]\n",
    "        nested_decode.append(d)\n",
    "        dict_decode[eachi] = d\n",
    "    aaa = [i for j in [dict_decode[each] for each in R2] for i in j]\n",
    "    return set(R1).issubset(aaa)"
   ]
  },
  {
   "cell_type": "code",
   "execution_count": 71,
   "metadata": {},
   "outputs": [
    {
     "data": {
      "text/plain": [
       "True"
      ]
     },
     "execution_count": 71,
     "metadata": {},
     "output_type": "execute_result"
    }
   ],
   "source": [
    "h_x = homomorphic_solutions[0]\n",
    "is_strong_homomorphism(x=h_x, R1=R1, R2=R2)"
   ]
  },
  {
   "cell_type": "code",
   "execution_count": 72,
   "metadata": {},
   "outputs": [
    {
     "data": {
      "text/plain": [
       "14"
      ]
     },
     "execution_count": 72,
     "metadata": {},
     "output_type": "execute_result"
    }
   ],
   "source": [
    "strong_homomorphic_solutions = []\n",
    "for each in homomorphic_solutions:\n",
    "    if is_strong_homomorphism(x=each, R1=R1, R2=R2):\n",
    "        strong_homomorphic_solutions.append(e)\n",
    "    else:\n",
    "        pass\n",
    "len(strong_homomorphic_solutions)"
   ]
  },
  {
   "cell_type": "code",
   "execution_count": 61,
   "metadata": {},
   "outputs": [],
   "source": [
    "for eachi in initial_decode:\n",
    "    a = [h_x_inv[each[0][0]] for each in eachi]\n",
    "    cart_prod_i = [element for element in itertools.product(a[0], a[1])]\n",
    "    d = [''.join(each) for each in cart_prod_i]\n",
    "    nested_decode.append(d)\n",
    "    dict_decode[eachi] = d\n",
    "#dict_decode\n",
    "#Show that R2 is a subset of this list.\n",
    "#set([i for j in [dict_decode[each] for each in R2] for i in j])"
   ]
  },
  {
   "cell_type": "code",
   "execution_count": null,
   "metadata": {},
   "outputs": [],
   "source": []
  },
  {
   "cell_type": "code",
   "execution_count": 1,
   "metadata": {},
   "outputs": [
    {
     "name": "stdout",
     "output_type": "stream",
     "text": [
      "Elapsed Time: 99.92976093292236\n"
     ]
    }
   ],
   "source": [
    "import pandas as pd\n",
    "import numpy as np\n",
    "from itertools import product, chain, combinations\n",
    "import itertools\n",
    "from collections import defaultdict\n",
    "import time\n",
    "import pickle\n",
    "\n",
    "R1 = ['aa', 'ab', 'ai',\n",
    "'bb', 'bc', 'bd',\n",
    "'cc', 'cg', 'ci',\n",
    "'db', 'dd',\n",
    "'ec', 'ee', 'ej',\n",
    "'fa', 'fh', 'fk', \n",
    "'gc', 'gd', 'gi', \n",
    "'hf', 'hh', 'hk', \n",
    "'ic','ig', 'ii', 'ij', \n",
    "'je', 'jh', 'jj',\n",
    "'ka', 'kf', 'kh', 'kk']\n",
    "\n",
    "R2 = ['11', '12', '13', '21', \n",
    "      '22', '31', '33', '35', \n",
    "      '41', '42', '44', '54', '55']\n",
    "\n",
    "half_point = 28500000\n",
    "\n",
    "start_time = time.time()\n",
    "with open('sampleSpace.pkl', 'rb') as f:\n",
    "    SAMPLE_SPACE = pickle.load(f)\n",
    "end_time = time.time()\n",
    "print('Elapsed Time: {}'.format(end_time-start_time))"
   ]
  },
  {
   "cell_type": "code",
   "execution_count": 2,
   "metadata": {},
   "outputs": [],
   "source": [
    "def check_selection(x, R1, R2):\n",
    "    data = sorted(list(zip(list(x.values()), list(x.keys()))))\n",
    "    d = defaultdict(list)\n",
    "    for r1, r2 in data:\n",
    "        d[r1].append(r2)\n",
    "    h_x_inv = dict(d)\n",
    "\n",
    "    #Forward Decode\n",
    "    initial_decode = [''.join(each) for each in [[x[each[0]], x[each[1]]] for each in R1]] \n",
    "    #Check that elements in this list are in R2\n",
    "\n",
    "    #Check that this decode list is in R1\n",
    "    #Forward Decode\n",
    "    second_pos = []\n",
    "    nested_decode = []\n",
    "    dict_decode = {}\n",
    "    for eachi in initial_decode:\n",
    "        a = [h_x_inv[each[0][0]] for each in eachi]\n",
    "        cart_prod_i = [element for element in itertools.product(a[0], a[1])]\n",
    "        d = [''.join(each) for each in cart_prod_i]\n",
    "        nested_decode.append(d)\n",
    "        dict_decode[eachi] = d\n",
    "    interm_check = set(R2).issubset(dict_decode.keys())\n",
    "    #aaa = [i for j in [dict_decode[each] for each in R2] for i in j]\n",
    "    if interm_check:\n",
    "        aaa = [i for j in [dict_decode[each] for each in R2] for i in j]\n",
    "        return aaa #set(R1).issubset(aaa) \n",
    "    else:\n",
    "        return None #False"
   ]
  },
  {
   "cell_type": "code",
   "execution_count": 38,
   "metadata": {},
   "outputs": [],
   "source": [
    "def is_homomorphism(h_x, R1, R2):\n",
    "    '''\n",
    "    Returns True if R2 is a subset of initial_decode.\n",
    "    '''\n",
    "    initial_decode = [''.join(each) for each in [[h_x[each[0]], h_x[each[1]]] for each in R1]] \n",
    "    \n",
    "    #return set(R2).issubset(list(set(initial_decode)))\n",
    "    return set(initial_decode) == set(R2)"
   ]
  },
  {
   "cell_type": "code",
   "execution_count": 37,
   "metadata": {},
   "outputs": [
    {
     "data": {
      "text/plain": [
       "False"
      ]
     },
     "execution_count": 37,
     "metadata": {},
     "output_type": "execute_result"
    }
   ],
   "source": [
    "x = {'a': '1', 'b': '1', 'c': '1', 'd': '1', 'e': '1', 'f': '1', 'g': '1', 'h': '1', 'i': '2', 'j': '5', 'k': '4'}\n",
    "is_homomorphism(x, R1, R2)"
   ]
  },
  {
   "cell_type": "code",
   "execution_count": 39,
   "metadata": {},
   "outputs": [
    {
     "name": "stdout",
     "output_type": "stream",
     "text": [
      "Elapsed Time: 12.182 min\n",
      "14\n",
      "[]\n"
     ]
    }
   ],
   "source": [
    "#Find all Homomorphisms\n",
    "start_time = time.time()\n",
    "\n",
    "homomorphic_solutions = []\n",
    "except_index = []\n",
    "for e in SAMPLE_SPACE:\n",
    "    try:\n",
    "        if is_homomorphism(h_x=e, R1=R1, R2=R2):\n",
    "            homomorphic_solutions.append(e)\n",
    "        else:\n",
    "            pass \n",
    "    except:\n",
    "        except_index.append(e)\n",
    "        print('Exception: {}'.format(e))\n",
    "        \n",
    "end_time = time.time()\n",
    "print('Elapsed Time: {:.3f} min'.format((end_time-start_time)/60))\n",
    "print(len(homomorphic_solutions))\n",
    "print(except_index)"
   ]
  },
  {
   "cell_type": "code",
   "execution_count": 40,
   "metadata": {},
   "outputs": [],
   "source": [
    "with open('homomorphicSpace.pkl', 'wb') as f:\n",
    "    pickle.dump(homomorphic_solutions, f)"
   ]
  },
  {
   "cell_type": "code",
   "execution_count": 42,
   "metadata": {},
   "outputs": [
    {
     "data": {
      "text/plain": [
       "{'a': '4',\n",
       " 'b': '2',\n",
       " 'c': '1',\n",
       " 'd': '1',\n",
       " 'e': '1',\n",
       " 'f': '5',\n",
       " 'g': '1',\n",
       " 'h': '5',\n",
       " 'i': '1',\n",
       " 'j': '3',\n",
       " 'k': '5'}"
      ]
     },
     "execution_count": 42,
     "metadata": {},
     "output_type": "execute_result"
    }
   ],
   "source": [
    "homomorphic_solutions[0]"
   ]
  },
  {
   "cell_type": "code",
   "execution_count": null,
   "metadata": {},
   "outputs": [],
   "source": []
  },
  {
   "cell_type": "code",
   "execution_count": null,
   "metadata": {},
   "outputs": [],
   "source": []
  },
  {
   "cell_type": "code",
   "execution_count": null,
   "metadata": {},
   "outputs": [],
   "source": [
    "start_time = time.time()\n",
    "\n",
    "solution10 = []\n",
    "except_index = []\n",
    "for e in SAMPLE_SPACE:\n",
    "    try:\n",
    "        if check_selection(x=e, R1=R1, R2=R2):\n",
    "            solution10.append(e)\n",
    "        else:\n",
    "            pass \n",
    "    except:\n",
    "        except_index.append(e)\n",
    "        print('Exception: {}'.format(e))\n",
    "        \n",
    "end_time = time.time()\n",
    "print('Elapsed Time: {:.3f} min'.format((end_time-start_time)/60))\n",
    "print(len(solution10))\n",
    "print(except_index)"
   ]
  },
  {
   "cell_type": "code",
   "execution_count": null,
   "metadata": {},
   "outputs": [],
   "source": [
    "start_time = time.time()\n",
    "\n",
    "solution11 = []\n",
    "except_index = []\n",
    "for e in SAMPLE_SPACE[half_point:]:\n",
    "    try:\n",
    "        if check_selection(x=e, R1=R1, R2=R2):\n",
    "            solution11.append(e)\n",
    "        else:\n",
    "            pass \n",
    "    except:\n",
    "        except_index.append(e)\n",
    "        print('Exception: {}'.format(e))\n",
    "        \n",
    "end_time = time.time()\n",
    "print('Elapsed Time: {:.3f} min'.format((end_time-start_time)/60))\n",
    "print(len(solution10))\n",
    "print(except_index)"
   ]
  },
  {
   "cell_type": "code",
   "execution_count": null,
   "metadata": {},
   "outputs": [],
   "source": []
  }
 ],
 "metadata": {
  "kernelspec": {
   "display_name": "Python 3",
   "language": "python",
   "name": "python3"
  },
  "language_info": {
   "codemirror_mode": {
    "name": "ipython",
    "version": 3
   },
   "file_extension": ".py",
   "mimetype": "text/x-python",
   "name": "python",
   "nbconvert_exporter": "python",
   "pygments_lexer": "ipython3",
   "version": "3.8.2"
  }
 },
 "nbformat": 4,
 "nbformat_minor": 4
}

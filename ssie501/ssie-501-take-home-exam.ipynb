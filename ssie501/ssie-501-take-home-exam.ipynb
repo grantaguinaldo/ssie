{
 "cells": [
  {
   "cell_type": "code",
   "execution_count": 65,
   "metadata": {},
   "outputs": [],
   "source": [
    "import pandas as pd\n",
    "import numpy as np\n",
    "from itertools import product, chain, combinations\n",
    "import itertools\n",
    "from collections import defaultdict"
   ]
  },
  {
   "cell_type": "code",
   "execution_count": 66,
   "metadata": {},
   "outputs": [],
   "source": [
    "#Problem 3\n",
    "X = [0.2, 0.3, 0.5]\n",
    "Y = [0.1, 0.2, 0.3, 0.4]\n",
    "X_Y = [0.05, 0.03, 0.02, 0.10, 0.04, 0.06, 0.02, 0.18, 0.10, 0.03, 0.05, 0.32]"
   ]
  },
  {
   "cell_type": "code",
   "execution_count": 67,
   "metadata": {},
   "outputs": [],
   "source": [
    "def shannon_entropy(x):\n",
    "    return sum([-1*each*np.log2(each) for each in x])"
   ]
  },
  {
   "cell_type": "code",
   "execution_count": 68,
   "metadata": {},
   "outputs": [
    {
     "name": "stdout",
     "output_type": "stream",
     "text": [
      "Shannon Entropy: 1.485 bits\n"
     ]
    }
   ],
   "source": [
    "H_X = shannon_entropy(X)\n",
    "print('Shannon Entropy: {:.3f} bits'.format(shannon_entropy(X)))"
   ]
  },
  {
   "cell_type": "code",
   "execution_count": 69,
   "metadata": {},
   "outputs": [
    {
     "name": "stdout",
     "output_type": "stream",
     "text": [
      "Shannon Entropy: 1.846 bits\n"
     ]
    }
   ],
   "source": [
    "H_Y = shannon_entropy(Y)\n",
    "print('Shannon Entropy: {:.3f} bits'.format(shannon_entropy(Y)))"
   ]
  },
  {
   "cell_type": "code",
   "execution_count": 70,
   "metadata": {},
   "outputs": [
    {
     "name": "stdout",
     "output_type": "stream",
     "text": [
      "Shannon Entropy: 3.026 bits\n"
     ]
    }
   ],
   "source": [
    "H_XY = shannon_entropy(X_Y)\n",
    "print('Shannon Entropy: {:.3f} bits'.format(shannon_entropy(X_Y)))"
   ]
  },
  {
   "cell_type": "code",
   "execution_count": 71,
   "metadata": {},
   "outputs": [
    {
     "name": "stdout",
     "output_type": "stream",
     "text": [
      "Joint Entropy: 0.305 bits\n"
     ]
    }
   ],
   "source": [
    "T_X_Y = shannon_entropy(X) + shannon_entropy(Y) - H_XY\n",
    "print('Joint Entropy: {:.3f} bits'.format(T_X_Y))"
   ]
  },
  {
   "cell_type": "code",
   "execution_count": 72,
   "metadata": {},
   "outputs": [],
   "source": [
    "card_X = len(X)\n",
    "card_Y = len(Y)\n",
    "car_XY = len(X_Y)"
   ]
  },
  {
   "cell_type": "code",
   "execution_count": 73,
   "metadata": {},
   "outputs": [],
   "source": [
    "I_X = np.log2(card_X)\n",
    "I_Y = np.log2(card_Y)"
   ]
  },
  {
   "cell_type": "code",
   "execution_count": 74,
   "metadata": {},
   "outputs": [
    {
     "name": "stdout",
     "output_type": "stream",
     "text": [
      "Hartley Entropy: 1.585 bits\n"
     ]
    }
   ],
   "source": [
    "print('Hartley Entropy: {:.3f} bits'.format(I_X))"
   ]
  },
  {
   "cell_type": "code",
   "execution_count": 75,
   "metadata": {},
   "outputs": [
    {
     "name": "stdout",
     "output_type": "stream",
     "text": [
      "Hartley Entropy: 2.000 bits\n"
     ]
    }
   ],
   "source": [
    "print('Hartley Entropy: {:.3f} bits'.format(I_Y))"
   ]
  },
  {
   "cell_type": "code",
   "execution_count": 76,
   "metadata": {},
   "outputs": [
    {
     "data": {
      "text/plain": [
       "[(1, 'beta'), (2, 'beta'), (3, 'beta')]"
      ]
     },
     "execution_count": 76,
     "metadata": {},
     "output_type": "execute_result"
    }
   ],
   "source": [
    "#Problem 5\n",
    "A = [1, 2, 3]\n",
    "B = ['beta']\n",
    "cart_prod_A_B = list(product(A, B))\n",
    "cart_prod_A_B"
   ]
  },
  {
   "cell_type": "code",
   "execution_count": 77,
   "metadata": {},
   "outputs": [
    {
     "data": {
      "text/plain": [
       "8"
      ]
     },
     "execution_count": 77,
     "metadata": {},
     "output_type": "execute_result"
    }
   ],
   "source": [
    "num_relations = 2**(len(cart_prod_A_B))\n",
    "num_relations"
   ]
  },
  {
   "cell_type": "code",
   "execution_count": 78,
   "metadata": {},
   "outputs": [],
   "source": [
    "def powerset(iterable):\n",
    "    s = list(iterable)\n",
    "    return chain.from_iterable(combinations(s, r) for r in range(len(s)+1))"
   ]
  },
  {
   "cell_type": "code",
   "execution_count": 79,
   "metadata": {},
   "outputs": [
    {
     "data": {
      "text/plain": [
       "[(),\n",
       " ((1, 'beta'),),\n",
       " ((2, 'beta'),),\n",
       " ((3, 'beta'),),\n",
       " ((1, 'beta'), (2, 'beta')),\n",
       " ((1, 'beta'), (3, 'beta')),\n",
       " ((2, 'beta'), (3, 'beta')),\n",
       " ((1, 'beta'), (2, 'beta'), (3, 'beta'))]"
      ]
     },
     "execution_count": 79,
     "metadata": {},
     "output_type": "execute_result"
    }
   ],
   "source": [
    "list(powerset(cart_prod_A_B))"
   ]
  },
  {
   "cell_type": "code",
   "execution_count": 80,
   "metadata": {},
   "outputs": [
    {
     "data": {
      "text/plain": [
       "[(),\n",
       " ((),),\n",
       " ((1,),),\n",
       " ((2,),),\n",
       " ((3,),),\n",
       " ((1, 2),),\n",
       " ((1, 3),),\n",
       " ((2, 3),),\n",
       " ((1, 2, 3),),\n",
       " ((), (1,)),\n",
       " ((), (2,)),\n",
       " ((), (3,)),\n",
       " ((), (1, 2)),\n",
       " ((), (1, 3)),\n",
       " ((), (2, 3)),\n",
       " ((), (1, 2, 3)),\n",
       " ((1,), (2,)),\n",
       " ((1,), (3,)),\n",
       " ((1,), (1, 2)),\n",
       " ((1,), (1, 3)),\n",
       " ((1,), (2, 3)),\n",
       " ((1,), (1, 2, 3)),\n",
       " ((2,), (3,)),\n",
       " ((2,), (1, 2)),\n",
       " ((2,), (1, 3)),\n",
       " ((2,), (2, 3)),\n",
       " ((2,), (1, 2, 3)),\n",
       " ((3,), (1, 2)),\n",
       " ((3,), (1, 3)),\n",
       " ((3,), (2, 3)),\n",
       " ((3,), (1, 2, 3)),\n",
       " ((1, 2), (1, 3)),\n",
       " ((1, 2), (2, 3)),\n",
       " ((1, 2), (1, 2, 3)),\n",
       " ((1, 3), (2, 3)),\n",
       " ((1, 3), (1, 2, 3)),\n",
       " ((2, 3), (1, 2, 3)),\n",
       " ((), (1,), (2,)),\n",
       " ((), (1,), (3,)),\n",
       " ((), (1,), (1, 2)),\n",
       " ((), (1,), (1, 3)),\n",
       " ((), (1,), (2, 3)),\n",
       " ((), (1,), (1, 2, 3)),\n",
       " ((), (2,), (3,)),\n",
       " ((), (2,), (1, 2)),\n",
       " ((), (2,), (1, 3)),\n",
       " ((), (2,), (2, 3)),\n",
       " ((), (2,), (1, 2, 3)),\n",
       " ((), (3,), (1, 2)),\n",
       " ((), (3,), (1, 3)),\n",
       " ((), (3,), (2, 3)),\n",
       " ((), (3,), (1, 2, 3)),\n",
       " ((), (1, 2), (1, 3)),\n",
       " ((), (1, 2), (2, 3)),\n",
       " ((), (1, 2), (1, 2, 3)),\n",
       " ((), (1, 3), (2, 3)),\n",
       " ((), (1, 3), (1, 2, 3)),\n",
       " ((), (2, 3), (1, 2, 3)),\n",
       " ((1,), (2,), (3,)),\n",
       " ((1,), (2,), (1, 2)),\n",
       " ((1,), (2,), (1, 3)),\n",
       " ((1,), (2,), (2, 3)),\n",
       " ((1,), (2,), (1, 2, 3)),\n",
       " ((1,), (3,), (1, 2)),\n",
       " ((1,), (3,), (1, 3)),\n",
       " ((1,), (3,), (2, 3)),\n",
       " ((1,), (3,), (1, 2, 3)),\n",
       " ((1,), (1, 2), (1, 3)),\n",
       " ((1,), (1, 2), (2, 3)),\n",
       " ((1,), (1, 2), (1, 2, 3)),\n",
       " ((1,), (1, 3), (2, 3)),\n",
       " ((1,), (1, 3), (1, 2, 3)),\n",
       " ((1,), (2, 3), (1, 2, 3)),\n",
       " ((2,), (3,), (1, 2)),\n",
       " ((2,), (3,), (1, 3)),\n",
       " ((2,), (3,), (2, 3)),\n",
       " ((2,), (3,), (1, 2, 3)),\n",
       " ((2,), (1, 2), (1, 3)),\n",
       " ((2,), (1, 2), (2, 3)),\n",
       " ((2,), (1, 2), (1, 2, 3)),\n",
       " ((2,), (1, 3), (2, 3)),\n",
       " ((2,), (1, 3), (1, 2, 3)),\n",
       " ((2,), (2, 3), (1, 2, 3)),\n",
       " ((3,), (1, 2), (1, 3)),\n",
       " ((3,), (1, 2), (2, 3)),\n",
       " ((3,), (1, 2), (1, 2, 3)),\n",
       " ((3,), (1, 3), (2, 3)),\n",
       " ((3,), (1, 3), (1, 2, 3)),\n",
       " ((3,), (2, 3), (1, 2, 3)),\n",
       " ((1, 2), (1, 3), (2, 3)),\n",
       " ((1, 2), (1, 3), (1, 2, 3)),\n",
       " ((1, 2), (2, 3), (1, 2, 3)),\n",
       " ((1, 3), (2, 3), (1, 2, 3)),\n",
       " ((), (1,), (2,), (3,)),\n",
       " ((), (1,), (2,), (1, 2)),\n",
       " ((), (1,), (2,), (1, 3)),\n",
       " ((), (1,), (2,), (2, 3)),\n",
       " ((), (1,), (2,), (1, 2, 3)),\n",
       " ((), (1,), (3,), (1, 2)),\n",
       " ((), (1,), (3,), (1, 3)),\n",
       " ((), (1,), (3,), (2, 3)),\n",
       " ((), (1,), (3,), (1, 2, 3)),\n",
       " ((), (1,), (1, 2), (1, 3)),\n",
       " ((), (1,), (1, 2), (2, 3)),\n",
       " ((), (1,), (1, 2), (1, 2, 3)),\n",
       " ((), (1,), (1, 3), (2, 3)),\n",
       " ((), (1,), (1, 3), (1, 2, 3)),\n",
       " ((), (1,), (2, 3), (1, 2, 3)),\n",
       " ((), (2,), (3,), (1, 2)),\n",
       " ((), (2,), (3,), (1, 3)),\n",
       " ((), (2,), (3,), (2, 3)),\n",
       " ((), (2,), (3,), (1, 2, 3)),\n",
       " ((), (2,), (1, 2), (1, 3)),\n",
       " ((), (2,), (1, 2), (2, 3)),\n",
       " ((), (2,), (1, 2), (1, 2, 3)),\n",
       " ((), (2,), (1, 3), (2, 3)),\n",
       " ((), (2,), (1, 3), (1, 2, 3)),\n",
       " ((), (2,), (2, 3), (1, 2, 3)),\n",
       " ((), (3,), (1, 2), (1, 3)),\n",
       " ((), (3,), (1, 2), (2, 3)),\n",
       " ((), (3,), (1, 2), (1, 2, 3)),\n",
       " ((), (3,), (1, 3), (2, 3)),\n",
       " ((), (3,), (1, 3), (1, 2, 3)),\n",
       " ((), (3,), (2, 3), (1, 2, 3)),\n",
       " ((), (1, 2), (1, 3), (2, 3)),\n",
       " ((), (1, 2), (1, 3), (1, 2, 3)),\n",
       " ((), (1, 2), (2, 3), (1, 2, 3)),\n",
       " ((), (1, 3), (2, 3), (1, 2, 3)),\n",
       " ((1,), (2,), (3,), (1, 2)),\n",
       " ((1,), (2,), (3,), (1, 3)),\n",
       " ((1,), (2,), (3,), (2, 3)),\n",
       " ((1,), (2,), (3,), (1, 2, 3)),\n",
       " ((1,), (2,), (1, 2), (1, 3)),\n",
       " ((1,), (2,), (1, 2), (2, 3)),\n",
       " ((1,), (2,), (1, 2), (1, 2, 3)),\n",
       " ((1,), (2,), (1, 3), (2, 3)),\n",
       " ((1,), (2,), (1, 3), (1, 2, 3)),\n",
       " ((1,), (2,), (2, 3), (1, 2, 3)),\n",
       " ((1,), (3,), (1, 2), (1, 3)),\n",
       " ((1,), (3,), (1, 2), (2, 3)),\n",
       " ((1,), (3,), (1, 2), (1, 2, 3)),\n",
       " ((1,), (3,), (1, 3), (2, 3)),\n",
       " ((1,), (3,), (1, 3), (1, 2, 3)),\n",
       " ((1,), (3,), (2, 3), (1, 2, 3)),\n",
       " ((1,), (1, 2), (1, 3), (2, 3)),\n",
       " ((1,), (1, 2), (1, 3), (1, 2, 3)),\n",
       " ((1,), (1, 2), (2, 3), (1, 2, 3)),\n",
       " ((1,), (1, 3), (2, 3), (1, 2, 3)),\n",
       " ((2,), (3,), (1, 2), (1, 3)),\n",
       " ((2,), (3,), (1, 2), (2, 3)),\n",
       " ((2,), (3,), (1, 2), (1, 2, 3)),\n",
       " ((2,), (3,), (1, 3), (2, 3)),\n",
       " ((2,), (3,), (1, 3), (1, 2, 3)),\n",
       " ((2,), (3,), (2, 3), (1, 2, 3)),\n",
       " ((2,), (1, 2), (1, 3), (2, 3)),\n",
       " ((2,), (1, 2), (1, 3), (1, 2, 3)),\n",
       " ((2,), (1, 2), (2, 3), (1, 2, 3)),\n",
       " ((2,), (1, 3), (2, 3), (1, 2, 3)),\n",
       " ((3,), (1, 2), (1, 3), (2, 3)),\n",
       " ((3,), (1, 2), (1, 3), (1, 2, 3)),\n",
       " ((3,), (1, 2), (2, 3), (1, 2, 3)),\n",
       " ((3,), (1, 3), (2, 3), (1, 2, 3)),\n",
       " ((1, 2), (1, 3), (2, 3), (1, 2, 3)),\n",
       " ((), (1,), (2,), (3,), (1, 2)),\n",
       " ((), (1,), (2,), (3,), (1, 3)),\n",
       " ((), (1,), (2,), (3,), (2, 3)),\n",
       " ((), (1,), (2,), (3,), (1, 2, 3)),\n",
       " ((), (1,), (2,), (1, 2), (1, 3)),\n",
       " ((), (1,), (2,), (1, 2), (2, 3)),\n",
       " ((), (1,), (2,), (1, 2), (1, 2, 3)),\n",
       " ((), (1,), (2,), (1, 3), (2, 3)),\n",
       " ((), (1,), (2,), (1, 3), (1, 2, 3)),\n",
       " ((), (1,), (2,), (2, 3), (1, 2, 3)),\n",
       " ((), (1,), (3,), (1, 2), (1, 3)),\n",
       " ((), (1,), (3,), (1, 2), (2, 3)),\n",
       " ((), (1,), (3,), (1, 2), (1, 2, 3)),\n",
       " ((), (1,), (3,), (1, 3), (2, 3)),\n",
       " ((), (1,), (3,), (1, 3), (1, 2, 3)),\n",
       " ((), (1,), (3,), (2, 3), (1, 2, 3)),\n",
       " ((), (1,), (1, 2), (1, 3), (2, 3)),\n",
       " ((), (1,), (1, 2), (1, 3), (1, 2, 3)),\n",
       " ((), (1,), (1, 2), (2, 3), (1, 2, 3)),\n",
       " ((), (1,), (1, 3), (2, 3), (1, 2, 3)),\n",
       " ((), (2,), (3,), (1, 2), (1, 3)),\n",
       " ((), (2,), (3,), (1, 2), (2, 3)),\n",
       " ((), (2,), (3,), (1, 2), (1, 2, 3)),\n",
       " ((), (2,), (3,), (1, 3), (2, 3)),\n",
       " ((), (2,), (3,), (1, 3), (1, 2, 3)),\n",
       " ((), (2,), (3,), (2, 3), (1, 2, 3)),\n",
       " ((), (2,), (1, 2), (1, 3), (2, 3)),\n",
       " ((), (2,), (1, 2), (1, 3), (1, 2, 3)),\n",
       " ((), (2,), (1, 2), (2, 3), (1, 2, 3)),\n",
       " ((), (2,), (1, 3), (2, 3), (1, 2, 3)),\n",
       " ((), (3,), (1, 2), (1, 3), (2, 3)),\n",
       " ((), (3,), (1, 2), (1, 3), (1, 2, 3)),\n",
       " ((), (3,), (1, 2), (2, 3), (1, 2, 3)),\n",
       " ((), (3,), (1, 3), (2, 3), (1, 2, 3)),\n",
       " ((), (1, 2), (1, 3), (2, 3), (1, 2, 3)),\n",
       " ((1,), (2,), (3,), (1, 2), (1, 3)),\n",
       " ((1,), (2,), (3,), (1, 2), (2, 3)),\n",
       " ((1,), (2,), (3,), (1, 2), (1, 2, 3)),\n",
       " ((1,), (2,), (3,), (1, 3), (2, 3)),\n",
       " ((1,), (2,), (3,), (1, 3), (1, 2, 3)),\n",
       " ((1,), (2,), (3,), (2, 3), (1, 2, 3)),\n",
       " ((1,), (2,), (1, 2), (1, 3), (2, 3)),\n",
       " ((1,), (2,), (1, 2), (1, 3), (1, 2, 3)),\n",
       " ((1,), (2,), (1, 2), (2, 3), (1, 2, 3)),\n",
       " ((1,), (2,), (1, 3), (2, 3), (1, 2, 3)),\n",
       " ((1,), (3,), (1, 2), (1, 3), (2, 3)),\n",
       " ((1,), (3,), (1, 2), (1, 3), (1, 2, 3)),\n",
       " ((1,), (3,), (1, 2), (2, 3), (1, 2, 3)),\n",
       " ((1,), (3,), (1, 3), (2, 3), (1, 2, 3)),\n",
       " ((1,), (1, 2), (1, 3), (2, 3), (1, 2, 3)),\n",
       " ((2,), (3,), (1, 2), (1, 3), (2, 3)),\n",
       " ((2,), (3,), (1, 2), (1, 3), (1, 2, 3)),\n",
       " ((2,), (3,), (1, 2), (2, 3), (1, 2, 3)),\n",
       " ((2,), (3,), (1, 3), (2, 3), (1, 2, 3)),\n",
       " ((2,), (1, 2), (1, 3), (2, 3), (1, 2, 3)),\n",
       " ((3,), (1, 2), (1, 3), (2, 3), (1, 2, 3)),\n",
       " ((), (1,), (2,), (3,), (1, 2), (1, 3)),\n",
       " ((), (1,), (2,), (3,), (1, 2), (2, 3)),\n",
       " ((), (1,), (2,), (3,), (1, 2), (1, 2, 3)),\n",
       " ((), (1,), (2,), (3,), (1, 3), (2, 3)),\n",
       " ((), (1,), (2,), (3,), (1, 3), (1, 2, 3)),\n",
       " ((), (1,), (2,), (3,), (2, 3), (1, 2, 3)),\n",
       " ((), (1,), (2,), (1, 2), (1, 3), (2, 3)),\n",
       " ((), (1,), (2,), (1, 2), (1, 3), (1, 2, 3)),\n",
       " ((), (1,), (2,), (1, 2), (2, 3), (1, 2, 3)),\n",
       " ((), (1,), (2,), (1, 3), (2, 3), (1, 2, 3)),\n",
       " ((), (1,), (3,), (1, 2), (1, 3), (2, 3)),\n",
       " ((), (1,), (3,), (1, 2), (1, 3), (1, 2, 3)),\n",
       " ((), (1,), (3,), (1, 2), (2, 3), (1, 2, 3)),\n",
       " ((), (1,), (3,), (1, 3), (2, 3), (1, 2, 3)),\n",
       " ((), (1,), (1, 2), (1, 3), (2, 3), (1, 2, 3)),\n",
       " ((), (2,), (3,), (1, 2), (1, 3), (2, 3)),\n",
       " ((), (2,), (3,), (1, 2), (1, 3), (1, 2, 3)),\n",
       " ((), (2,), (3,), (1, 2), (2, 3), (1, 2, 3)),\n",
       " ((), (2,), (3,), (1, 3), (2, 3), (1, 2, 3)),\n",
       " ((), (2,), (1, 2), (1, 3), (2, 3), (1, 2, 3)),\n",
       " ((), (3,), (1, 2), (1, 3), (2, 3), (1, 2, 3)),\n",
       " ((1,), (2,), (3,), (1, 2), (1, 3), (2, 3)),\n",
       " ((1,), (2,), (3,), (1, 2), (1, 3), (1, 2, 3)),\n",
       " ((1,), (2,), (3,), (1, 2), (2, 3), (1, 2, 3)),\n",
       " ((1,), (2,), (3,), (1, 3), (2, 3), (1, 2, 3)),\n",
       " ((1,), (2,), (1, 2), (1, 3), (2, 3), (1, 2, 3)),\n",
       " ((1,), (3,), (1, 2), (1, 3), (2, 3), (1, 2, 3)),\n",
       " ((2,), (3,), (1, 2), (1, 3), (2, 3), (1, 2, 3)),\n",
       " ((), (1,), (2,), (3,), (1, 2), (1, 3), (2, 3)),\n",
       " ((), (1,), (2,), (3,), (1, 2), (1, 3), (1, 2, 3)),\n",
       " ((), (1,), (2,), (3,), (1, 2), (2, 3), (1, 2, 3)),\n",
       " ((), (1,), (2,), (3,), (1, 3), (2, 3), (1, 2, 3)),\n",
       " ((), (1,), (2,), (1, 2), (1, 3), (2, 3), (1, 2, 3)),\n",
       " ((), (1,), (3,), (1, 2), (1, 3), (2, 3), (1, 2, 3)),\n",
       " ((), (2,), (3,), (1, 2), (1, 3), (2, 3), (1, 2, 3)),\n",
       " ((1,), (2,), (3,), (1, 2), (1, 3), (2, 3), (1, 2, 3)),\n",
       " ((), (1,), (2,), (3,), (1, 2), (1, 3), (2, 3), (1, 2, 3))]"
      ]
     },
     "execution_count": 80,
     "metadata": {},
     "output_type": "execute_result"
    }
   ],
   "source": [
    "list(powerset(powerset(A)))"
   ]
  },
  {
   "cell_type": "code",
   "execution_count": 81,
   "metadata": {},
   "outputs": [
    {
     "name": "stdout",
     "output_type": "stream",
     "text": [
      "()\n",
      "((),)\n",
      "(((),),)\n",
      "((('beta',),),)\n",
      "(((), ('beta',)),)\n",
      "((), ((),))\n",
      "((), (('beta',),))\n",
      "((), ((), ('beta',)))\n",
      "(((),), (('beta',),))\n",
      "(((),), ((), ('beta',)))\n",
      "((('beta',),), ((), ('beta',)))\n",
      "((), ((),), (('beta',),))\n",
      "((), ((),), ((), ('beta',)))\n",
      "((), (('beta',),), ((), ('beta',)))\n",
      "(((),), (('beta',),), ((), ('beta',)))\n",
      "((), ((),), (('beta',),), ((), ('beta',)))\n"
     ]
    }
   ],
   "source": [
    "for each in list(powerset(list(powerset(list(powerset(B)))))):\n",
    "    print(each)"
   ]
  },
  {
   "cell_type": "code",
   "execution_count": 82,
   "metadata": {},
   "outputs": [],
   "source": [
    "A = ['12',\n",
    "'21',\n",
    "'13',\n",
    "'31',\n",
    "'14',\n",
    "'41',\n",
    "'23',\n",
    "'32',\n",
    "'24',\n",
    "'42',\n",
    "'25',\n",
    "'52',\n",
    "'26',\n",
    "'62',\n",
    "'34',\n",
    "'43',\n",
    "'35',\n",
    "'53',\n",
    "'37',\n",
    "'73',\n",
    "'38',\n",
    "'83',\n",
    "'46',\n",
    "'64',\n",
    "'56',\n",
    "'65',\n",
    "'57',\n",
    "'75',\n",
    "'58',\n",
    "'85',\n",
    "'68',\n",
    "'86',\n",
    "'78',\n",
    "'87']\n"
   ]
  },
  {
   "cell_type": "code",
   "execution_count": 83,
   "metadata": {},
   "outputs": [
    {
     "data": {
      "text/plain": [
       "'12'"
      ]
     },
     "execution_count": 83,
     "metadata": {},
     "output_type": "execute_result"
    }
   ],
   "source": [
    "A[0]"
   ]
  },
  {
   "cell_type": "code",
   "execution_count": 84,
   "metadata": {},
   "outputs": [],
   "source": [
    "bi = {'2': 'b',\n",
    "'3':'f',\n",
    "'5':'h',\n",
    "'7':'d',\n",
    "'1':'g',\n",
    "'4':'e',\n",
    "'8':'a',\n",
    "'6':'c',}"
   ]
  },
  {
   "cell_type": "code",
   "execution_count": 85,
   "metadata": {},
   "outputs": [
    {
     "data": {
      "text/plain": [
       "['gb',\n",
       " 'bg',\n",
       " 'gf',\n",
       " 'fg',\n",
       " 'ge',\n",
       " 'eg',\n",
       " 'bf',\n",
       " 'fb',\n",
       " 'be',\n",
       " 'eb',\n",
       " 'bh',\n",
       " 'hb',\n",
       " 'bc',\n",
       " 'cb',\n",
       " 'fe',\n",
       " 'ef',\n",
       " 'fh',\n",
       " 'hf',\n",
       " 'fd',\n",
       " 'df',\n",
       " 'fa',\n",
       " 'af',\n",
       " 'ec',\n",
       " 'ce',\n",
       " 'hc',\n",
       " 'ch',\n",
       " 'hd',\n",
       " 'dh',\n",
       " 'ha',\n",
       " 'ah',\n",
       " 'ca',\n",
       " 'ac',\n",
       " 'da',\n",
       " 'ad']"
      ]
     },
     "execution_count": 85,
     "metadata": {},
     "output_type": "execute_result"
    }
   ],
   "source": [
    "[''.join(each) for each in [[bi[each[0]], bi[each[1]]] for each in A]]"
   ]
  },
  {
   "cell_type": "code",
   "execution_count": 86,
   "metadata": {},
   "outputs": [],
   "source": [
    "Z = ['ac',\n",
    "'ca',\n",
    "'ad',\n",
    "'da',\n",
    "'af',\n",
    "'fa',\n",
    "'ah',\n",
    "'ha',\n",
    "'bc',\n",
    "'cb',\n",
    "'be',\n",
    "'eb',\n",
    "'bf',\n",
    "'fb',\n",
    "'bg',\n",
    "'gb',\n",
    "'bh',\n",
    "'hb',\n",
    "'ce',\n",
    "'ec',\n",
    "'ch',\n",
    "'hc',\n",
    "'df',\n",
    "'fd',\n",
    "'dh',\n",
    "'hd',\n",
    "'ef',\n",
    "'fe',\n",
    "'eg',\n",
    "'ge',\n",
    "'fg',\n",
    "'gf',\n",
    "'fh',\n",
    "'hf']"
   ]
  },
  {
   "cell_type": "code",
   "execution_count": 87,
   "metadata": {},
   "outputs": [
    {
     "name": "stdout",
     "output_type": "stream",
     "text": [
      "Element ac is in List.\n",
      "Element ca is in List.\n",
      "Element ad is in List.\n",
      "Element da is in List.\n",
      "Element af is in List.\n",
      "Element fa is in List.\n",
      "Element ah is in List.\n",
      "Element ha is in List.\n",
      "Element bc is in List.\n",
      "Element cb is in List.\n",
      "Element be is in List.\n",
      "Element eb is in List.\n",
      "Element bf is in List.\n",
      "Element fb is in List.\n",
      "Element bg is in List.\n",
      "Element gb is in List.\n",
      "Element bh is in List.\n",
      "Element hb is in List.\n",
      "Element ce is in List.\n",
      "Element ec is in List.\n",
      "Element ch is in List.\n",
      "Element hc is in List.\n",
      "Element df is in List.\n",
      "Element fd is in List.\n",
      "Element dh is in List.\n",
      "Element hd is in List.\n",
      "Element ef is in List.\n",
      "Element fe is in List.\n",
      "Element eg is in List.\n",
      "Element ge is in List.\n",
      "Element fg is in List.\n",
      "Element gf is in List.\n",
      "Element fh is in List.\n",
      "Element hf is in List.\n"
     ]
    }
   ],
   "source": [
    "for i in Z:\n",
    "    if i in [''.join(each) for each in [[bi[each[0]], bi[each[1]]] for each in A]]:\n",
    "        print('Element {} is in List.'.format(i))\n",
    "    else:\n",
    "        print('Not In List')"
   ]
  },
  {
   "cell_type": "code",
   "execution_count": 127,
   "metadata": {},
   "outputs": [],
   "source": [
    "R1 = ['aa', 'ab', 'ai',\n",
    "'bb', 'bc', 'bd',\n",
    "'cc', 'cg', 'ci',\n",
    "'db', 'dd',\n",
    "'ec', 'ee', 'ej',\n",
    "'fa', 'fh', 'fk', \n",
    "'gc', 'gd', 'gi', \n",
    "'hf', 'hh', 'hk', \n",
    "'ic','ig', 'ii', 'ij', \n",
    "'je', 'jh', 'jj',\n",
    "'ka', 'kf', 'kh', 'kk']\n",
    "\n",
    "R2 = ['11', '12', '13', '21', '22', '31', '33', '35', '41', '42', '44', '54', '55']\n",
    "\n",
    "#Forward Decode Table.\n",
    "h_x = {\n",
    "'a':'1',\n",
    "'b':'2',\n",
    "'c':'2',\n",
    "'d':'4',\n",
    "'e':'5',\n",
    "'f':'5',\n",
    "'g':'2',\n",
    "'h':'3',\n",
    "'i':'5',\n",
    "'j':'5',\n",
    "'k':'1'}\n",
    "\n",
    "#Backwards Decode Table.\n",
    "data = sorted(list(zip(list(h_x.values()), list(h_x.keys()))))\n",
    "d = defaultdict(list)\n",
    "for r1, r2 in data:\n",
    "    d[r1].append(r2)\n",
    "h_x_inv = dict(d)\n",
    "\n",
    "#Forward Decode\n",
    "initial_decode = [''.join(each) for each in [[h_x[each[0]], h_x[each[1]]] for each in R1]] \n",
    "#Check that elements in this list are in R2\n",
    "\n",
    "#Check that this decode list is in R1\n",
    "#Forward Decode\n",
    "second_pos = []\n",
    "nested_decode = []\n",
    "dict_decode = {}\n",
    "for eachi in initial_decode:\n",
    "    a = [h_x_inv[each[0][0]] for each in eachi]\n",
    "    cart_prod_i = [element for element in itertools.product(a[0], a[1])]\n",
    "    d = [''.join(each) for each in cart_prod_i]\n",
    "    nested_decode.append(d)\n",
    "    dict_decode[eachi] = d"
   ]
  },
  {
   "cell_type": "code",
   "execution_count": 128,
   "metadata": {},
   "outputs": [
    {
     "data": {
      "text/plain": [
       "{'1': ['a', 'k'],\n",
       " '2': ['b', 'c', 'g'],\n",
       " '3': ['h'],\n",
       " '4': ['d'],\n",
       " '5': ['e', 'f', 'i', 'j']}"
      ]
     },
     "execution_count": 128,
     "metadata": {},
     "output_type": "execute_result"
    }
   ],
   "source": [
    "h_x_inv"
   ]
  },
  {
   "cell_type": "code",
   "execution_count": 129,
   "metadata": {},
   "outputs": [],
   "source": [
    "#Takes R1 and decodes to R2 based on proposed h(x)\n",
    "#initial_decode"
   ]
  },
  {
   "cell_type": "code",
   "execution_count": 133,
   "metadata": {},
   "outputs": [],
   "source": [
    "#Takes R2 and decodes to R1 based on proposed h-1(x)\n",
    "#dict_decode"
   ]
  },
  {
   "cell_type": "code",
   "execution_count": 131,
   "metadata": {},
   "outputs": [
    {
     "name": "stdout",
     "output_type": "stream",
     "text": [
      "['11', '12', '13', '21', '22', '31', '33', '35', '41', '42', '44', '54', '55']\n",
      "Are elements in R2 included in the decode table?: False\n"
     ]
    }
   ],
   "source": [
    "#keys of dict_decode need to match what is in R2 to be a strong homomorphic image.\n",
    "print(R2)\n",
    "print('Are elements in R2 included in the decode table?: {}'.format(set(list(dict_decode.keys())) == set(R2)))"
   ]
  },
  {
   "cell_type": "code",
   "execution_count": 132,
   "metadata": {},
   "outputs": [
    {
     "name": "stdout",
     "output_type": "stream",
     "text": [
      "11 is included in R2******\n",
      "12 is included in R2******\n",
      "===15 is NOT included===\n",
      "22 is included in R2******\n",
      "===24 is NOT included===\n",
      "===25 is NOT included===\n",
      "42 is included in R2******\n",
      "44 is included in R2******\n",
      "===52 is NOT included===\n",
      "55 is included in R2******\n",
      "===51 is NOT included===\n",
      "===53 is NOT included===\n",
      "35 is included in R2******\n",
      "33 is included in R2******\n",
      "31 is included in R2******\n",
      "13 is included in R2******\n"
     ]
    }
   ],
   "source": [
    "included_r2 = []\n",
    "\n",
    "for each in list(dict_decode.keys()):\n",
    "    if each in R2:\n",
    "        print(\"{} is included in R2******\".format(each))\n",
    "    else:\n",
    "        print('==={} is NOT included==='.format(each))"
   ]
  },
  {
   "cell_type": "code",
   "execution_count": null,
   "metadata": {},
   "outputs": [],
   "source": []
  }
 ],
 "metadata": {
  "kernelspec": {
   "display_name": "Python 3",
   "language": "python",
   "name": "python3"
  },
  "language_info": {
   "codemirror_mode": {
    "name": "ipython",
    "version": 3
   },
   "file_extension": ".py",
   "mimetype": "text/x-python",
   "name": "python",
   "nbconvert_exporter": "python",
   "pygments_lexer": "ipython3",
   "version": "3.8.2"
  }
 },
 "nbformat": 4,
 "nbformat_minor": 4
}

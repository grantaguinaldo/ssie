{
 "cells": [
  {
   "cell_type": "code",
   "execution_count": 1,
   "metadata": {},
   "outputs": [],
   "source": [
    "import numpy as np\n",
    "import scipy as sp\n",
    "from scipy.linalg import expm \n",
    "import matplotlib.pyplot as plt"
   ]
  },
  {
   "cell_type": "markdown",
   "metadata": {},
   "source": [
    "### Working with Real Eigenvalues"
   ]
  },
  {
   "cell_type": "code",
   "execution_count": 2,
   "metadata": {},
   "outputs": [],
   "source": [
    "#TODO: Factor A into: A = P * D * P_inv and compute e^A.\n",
    "\n",
    "# Assumes that A is diagonalizable.\n",
    "A = np.array([[0, 5], \n",
    "              [-1, 6]])"
   ]
  },
  {
   "cell_type": "code",
   "execution_count": 3,
   "metadata": {},
   "outputs": [
    {
     "data": {
      "text/plain": [
       "(array([1., 5.]),\n",
       " array([[-0.98058068, -0.70710678],\n",
       "        [-0.19611614, -0.70710678]]))"
      ]
     },
     "execution_count": 3,
     "metadata": {},
     "output_type": "execute_result"
    }
   ],
   "source": [
    "np.linalg.eig(A)"
   ]
  },
  {
   "cell_type": "code",
   "execution_count": 4,
   "metadata": {},
   "outputs": [],
   "source": [
    "#Eigenvectors of A\n",
    "P = np.linalg.eig(A)[1]"
   ]
  },
  {
   "cell_type": "code",
   "execution_count": 5,
   "metadata": {},
   "outputs": [],
   "source": [
    "#Eigenvalues of A placed in a 2 x 2 diagonal matrix.\n",
    "D = np.array([[1, 0], \n",
    "              [0, 5]])"
   ]
  },
  {
   "cell_type": "code",
   "execution_count": 6,
   "metadata": {},
   "outputs": [
    {
     "data": {
      "text/plain": [
       "array([[-1.27475488,  1.27475488],\n",
       "       [ 0.35355339, -1.76776695]])"
      ]
     },
     "execution_count": 6,
     "metadata": {},
     "output_type": "execute_result"
    }
   ],
   "source": [
    "# Inverse of Eigenvector matrix.\n",
    "P_inv = np.linalg.inv(P)\n",
    "P_inv"
   ]
  },
  {
   "cell_type": "code",
   "execution_count": 7,
   "metadata": {},
   "outputs": [
    {
     "data": {
      "text/plain": [
       "array([[ 0.,  5.],\n",
       "       [-1.,  6.]])"
      ]
     },
     "execution_count": 7,
     "metadata": {},
     "output_type": "execute_result"
    }
   ],
   "source": [
    "A_factor = P.dot(D).dot(P_inv)\n",
    "A_factor"
   ]
  },
  {
   "cell_type": "code",
   "execution_count": 8,
   "metadata": {},
   "outputs": [],
   "source": [
    "#When computing e^A = P * e^D * P_inv\n",
    "\n",
    "# If D is diagonalizable then you can raise each element to base `e`.\n",
    "#QUESTION: Is there a case where issues arrise if the matrix is non-diagonalizable?\n",
    "e_raised_D = np.exp(D)"
   ]
  },
  {
   "cell_type": "code",
   "execution_count": 9,
   "metadata": {},
   "outputs": [
    {
     "data": {
      "text/plain": [
       "array([[-33.15073729, 182.95064689],\n",
       "       [-35.59166902, 184.28217822]])"
      ]
     },
     "execution_count": 9,
     "metadata": {},
     "output_type": "execute_result"
    }
   ],
   "source": [
    "e_raised_A = P.dot(e_raised_D).dot(P_inv)\n",
    "e_raised_A"
   ]
  },
  {
   "cell_type": "code",
   "execution_count": 10,
   "metadata": {},
   "outputs": [
    {
     "data": {
      "text/plain": [
       "array([[-33.70543749, 182.11859659],\n",
       "       [-36.42371932, 184.83687842]])"
      ]
     },
     "execution_count": 10,
     "metadata": {},
     "output_type": "execute_result"
    }
   ],
   "source": [
    "# Check if e^A can be computed directly using a package. \n",
    "# Package uses Pade approximation to there will be rounding errors.\n",
    "# https://docs.scipy.org/doc/scipy/reference/generated/scipy.linalg.expm.html\n",
    "\n",
    "approx_e_raised_A = sp.linalg.expm(A)\n",
    "approx_e_raised_A\n",
    "# Same approx answer as the factorization. Check."
   ]
  },
  {
   "cell_type": "code",
   "execution_count": 11,
   "metadata": {},
   "outputs": [],
   "source": [
    "N = np.array([[1, 0], [1, 1]])"
   ]
  },
  {
   "cell_type": "code",
   "execution_count": 12,
   "metadata": {},
   "outputs": [
    {
     "data": {
      "text/plain": [
       "(array([1., 1.]),\n",
       " array([[ 0.00000000e+00,  2.22044605e-16],\n",
       "        [ 1.00000000e+00, -1.00000000e+00]]))"
      ]
     },
     "execution_count": 12,
     "metadata": {},
     "output_type": "execute_result"
    }
   ],
   "source": [
    "np.linalg.eig(N)\n",
    "# Not diagonalizable since the algebraic multiplicity (1) does not equal n (n = 2). "
   ]
  },
  {
   "cell_type": "code",
   "execution_count": 13,
   "metadata": {},
   "outputs": [
    {
     "data": {
      "text/plain": [
       "array([[2.71828183, 0.        ],\n",
       "       [2.71828183, 2.71828183]])"
      ]
     },
     "execution_count": 13,
     "metadata": {},
     "output_type": "execute_result"
    }
   ],
   "source": [
    "sp.linalg.expm(N)"
   ]
  },
  {
   "cell_type": "code",
   "execution_count": 14,
   "metadata": {},
   "outputs": [],
   "source": [
    "#Example\n",
    "\n",
    "B = np.array([[3, 4], \n",
    "              [3, 2]])"
   ]
  },
  {
   "cell_type": "code",
   "execution_count": 15,
   "metadata": {},
   "outputs": [
    {
     "data": {
      "text/plain": [
       "(array([ 6., -1.]),\n",
       " array([[ 0.8       , -0.70710678],\n",
       "        [ 0.6       ,  0.70710678]]))"
      ]
     },
     "execution_count": 15,
     "metadata": {},
     "output_type": "execute_result"
    }
   ],
   "source": [
    "eigen_obj = np.linalg.eig(B)\n",
    "eigen_obj"
   ]
  },
  {
   "cell_type": "markdown",
   "metadata": {},
   "source": [
    "Dominant eigenvalue is $|\\lambda_{d}| = 6$, which corresponds to the vector $(0.8, 0.6)^{T}$. Given the fact that the dominant eigenvalue is $>1$, the overall system is $\\textit{unstable}$ and will diverge to infinity.\n",
    "\n",
    "In addition given that $|\\lambda_1| = 6$ and $|\\lambda_2| = 1$, we can conclude that $\\lambda_1$ will be growing and that $\\lambda_2$ will be conserved."
   ]
  },
  {
   "cell_type": "code",
   "execution_count": 16,
   "metadata": {},
   "outputs": [
    {
     "data": {
      "text/plain": [
       "array([[3, 4],\n",
       "       [3, 2]])"
      ]
     },
     "execution_count": 16,
     "metadata": {},
     "output_type": "execute_result"
    }
   ],
   "source": [
    "np.linalg.matrix_power(B, 1)\n",
    "#QUESTION: What trend should I see here if I vary the power that the matrix is raised to?\n",
    "#          Should I see the ratio between the components converve to a certain ratio?"
   ]
  },
  {
   "cell_type": "code",
   "execution_count": 17,
   "metadata": {},
   "outputs": [
    {
     "data": {
      "text/plain": [
       "1.0"
      ]
     },
     "execution_count": 17,
     "metadata": {},
     "output_type": "execute_result"
    }
   ],
   "source": [
    "initial_ratio = np.linalg.matrix_power(B, 1)[:,0][0] / np.linalg.matrix_power(B, 1)[:,0][1]\n",
    "initial_ratio"
   ]
  },
  {
   "cell_type": "code",
   "execution_count": 18,
   "metadata": {},
   "outputs": [
    {
     "data": {
      "image/png": "[encoded data removed]",
      "text/plain": [
       "<Figure size 432x288 with 1 Axes>"
      ]
     },
     "metadata": {
      "needs_background": "light"
     },
     "output_type": "display_data"
    }
   ],
   "source": [
    "plt.plot([np.linalg.matrix_power(B, n)[:,0][0]/np.linalg.matrix_power(B, n)[:,0][1] for n in range(1, 25)])\n",
    "plt.ylabel('Ratio (arb. units)')\n",
    "plt.xlabel('Iteration')\n",
    "plt.xlim(0, 25)\n",
    "plt.show()"
   ]
  },
  {
   "cell_type": "code",
   "execution_count": null,
   "metadata": {},
   "outputs": [],
   "source": []
  }
 ],
 "metadata": {
  "kernelspec": {
   "display_name": "Python 3",
   "language": "python",
   "name": "python3"
  },
  "language_info": {
   "codemirror_mode": {
    "name": "ipython",
    "version": 3
   },
   "file_extension": ".py",
   "mimetype": "text/x-python",
   "name": "python",
   "nbconvert_exporter": "python",
   "pygments_lexer": "ipython3",
   "version": "3.8.2"
  }
 },
 "nbformat": 4,
 "nbformat_minor": 4
}

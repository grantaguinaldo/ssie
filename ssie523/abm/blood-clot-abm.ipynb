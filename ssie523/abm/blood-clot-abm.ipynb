{
 "cells": [
  {
   "cell_type": "code",
   "execution_count": 4,
   "metadata": {},
   "outputs": [],
   "source": [
    "import numpy as np\n",
    "import random\n",
    "import matplotlib.pyplot as plt\n",
    "import pycxsimulator as pycx"
   ]
  },
  {
   "cell_type": "code",
   "execution_count": 5,
   "metadata": {},
   "outputs": [],
   "source": [
    "class cell:\n",
    "    pass\n",
    "\n",
    "def initialize():\n",
    "    global n, cells\n",
    "    n = 1000\n",
    "    cells = []\n",
    "    for i in range(n):\n",
    "        c = cell()\n",
    "        c.x = random.random()\n",
    "        c.y = random.random() * 0.2\n",
    "        c.vx = random.random() * 0.03\n",
    "        c.vy = (random.random() - 0.5) * 0.002\n",
    "        c.p_stop = 0.0001\n",
    "        c.p_stick = 0.5\n",
    "        c.state = 0 # moving, binary.\n",
    "        cells.append(c)\n",
    "        \n",
    "def observe():\n",
    "    global n, cells\n",
    "    plt.cla()\n",
    "    plt.plot([each.x for each in cells if each.state == 0], \n",
    "             [each.y for each in cells if each.state == 0], 'bo')\n",
    "    plt.plot([each.x for each in cells if each.state == 1], \n",
    "             [each.y for each in cells if each.state == 1], 'ro')\n",
    "    plt.axis('image')\n",
    "    plt.axis([0, 1, -0.2, 0.4])\n",
    "    plt.show()\n",
    "\n",
    "    Dt = 0.1    \n",
    "def update():\n",
    "    global n, cells\n",
    "    # move in vx, vy\n",
    "    c.x += c.vx * Dt\n",
    "    c.y += c.vy * Dt\n",
    "    \n",
    "    #simulate continious flow in x direction\n",
    "    if c.x > 1:\n",
    "        c.x = 0\n",
    "    if c.y < 0:\n",
    "        c.x = 1\n",
    "        \n",
    "    #simulate continious flow in y direction\n",
    "    if c.y > 0.2:\n",
    "        c.y = 0.2\n",
    "        c.vy*= -1\n",
    "    \n",
    "    if c.y < 0:\n",
    "        c.y = 0\n",
    "        c.vy *= -1\n",
    "    # stop or not, based on neighbors"
   ]
  },
  {
   "cell_type": "code",
   "execution_count": 6,
   "metadata": {},
   "outputs": [
    {
     "name": "stderr",
     "output_type": "stream",
     "text": [
      "Exception in Tkinter callback\n",
      "Traceback (most recent call last):\n",
      "  File \"/opt/miniconda3/envs/ssie/lib/python3.8/tkinter/__init__.py\", line 1883, in __call__\n",
      "    return self.func(*args)\n",
      "  File \"/opt/miniconda3/envs/ssie/lib/python3.8/tkinter/__init__.py\", line 804, in callit\n",
      "    func(*args)\n",
      "  File \"/Users/gta/Desktop/abm/pycxsimulator.py\", line 240, in stepModel\n",
      "    self.modelStepFunc()\n",
      "  File \"<ipython-input-5-6d24656d1e93>\", line 34, in update\n",
      "    c.x += c.vx * Dt\n",
      "NameError: name 'c' is not defined\n"
     ]
    }
   ],
   "source": [
    "pycx.GUI().start(func=[initialize, observe, update])"
   ]
  },
  {
   "cell_type": "code",
   "execution_count": null,
   "metadata": {},
   "outputs": [],
   "source": []
  }
 ],
 "metadata": {
  "kernelspec": {
   "display_name": "Python 3",
   "language": "python",
   "name": "python3"
  },
  "language_info": {
   "codemirror_mode": {
    "name": "ipython",
    "version": 3
   },
   "file_extension": ".py",
   "mimetype": "text/x-python",
   "name": "python",
   "nbconvert_exporter": "python",
   "pygments_lexer": "ipython3",
   "version": "3.8.2"
  }
 },
 "nbformat": 4,
 "nbformat_minor": 4
}

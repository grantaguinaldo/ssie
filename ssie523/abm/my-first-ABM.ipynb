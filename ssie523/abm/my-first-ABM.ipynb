{
 "cells": [
  {
   "cell_type": "code",
   "execution_count": 4,
   "metadata": {},
   "outputs": [],
   "source": [
    "%run abm-segregation-continuous.py"
   ]
  },
  {
   "cell_type": "code",
   "execution_count": 6,
   "metadata": {},
   "outputs": [],
   "source": [
    "class human:\n",
    "    def __init__(self, name):\n",
    "        self.age = 0\n",
    "        self.name = name\n",
    "    def cry(self):\n",
    "        print('meow')\n",
    "    def get_old(self):\n",
    "        self.age += 1\n",
    "    def how_old_are_you(self):\n",
    "        print(\"I'm \" + str(self.age) + \" years old.\")"
   ]
  },
  {
   "cell_type": "code",
   "execution_count": 7,
   "metadata": {},
   "outputs": [],
   "source": [
    "hiroki = human('hiroki')"
   ]
  },
  {
   "cell_type": "code",
   "execution_count": 8,
   "metadata": {},
   "outputs": [
    {
     "name": "stdout",
     "output_type": "stream",
     "text": [
      "meow\n"
     ]
    }
   ],
   "source": [
    "hiroki.cry()"
   ]
  },
  {
   "cell_type": "code",
   "execution_count": 39,
   "metadata": {},
   "outputs": [],
   "source": [
    "hiroki.get_old()"
   ]
  },
  {
   "cell_type": "code",
   "execution_count": 40,
   "metadata": {},
   "outputs": [
    {
     "name": "stdout",
     "output_type": "stream",
     "text": [
      "I'm 30 years old.\n"
     ]
    }
   ],
   "source": [
    "hiroki.how_old_are_you()"
   ]
  },
  {
   "cell_type": "code",
   "execution_count": 1,
   "metadata": {},
   "outputs": [],
   "source": [
    "# blood clot ABM\n",
    "\n",
    "from pylab import *\n",
    "\n",
    "class cell:\n",
    "    pass"
   ]
  },
  {
   "cell_type": "code",
   "execution_count": 2,
   "metadata": {},
   "outputs": [],
   "source": [
    "def initialize():\n",
    "    global n, cells\n",
    "    n = 1000\n",
    "    cells = []\n",
    "    for i in range(n):\n",
    "        c = cell()\n",
    "        c.x = random()\n",
    "        c.y = random() * 0.2\n",
    "        c.vx = random() * 0.03\n",
    "        c.vy = (random() - 0.5) * 0.002\n",
    "        c.p_stop = 0.00002\n",
    "        c.p_stick = 0.5\n",
    "        c.state = 0 # moving\n",
    "        cells.append(c)"
   ]
  },
  {
   "cell_type": "code",
   "execution_count": 3,
   "metadata": {},
   "outputs": [],
   "source": [
    "def observe():\n",
    "    global cells\n",
    "    cla()\n",
    "    plot([c.x for c in cells if c.state == 0],\n",
    "         [c.y for c in cells if c.state == 0], 'bo')\n",
    "    plot([c.x for c in cells if c.state == 1],\n",
    "         [c.y for c in cells if c.state == 1], 'ro')\n",
    "    axis('image');\n",
    "    axis([0, 1, -0.4, 0.6])"
   ]
  },
  {
   "cell_type": "code",
   "execution_count": 4,
   "metadata": {},
   "outputs": [],
   "source": [
    "Dt = 0.1\n",
    "def update():\n",
    "    global cells\n",
    "    for c in cells:\n",
    "        if c.state == 0:\n",
    "            # move in (vx, vy)\n",
    "            c.x += c.vx * Dt\n",
    "            c.y += c.vy * Dt\n",
    "            \n",
    "            if c.x > 1: \n",
    "                c.x = 0\n",
    "            if c.x < 0: \n",
    "                c.x = 1\n",
    "            \n",
    "            if c.y > 0.2: \n",
    "                c.y = 0.2\n",
    "                c.vy *= -1\n",
    "            if c.y < 0:\n",
    "                c.y = 0\n",
    "                c.vy *= -1\n",
    "            \n",
    "            # stop or not? given the states of neighbors\n",
    "            if random() < c.p_stop:\n",
    "                c.state = 1\n",
    "            else:\n",
    "                for c2 in cells:\n",
    "                    if c != c2:\n",
    "                        if c2.state == 1:\n",
    "                            if (0.5-abs(c.x-c2.x-0.5))**2 + (c.y-c2.y)**2 < 0.00005:\n",
    "                                if random() < c.p_stick:\n",
    "                                    c.state = 1"
   ]
  },
  {
   "cell_type": "code",
   "execution_count": 5,
   "metadata": {},
   "outputs": [],
   "source": [
    "import pycxsimulator\n",
    "pycxsimulator.GUI().start(func=[initialize, observe, update])"
   ]
  },
  {
   "cell_type": "code",
   "execution_count": null,
   "metadata": {},
   "outputs": [],
   "source": []
  }
 ],
 "metadata": {
  "kernelspec": {
   "display_name": "Python 3",
   "language": "python",
   "name": "python3"
  },
  "language_info": {
   "codemirror_mode": {
    "name": "ipython",
    "version": 3
   },
   "file_extension": ".py",
   "mimetype": "text/x-python",
   "name": "python",
   "nbconvert_exporter": "python",
   "pygments_lexer": "ipython3",
   "version": "3.8.2"
  }
 },
 "nbformat": 4,
 "nbformat_minor": 4
}

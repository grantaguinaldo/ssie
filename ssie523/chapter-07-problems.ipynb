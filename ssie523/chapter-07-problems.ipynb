{
 "cells": [
  {
   "cell_type": "code",
   "execution_count": 17,
   "metadata": {},
   "outputs": [],
   "source": [
    "import numpy as np\n",
    "import matplotlib.pyplot as plt\n",
    "from sympy import *\n",
    "init_printing()\n",
    "%matplotlib inline\n",
    "\n",
    "x, r, I, S = symbols('x r I S')"
   ]
  },
  {
   "cell_type": "code",
   "execution_count": 18,
   "metadata": {},
   "outputs": [],
   "source": [
    "Xdot = (x**2) - r*x + 1"
   ]
  },
  {
   "cell_type": "code",
   "execution_count": 19,
   "metadata": {},
   "outputs": [
    {
     "data": {
      "image/png": "[encoded data removed]",
      "text/latex": [
       "$\\displaystyle \\left[ \\left( \\frac{r}{2} - \\frac{\\sqrt{\\left(r - 2\\right) \\left(r + 2\\right)}}{2}\\right), \\  \\left( \\frac{r}{2} + \\frac{\\sqrt{\\left(r - 2\\right) \\left(r + 2\\right)}}{2}\\right)\\right]$"
      ],
      "text/plain": [
       "⎡⎛      _________________ ⎞  ⎛      _________________ ⎞⎤\n",
       "⎢⎜r   ╲╱ (r - 2)⋅(r + 2)  ⎟  ⎜r   ╲╱ (r - 2)⋅(r + 2)  ⎟⎥\n",
       "⎢⎜─ - ───────────────────,⎟, ⎜─ + ───────────────────,⎟⎥\n",
       "⎣⎝2            2          ⎠  ⎝2            2          ⎠⎦"
      ]
     },
     "execution_count": 19,
     "metadata": {},
     "output_type": "execute_result"
    }
   ],
   "source": [
    "solve([Xdot], (x))"
   ]
  },
  {
   "cell_type": "code",
   "execution_count": 22,
   "metadata": {},
   "outputs": [],
   "source": [
    "Sdot = (-a * S * I)\n",
    "Idot = (a * S * I) - (b * I)\n",
    "Rdot = (b * I)"
   ]
  },
  {
   "cell_type": "code",
   "execution_count": 23,
   "metadata": {},
   "outputs": [
    {
     "data": {
      "image/png": "[encoded data removed]",
      "text/latex": [
       "$\\displaystyle \\left[ \\right]$"
      ],
      "text/plain": [
       "[]"
      ]
     },
     "execution_count": 23,
     "metadata": {},
     "output_type": "execute_result"
    }
   ],
   "source": [
    "solve([Sdot, Idot, Rdot], (S, I))"
   ]
  },
  {
   "cell_type": "code",
   "execution_count": null,
   "metadata": {},
   "outputs": [],
   "source": [
    "Taudot = -(g/L)*sin(theta)\n",
    "Tau = Thetadot\n"
   ]
  }
 ],
 "metadata": {
  "kernelspec": {
   "display_name": "Python 3",
   "language": "python",
   "name": "python3"
  },
  "language_info": {
   "codemirror_mode": {
    "name": "ipython",
    "version": 3
   },
   "file_extension": ".py",
   "mimetype": "text/x-python",
   "name": "python",
   "nbconvert_exporter": "python",
   "pygments_lexer": "ipython3",
   "version": "3.8.2"
  }
 },
 "nbformat": 4,
 "nbformat_minor": 4
}

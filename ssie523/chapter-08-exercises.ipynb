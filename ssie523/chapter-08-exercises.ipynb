{
 "cells": [
  {
   "cell_type": "markdown",
   "metadata": {},
   "source": [
    "### Exercise 8.1"
   ]
  },
  {
   "cell_type": "code",
   "execution_count": 1,
   "metadata": {},
   "outputs": [],
   "source": [
    "from sympy import *\n",
    "import numpy as np\n",
    "import matplotlib.pyplot as plt\n",
    "%matplotlib inline\n",
    "init_printing()\n",
    "\n",
    "x, r = symbols('x r')\n",
    "\n",
    "Xdot = r * x * (x + 1) - x"
   ]
  },
  {
   "cell_type": "code",
   "execution_count": 2,
   "metadata": {},
   "outputs": [],
   "source": [
    "#Find eq. Points.\n",
    "eq_points = solve([Xdot], (x))\n",
    "eq_point_1 = eq_points[0][0]\n",
    "eq_point_2 = eq_points[1][0]"
   ]
  },
  {
   "cell_type": "code",
   "execution_count": 3,
   "metadata": {},
   "outputs": [
    {
     "data": {
      "image/png": "[encoded data removed]",
      "text/latex": [
       "$\\displaystyle 0$"
      ],
      "text/plain": [
       "0"
      ]
     },
     "execution_count": 3,
     "metadata": {},
     "output_type": "execute_result"
    }
   ],
   "source": [
    "eq_point_1"
   ]
  },
  {
   "cell_type": "code",
   "execution_count": 4,
   "metadata": {},
   "outputs": [
    {
     "data": {
      "image/png": "[encoded data removed]",
      "text/latex": [
       "$\\displaystyle - \\frac{r - 1}{r}$"
      ],
      "text/plain": [
       "-(r - 1) \n",
       "─────────\n",
       "    r    "
      ]
     },
     "execution_count": 4,
     "metadata": {},
     "output_type": "execute_result"
    }
   ],
   "source": [
    "eq_point_2"
   ]
  },
  {
   "cell_type": "code",
   "execution_count": 5,
   "metadata": {},
   "outputs": [
    {
     "data": {
      "image/png": "[encoded data removed]",
      "text/latex": [
       "$\\displaystyle r x + r \\left(x + 1\\right) - 1$"
      ],
      "text/plain": [
       "r⋅x + r⋅(x + 1) - 1"
      ]
     },
     "execution_count": 5,
     "metadata": {},
     "output_type": "execute_result"
    }
   ],
   "source": [
    "#Find Jacobian\n",
    "dF = Xdot.diff(x)\n",
    "dF"
   ]
  },
  {
   "cell_type": "code",
   "execution_count": 6,
   "metadata": {},
   "outputs": [
    {
     "data": {
      "image/png": "[encoded data removed]",
      "text/latex": [
       "$\\displaystyle r - 1$"
      ],
      "text/plain": [
       "r - 1"
      ]
     },
     "execution_count": 6,
     "metadata": {},
     "output_type": "execute_result"
    }
   ],
   "source": [
    "#Substitute eq. point 1 into Jacobian. \n",
    "dF_eq_1 = dF.subs(x, eq_point_1)\n",
    "dF_eq_1"
   ]
  },
  {
   "cell_type": "code",
   "execution_count": 7,
   "metadata": {},
   "outputs": [
    {
     "data": {
      "image/png": "[encoded data removed]",
      "text/latex": [
       "$\\displaystyle r \\left(1 - \\frac{r - 1}{r}\\right) - r$"
      ],
      "text/plain": [
       "  ⎛    r - 1⎞    \n",
       "r⋅⎜1 - ─────⎟ - r\n",
       "  ⎝      r  ⎠    "
      ]
     },
     "execution_count": 7,
     "metadata": {},
     "output_type": "execute_result"
    }
   ],
   "source": [
    "#Substitute eq. point 2 into Jacobian. \n",
    "dF_eq_2 = dF.subs(x, eq_point_2)\n",
    "dF_eq_2"
   ]
  },
  {
   "cell_type": "code",
   "execution_count": 8,
   "metadata": {},
   "outputs": [],
   "source": [
    "def eqn1(s):\n",
    "    return s - 1\n",
    "\n",
    "def eqn2(s):\n",
    "    return s * (1 - ((s-1)/s)) - s\n",
    "    \n",
    "def eqn3(s):\n",
    "    return - (s - 1) / s"
   ]
  },
  {
   "cell_type": "markdown",
   "metadata": {},
   "source": [
    "### Bifurcation Analysis\n",
    "By solving `eqn1` and `eqn2` and finding the values of `s` that both equations are `s > 0`, it is possible to find the values of the model that are unstable. In this case, for values `s > 1` the model is considered to be unstable."
   ]
  },
  {
   "cell_type": "code",
   "execution_count": 16,
   "metadata": {},
   "outputs": [
    {
     "data": {
      "image/png": "[encoded data removed]",
      "text/plain": [
       "<Figure size 720x360 with 1 Axes>"
      ]
     },
     "metadata": {
      "needs_background": "light"
     },
     "output_type": "display_data"
    }
   ],
   "source": [
    "#Model is unstable for r > 1.\n",
    "domain = np.linspace(-5, 5, 100)\n",
    "plt.figure(figsize=(10, 5))\n",
    "plt.plot(domain, [eqn3(each) for each in domain], label='r < 0')\n",
    "plt.plot(domain, [eqn3(each) for each in domain], label='r > 0')\n",
    "plt.xlabel('r-value', fontsize=14)\n",
    "plt.ylabel('x_eq', fontsize=14)\n",
    "plt.title('Exercise 8.1: Bifurcation Analysis', fontsize=14)\n",
    "plt.axvspan(-1, 5, color='b', alpha=0.15, lw=0, label='Unstable Region')\n",
    "plt.xlim(-5, 5.25)\n",
    "plt.xticks(np.arange(-5, 6, step=1))\n",
    "plt.legend()\n",
    "plt.show()"
   ]
  },
  {
   "cell_type": "code",
   "execution_count": 10,
   "metadata": {},
   "outputs": [],
   "source": [
    "def model(rconst, t_not, X_not, tdomain, dt):\n",
    "    t_results = [t_not]\n",
    "    X_results = [X_not]\n",
    "\n",
    "    while t_results[-1] <= tdomain:\n",
    "\n",
    "        Xdot = rconst * X_results[-1] * (X_results[-1] + 1) - X_results[-1]\n",
    "        nx = X_results[-1]  + Xdot * dt\n",
    "        time = t_results[-1] + dt\n",
    "\n",
    "        t_results.append(time) \n",
    "        X_results.append(nx) \n",
    "\n",
    "    results = {}\n",
    "    results['time'] = t_results\n",
    "    results['x'] = X_results\n",
    "\n",
    "    return results\n",
    "\n",
    "run = model(rconst=1, dt=0.01, t_not=0, X_not=0.1, tdomain=10)"
   ]
  },
  {
   "cell_type": "code",
   "execution_count": 11,
   "metadata": {},
   "outputs": [
    {
     "data": {
      "image/png": "[encoded data removed]",
      "text/plain": [
       "<Figure size 432x288 with 1 Axes>"
      ]
     },
     "metadata": {
      "needs_background": "light"
     },
     "output_type": "display_data"
    }
   ],
   "source": [
    "plt.plot(run['time'], run['x'])\n",
    "plt.xlabel('Time Domain', fontsize=14)\n",
    "plt.ylabel('X-Domain', fontsize=14)\n",
    "plt.title('Exercise 8.1: Time Domain Plot', fontsize=14)\n",
    "plt.show()"
   ]
  },
  {
   "cell_type": "code",
   "execution_count": null,
   "metadata": {},
   "outputs": [],
   "source": []
  }
 ],
 "metadata": {
  "kernelspec": {
   "display_name": "Python 3",
   "language": "python",
   "name": "python3"
  },
  "language_info": {
   "codemirror_mode": {
    "name": "ipython",
    "version": 3
   },
   "file_extension": ".py",
   "mimetype": "text/x-python",
   "name": "python",
   "nbconvert_exporter": "python",
   "pygments_lexer": "ipython3",
   "version": "3.8.2"
  }
 },
 "nbformat": 4,
 "nbformat_minor": 4
}

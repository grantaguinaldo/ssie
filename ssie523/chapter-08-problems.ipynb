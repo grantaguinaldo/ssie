{
 "cells": [
  {
   "cell_type": "markdown",
   "metadata": {},
   "source": [
    "### Exercise 8.1"
   ]
  },
  {
   "cell_type": "code",
   "execution_count": 1,
   "metadata": {},
   "outputs": [],
   "source": [
    "from sympy import *\n",
    "import numpy as np\n",
    "import matplotlib.pyplot as plt\n",
    "%matplotlib inline\n",
    "\n",
    "init_printing()\n",
    "x, r = symbols('x r')\n",
    "Xdot = r * x * (x + 1) - x"
   ]
  },
  {
   "cell_type": "code",
   "execution_count": 2,
   "metadata": {},
   "outputs": [],
   "source": [
    "#Find eq. Points.\n",
    "eq_points = solve([Xdot], (x))\n",
    "eq_point_1 = eq_points[0][0]\n",
    "eq_point_2 = eq_points[1][0]"
   ]
  },
  {
   "cell_type": "code",
   "execution_count": 3,
   "metadata": {},
   "outputs": [
    {
     "data": {
      "image/png": "[encoded data removed]",
      "text/latex": [
       "$\\displaystyle 0$"
      ],
      "text/plain": [
       "0"
      ]
     },
     "execution_count": 3,
     "metadata": {},
     "output_type": "execute_result"
    }
   ],
   "source": [
    "eq_point_1 #Point is neutral"
   ]
  },
  {
   "cell_type": "code",
   "execution_count": 4,
   "metadata": {},
   "outputs": [
    {
     "data": {
      "image/png": "[encoded data removed]",
      "text/latex": [
       "$\\displaystyle - \\frac{r - 1}{r}$"
      ],
      "text/plain": [
       "-(r - 1) \n",
       "─────────\n",
       "    r    "
      ]
     },
     "execution_count": 4,
     "metadata": {},
     "output_type": "execute_result"
    }
   ],
   "source": [
    "eq_point_2  #Point is unstable for r < 1 (solve equation to find where r > 0)"
   ]
  },
  {
   "cell_type": "code",
   "execution_count": 5,
   "metadata": {},
   "outputs": [
    {
     "data": {
      "image/png": "[encoded data removed]",
      "text/latex": [
       "$\\displaystyle r x + r \\left(x + 1\\right) - 1$"
      ],
      "text/plain": [
       "r⋅x + r⋅(x + 1) - 1"
      ]
     },
     "execution_count": 5,
     "metadata": {},
     "output_type": "execute_result"
    }
   ],
   "source": [
    "#Find Jacobian\n",
    "dF = Xdot.diff(x)\n",
    "dF"
   ]
  },
  {
   "cell_type": "code",
   "execution_count": 6,
   "metadata": {},
   "outputs": [
    {
     "data": {
      "image/png": "[encoded data removed]",
      "text/latex": [
       "$\\displaystyle r - 1$"
      ],
      "text/plain": [
       "r - 1"
      ]
     },
     "execution_count": 6,
     "metadata": {},
     "output_type": "execute_result"
    }
   ],
   "source": [
    "#Substitute eq. point 1 into Jacobian. \n",
    "dF_eq_1 = dF.subs(x, eq_point_1)\n",
    "dF_eq_1 #(set this result equal to zero and solve for r) => r = 1 is a bifurcation point."
   ]
  },
  {
   "cell_type": "code",
   "execution_count": 7,
   "metadata": {},
   "outputs": [
    {
     "data": {
      "image/png": "[encoded data removed]",
      "text/latex": [
       "$\\displaystyle \\left[ 1\\right]$"
      ],
      "text/plain": [
       "[1]"
      ]
     },
     "execution_count": 7,
     "metadata": {},
     "output_type": "execute_result"
    }
   ],
   "source": [
    "#Find Critial Value for eq. 1\n",
    "solve(dF_eq_1, r)"
   ]
  },
  {
   "cell_type": "code",
   "execution_count": 8,
   "metadata": {},
   "outputs": [
    {
     "data": {
      "image/png": "[encoded data removed]",
      "text/latex": [
       "$\\displaystyle r \\left(1 - \\frac{r - 1}{r}\\right) - r$"
      ],
      "text/plain": [
       "  ⎛    r - 1⎞    \n",
       "r⋅⎜1 - ─────⎟ - r\n",
       "  ⎝      r  ⎠    "
      ]
     },
     "execution_count": 8,
     "metadata": {},
     "output_type": "execute_result"
    }
   ],
   "source": [
    "#Substitute eq. point 2 into Jacobian. \n",
    "dF_eq_2 = dF.subs(x, eq_point_2)\n",
    "dF_eq_2 #(set this result equal to zero and solve for r) => r = 1 is a bifurcation point."
   ]
  },
  {
   "cell_type": "code",
   "execution_count": 9,
   "metadata": {},
   "outputs": [
    {
     "data": {
      "image/png": "[encoded data removed]",
      "text/latex": [
       "$\\displaystyle \\left[ 1\\right]$"
      ],
      "text/plain": [
       "[1]"
      ]
     },
     "execution_count": 9,
     "metadata": {},
     "output_type": "execute_result"
    }
   ],
   "source": [
    "#Find Critial Value for eq. 2\n",
    "solve(dF_eq_2, r)\n",
    "# Critial condiction when bifurcation occurs is when r = 1"
   ]
  },
  {
   "cell_type": "markdown",
   "metadata": {},
   "source": [
    "### Summary\n",
    "\n",
    "For this model, there are two eq. points, $x_{eq1} = 0$ and $x_{eq2} = -\\frac{r-1}{r}$. It seems that the point $x_{eq1}$ is neutral since the value is equal to zero $\\forall \\; r$. In addition, for $x_{eq2}$ it seems that the model is $\\textit{unstable} \\; \\forall \\; r < 1$.   \n",
    "\n",
    "By computing the Jacobian we are able to conduct a bifurcation analysis. For this model the Jacobian ($J$) is $J = 𝑟𝑥+𝑟(𝑥+1)−1$. If we substitute $x_{eq1}$ into $J$, we get that $J_{eq1} = r-1$. Therefore, the model will have a bifurcation point at $r = 1$ based on setting $J_{eq1}$ equal to zero. Alternatively, if we substitute $x_{eq2}$ into $J$, we get that $J_{eq2} = r(1-\\frac{r-1}{r})-r$. If we equate $J_{eq2}$ to zero, we get another \n",
    "bifurcation point at $r=1$.\n",
    "\n",
    "Taken together, for this model, a bifurcation occurs when $r=1$. In addition, we know that one eq. point ($x_{eq1}$) is neutral while ($x_{eq2}$) is unstable."
   ]
  },
  {
   "cell_type": "code",
   "execution_count": 64,
   "metadata": {},
   "outputs": [
    {
     "data": {
      "image/png": "[encoded data removed]",
      "text/plain": [
       "<Figure size 432x288 with 1 Axes>"
      ]
     },
     "metadata": {
      "needs_background": "light"
     },
     "output_type": "display_data"
    }
   ],
   "source": [
    "def eq(s):\n",
    "    return -(s-1)/s\n",
    "domain1 = np.linspace(0.001, 2)\n",
    "domain2 = np.linspace(-0.001, -2)\n",
    "plt.plot(domain1, eq(domain1), label='Pos. Values')\n",
    "plt.plot(domain2, eq(domain2), label='Neg. Values')\n",
    "plt.xlabel('r-value')\n",
    "plt.axvline(1, alpha=0.25, color='r', label='r=1')\n",
    "plt.legend()\n",
    "plt.show()"
   ]
  },
  {
   "cell_type": "markdown",
   "metadata": {},
   "source": [
    "$\\textbf{Question}$: Based on the analysis, I found that the bifurcation point is when $r=1$. However, I don't know how to interpret the results from the analysis when comparing the trend on the chart. "
   ]
  },
  {
   "cell_type": "code",
   "execution_count": null,
   "metadata": {},
   "outputs": [],
   "source": []
  }
 ],
 "metadata": {
  "kernelspec": {
   "display_name": "Python 3",
   "language": "python",
   "name": "python3"
  },
  "language_info": {
   "codemirror_mode": {
    "name": "ipython",
    "version": 3
   },
   "file_extension": ".py",
   "mimetype": "text/x-python",
   "name": "python",
   "nbconvert_exporter": "python",
   "pygments_lexer": "ipython3",
   "version": "3.8.2"
  }
 },
 "nbformat": 4,
 "nbformat_minor": 4
}

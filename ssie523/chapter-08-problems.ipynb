{
 "cells": [
  {
   "cell_type": "code",
   "execution_count": 1,
   "metadata": {},
   "outputs": [],
   "source": [
    "from sympy import *\n",
    "import numpy as np\n",
    "import matplotlib.pyplot as plt\n",
    "%matplotlib inline\n",
    "\n",
    "init_printing()\n",
    "x, r = symbols('x r')"
   ]
  },
  {
   "cell_type": "code",
   "execution_count": null,
   "metadata": {},
   "outputs": [],
   "source": [
    "#Equation 8.8\n",
    "\n",
    "Xdot = r*x - x**2\n",
    "eq_pts = solve([Xdot], (x))\n",
    "eq_pts"
   ]
  },
  {
   "cell_type": "code",
   "execution_count": null,
   "metadata": {},
   "outputs": [],
   "source": [
    "def xeq4(r):\n",
    "    return r\n",
    "domain = np.linspace(-10, 10)\n",
    "plt.plot(domain, [0 for each in range(len(domain))], 'b-', linewidth=3)\n",
    "domain = np.linspace(-10, 10)\n",
    "plt.plot(domain, xeq4(domain), 'r--', linewidth=3)\n",
    "plt.plot([0], [0], 'go')\n",
    "plt.show()"
   ]
  },
  {
   "cell_type": "code",
   "execution_count": null,
   "metadata": {},
   "outputs": [],
   "source": [
    "#Equation 8.10\n",
    "\n",
    "Xdot = r*x - x**3\n",
    "eq_pts = solve([Xdot], (x))\n",
    "eq_pts"
   ]
  },
  {
   "cell_type": "code",
   "execution_count": null,
   "metadata": {},
   "outputs": [],
   "source": [
    "def xeq1():\n",
    "    return 0\n",
    "\n",
    "def xeq2(r):\n",
    "    return -np.sqrt(r)\n",
    "\n",
    "def xeq3(r):\n",
    "    return np.sqrt(r)\n",
    "\n",
    "domain = np.linspace(-10, 10)\n",
    "plt.plot(domain, [0 for each in range(len(domain))], 'r--')\n",
    "domain = np.linspace(0, 10)\n",
    "plt.plot(domain, xeq2(domain))\n",
    "plt.plot(domain, xeq3(domain))\n",
    "plt.plot([0], [0], 'go')\n",
    "plt.show()"
   ]
  },
  {
   "cell_type": "code",
   "execution_count": null,
   "metadata": {},
   "outputs": [],
   "source": [
    "#Equation 8.2\n",
    "Xdot = r - x**2\n",
    "solve([Xdot], (x))"
   ]
  },
  {
   "cell_type": "code",
   "execution_count": null,
   "metadata": {},
   "outputs": [],
   "source": [
    "def eq1(r):\n",
    "    return -1*np.sqrt(r)\n",
    "\n",
    "def eq2(r):\n",
    "    return np.sqrt(r)"
   ]
  },
  {
   "cell_type": "code",
   "execution_count": null,
   "metadata": {},
   "outputs": [],
   "source": [
    "domain = np.linspace(0, 10)\n",
    "plt.plot(domain, eq1(domain))\n",
    "plt.plot(domain, eq2(domain))\n",
    "plt.plot([0], [0], 'go')\n",
    "plt.show()"
   ]
  },
  {
   "cell_type": "code",
   "execution_count": null,
   "metadata": {},
   "outputs": [],
   "source": [
    "#Exercise 8.1\n",
    "\n",
    "Xdot = r*x*(x + 1) - x\n",
    "solve([Xdot], (x))"
   ]
  },
  {
   "cell_type": "code",
   "execution_count": null,
   "metadata": {},
   "outputs": [],
   "source": [
    "def eq(r):\n",
    "    return -(r-1)/r"
   ]
  },
  {
   "cell_type": "code",
   "execution_count": null,
   "metadata": {},
   "outputs": [],
   "source": [
    "domain = np.linspace(-10, 10)\n",
    "plt.plot(domain, [0 for each in range(len(domain))], 'r--')\n",
    "plt.plot(domain, eq(domain), 'b-')\n",
    "plt.plot([1], [0], 'go')\n",
    "plt.show()"
   ]
  },
  {
   "cell_type": "code",
   "execution_count": null,
   "metadata": {},
   "outputs": [],
   "source": [
    "J = Xdot.diff(x)\n",
    "J"
   ]
  },
  {
   "cell_type": "code",
   "execution_count": null,
   "metadata": {},
   "outputs": [],
   "source": [
    "J.subs(x, 0)"
   ]
  },
  {
   "cell_type": "code",
   "execution_count": null,
   "metadata": {},
   "outputs": [],
   "source": [
    "J.subs(x, solve([Xdot], (x))[1][0])"
   ]
  },
  {
   "cell_type": "code",
   "execution_count": null,
   "metadata": {},
   "outputs": [],
   "source": [
    "solve(J.subs(x, 0), r)"
   ]
  },
  {
   "cell_type": "code",
   "execution_count": null,
   "metadata": {},
   "outputs": [],
   "source": [
    "solve(J.subs(x, solve([Xdot], (x))[1][0]), r)"
   ]
  },
  {
   "cell_type": "code",
   "execution_count": null,
   "metadata": {},
   "outputs": [],
   "source": [
    "#Critical value is r = 1\n",
    "solve([Xdot], (x))[1][0] # solve this to find `r` such that r > 0 => r < 1 (model is unstable)\n",
    "#Unstable for r < 1"
   ]
  },
  {
   "cell_type": "code",
   "execution_count": null,
   "metadata": {},
   "outputs": [],
   "source": [
    "domain = np.linspace(-10, 1)\n",
    "domain2 = np.linspace(1, 10)\n",
    "\n",
    "def eq(r):\n",
    "    return -(r-1)/r\n",
    "\n",
    "plt.plot(domain, [0 for each in range(len(domain))], 'r-', label='Neutral')\n",
    "plt.plot(domain2, eq(domain2), 'b-', label='Stable: r > 1, Unstable: r < 1')\n",
    "plt.plot([1], [0], 'go')\n",
    "plt.legend()\n",
    "plt.show()"
   ]
  },
  {
   "cell_type": "code",
   "execution_count": null,
   "metadata": {},
   "outputs": [],
   "source": [
    "Dt = 0.01\n",
    "def initialize():\n",
    "    global x, t, xresult, tresult\n",
    "    x = 0.1\n",
    "    t = 0.0\n",
    "    xresult = [x]\n",
    "    tresult = [t]\n",
    "\n",
    "def update():\n",
    "    global x, t\n",
    "    dFUNC = r*x*(x + 1) - x\n",
    "    x = x + (dFUNC) * Dt\n",
    "    t = t + Dt\n",
    "    \n",
    "def observe():\n",
    "    global x, t, xresult, tresult\n",
    "    xresult.append(x)\n",
    "    tresult.append(t)\n",
    "\n",
    "r = 0.8\n",
    "initialize()\n",
    "while t < 10:\n",
    "    update()\n",
    "    observe()\n",
    "plt.plot(tresult, xresult)\n",
    "plt.xlabel('time')\n",
    "plt.ylabel('x')\n",
    "plt.show()"
   ]
  },
  {
   "cell_type": "code",
   "execution_count": null,
   "metadata": {},
   "outputs": [],
   "source": [
    "def model(rconst, dt, t_not, X_not, tdomain):\n",
    "\n",
    "    t_results = [t_not]\n",
    "    X_results = [X_not]\n",
    "\n",
    "    while t_results[-1] < tdomain:\n",
    "\n",
    "        Xdot = (rconst * X_results[-1]) * (X_results[-1] + 1) - X_results[-1]\n",
    "        nx = X_results[-1]  + Xdot * dt\n",
    "        \n",
    "        r*x*(x + 1) - x\n",
    "\n",
    "        time = t_results[-1] + dt\n",
    "\n",
    "        t_results.append(time) \n",
    "        X_results.append(nx) \n",
    "\n",
    "    results = {}\n",
    "    results['time'] = t_results\n",
    "    results['x'] = X_results\n",
    "\n",
    "    return results"
   ]
  },
  {
   "cell_type": "code",
   "execution_count": null,
   "metadata": {},
   "outputs": [],
   "source": [
    "domain = [0.8, 0.9, 0.95, 0.96, 0.97, 0.998, 1, 1.0001]\n",
    "for each in domain:\n",
    "    run = model(rconst=each, dt=0.01, t_not=0.0, X_not=0.1, tdomain=10)\n",
    "    plt.plot(run['time'], run['x'], label='r = ' + str(each))\n",
    "    plt.legend()\n",
    "plt.xlim(8, 11)\n",
    "plt.ylim(0, 8)\n",
    "plt.show()"
   ]
  },
  {
   "cell_type": "code",
   "execution_count": null,
   "metadata": {},
   "outputs": [],
   "source": [
    "# Equation 8.14\n",
    "\n",
    "from sympy import *\n",
    "import numpy as np\n",
    "import matplotlib.pyplot as plt\n",
    "%matplotlib inline\n",
    "\n",
    "init_printing()\n",
    "x, r = symbols('x r')\n",
    "\n",
    "Xdot = r + x - x**3\n",
    "J = Xdot.diff(x)\n",
    "J #Set to zero and solve to see where is J > 0"
   ]
  },
  {
   "cell_type": "code",
   "execution_count": null,
   "metadata": {},
   "outputs": [],
   "source": [
    "solve(J, x)"
   ]
  },
  {
   "cell_type": "code",
   "execution_count": null,
   "metadata": {},
   "outputs": [],
   "source": [
    "np.sqrt(3)/3"
   ]
  },
  {
   "cell_type": "code",
   "execution_count": null,
   "metadata": {},
   "outputs": [],
   "source": [
    "solve([Xdot], (r)) #Want to find where the Xdot = 0 in terms of r. "
   ]
  },
  {
   "cell_type": "code",
   "execution_count": null,
   "metadata": {},
   "outputs": [],
   "source": [
    "def eq(x):\n",
    "    return (x**3) - x #(this is r as a function of x)\n",
    "\n",
    "Dt = 0.01\n",
    "def initialize():\n",
    "    global x, t, xresult, tresult\n",
    "    x = 0.1\n",
    "    t = 0.0\n",
    "    xresult = [x]\n",
    "    tresult = [t]\n",
    "\n",
    "def update():\n",
    "    global x, t\n",
    "    dFUNC = r + x - x**3\n",
    "    x = x + (dFUNC) * Dt\n",
    "    t = t + Dt\n",
    "    \n",
    "def observe():\n",
    "    global x, t, xresult, tresult\n",
    "    xresult.append(x)\n",
    "    tresult.append(t)\n",
    "\n",
    "r = 1\n",
    "initialize()\n",
    "while t < 10:\n",
    "    update()\n",
    "    observe()\n",
    "plt.plot(tresult, xresult)\n",
    "plt.xlabel('time')\n",
    "plt.ylabel('x')\n",
    "plt.show()"
   ]
  },
  {
   "cell_type": "code",
   "execution_count": null,
   "metadata": {},
   "outputs": [],
   "source": [
    "domain = np.linspace(-1.5, 1.5)\n",
    "plt.plot(eq(domain), domain)\n",
    "plt.xlabel('R-Value', fontsize=13)\n",
    "plt.ylabel('X_eq', fontsize=13)\n",
    "plt.axhline(np.sqrt(3)/3, alpha=0.25)\n",
    "plt.axhline(-np.sqrt(3)/3, alpha=0.25)\n",
    "plt.show()"
   ]
  },
  {
   "cell_type": "code",
   "execution_count": null,
   "metadata": {},
   "outputs": [],
   "source": [
    "# Equation 8.21 and 8.22\n",
    "\n",
    "init_printing()\n",
    "x, r, y = symbols('x r y')\n",
    "\n",
    "Xdot = y\n",
    "Ydot = -r*(-1 + x**2)*y-x"
   ]
  },
  {
   "cell_type": "code",
   "execution_count": null,
   "metadata": {},
   "outputs": [],
   "source": [
    "solve([Xdot, Ydot], (x, y)) #Eq. point is neutral since the values are exactly zero."
   ]
  },
  {
   "cell_type": "code",
   "execution_count": null,
   "metadata": {},
   "outputs": [],
   "source": [
    "J = Matrix([[Xdot.diff(x), Xdot.diff(y)], \n",
    "            [Ydot.diff(x), Ydot.diff(y)]])\n",
    "J"
   ]
  },
  {
   "cell_type": "code",
   "execution_count": null,
   "metadata": {},
   "outputs": [],
   "source": [
    "J_eq = J.subs([(x, 0), (y, 0)])\n",
    "J_eq"
   ]
  },
  {
   "cell_type": "code",
   "execution_count": null,
   "metadata": {},
   "outputs": [],
   "source": [
    "J_eq.eigenvals() #Need to find values of r that make the expression = 0\n",
    "\n",
    "# (r/2) +/- sqrt(r**2 - 4) / 2 => if (r**2 - 4) < 0 then you have a complex number and r/2 = 0 and r = 0\n",
    "# The bifurcation point is when r = 0"
   ]
  },
  {
   "cell_type": "code",
   "execution_count": null,
   "metadata": {},
   "outputs": [],
   "source": [
    "J_eq.eigenvects()"
   ]
  },
  {
   "cell_type": "code",
   "execution_count": null,
   "metadata": {},
   "outputs": [],
   "source": [
    "Dt = 0.01\n",
    "\n",
    "def initialize():\n",
    "    global x, xresult, y, yresult\n",
    "    x = y = 0.1\n",
    "    xresult = [x]\n",
    "    yresult = [y]\n",
    "    \n",
    "def observe():\n",
    "    global x, xresult, y, yresult\n",
    "    xresult.append(x)\n",
    "    yresult.append(y)\n",
    "\n",
    "def update():\n",
    "    global x, xresult, y, yresult\n",
    "    nextx = x + y * Dt\n",
    "    nexty = y + (-r * (x**2 - 1) * y - x) * Dt\n",
    "    x, y = nextx, nexty\n",
    "\n",
    "def plot_phase_space():\n",
    "    initialize()\n",
    "    for t in range(10000):\n",
    "        update()\n",
    "        observe()\n",
    "    plt.plot(xresult, yresult)\n",
    "    plt.axis('image')\n",
    "    plt.axis([-3, 3, -3, 3])\n",
    "    plt.title('r = ' + str(r))\n",
    "\n",
    "rs = [-1, -0.1, 0, .1, 1]\n",
    "plt.figure(figsize=(20, 10))\n",
    "for i in range(len(rs)):\n",
    "    plt.subplot(1, len(rs), i + 1)\n",
    "    r = rs[i]\n",
    "    plot_phase_space()\n",
    "\n",
    "plt.show()"
   ]
  },
  {
   "cell_type": "code",
   "execution_count": 2,
   "metadata": {},
   "outputs": [],
   "source": [
    "#Exercise 8.3\n",
    "\n",
    "init_printing()\n",
    "x, y, z, a, b, c = symbols('x y z a b c')\n",
    "\n",
    "a = 0.7\n",
    "b = 0.8\n",
    "c = 3\n",
    "\n",
    "Xdot = c *(x - (x**3/3) + y + z)\n",
    "Ydot = -(x - a + (b*y/c))"
   ]
  },
  {
   "cell_type": "code",
   "execution_count": 3,
   "metadata": {},
   "outputs": [],
   "source": [
    "eq_pt = solve([Xdot, Ydot], (x, y))\n",
    "real_eq_pt = eq_pt[0][0]"
   ]
  },
  {
   "cell_type": "code",
   "execution_count": 4,
   "metadata": {},
   "outputs": [
    {
     "data": {
      "image/png": "[encoded data removed]",
      "text/latex": [
       "$\\displaystyle \\left[ \\left( \\frac{0.0188759155965125 \\left(24.0 z - 80.0642559052447 \\sqrt[3]{0.248962119794227 z + \\left(0.0619821370924352 z^{2} + 0.325406219735285 z + 1\\right)^{0.5} + 0.653525564459847} + 96.4002074686564 \\sqrt{0.0619821370924352 z^{2} + 0.325406219735285 z + 1} + 63.0\\right)}{\\left(0.248962119794227 z + \\left(0.0619821370924352 z^{2} + 0.325406219735285 z + 1\\right)^{0.5} + 0.653525564459847\\right)^{\\frac{2}{3}}}, \\  - 6.21867148191637 \\sqrt[3]{0.328921466812106 z + \\left(0.745492111194591 \\left(0.380952380952381 z + 1\\right)^{2} + 1\\right)^{0.5} + 0.863418850381778} + 2.625 + \\frac{6.21867148191638}{\\sqrt[3]{0.328921466812106 z + \\left(0.745492111194591 \\left(0.380952380952381 z + 1\\right)^{2} + 1\\right)^{0.5} + 0.863418850381778}}\\right), \\  \\left( \\frac{0.037751831193025 \\left(48.0 z + 80.0642559052447 \\sqrt[3]{0.248962119794227 z + \\left(0.0619821370924352 z^{2} + 0.325406219735285 z + 1\\right)^{0.5} + 0.653525564459847} - 138.67535909808 i \\sqrt[3]{0.248962119794227 z + \\left(0.0619821370924352 z^{2} + 0.325406219735285 z + 1\\right)^{0.5} + 0.653525564459847} + 192.800414937313 \\sqrt{0.0619821370924352 z^{2} + 0.325406219735285 z + 1} + 126.0\\right)}{\\left(1.0 - 1.73205080756888 i\\right)^{2} \\left(0.248962119794227 z + \\left(0.0619821370924352 z^{2} + 0.325406219735285 z + 1\\right)^{0.5} + 0.653525564459847\\right)^{\\frac{2}{3}}}, \\  - 6.21867148191637 \\left(-0.5 + 0.866025403784439 i\\right) \\sqrt[3]{0.328921466812106 z + \\left(0.745492111194591 \\left(0.380952380952381 z + 1\\right)^{2} + 1\\right)^{0.5} + 0.863418850381778} + 2.625 + \\frac{6.21867148191638 \\left(-0.5 - 0.866025403784439 i\\right)}{\\sqrt[3]{0.328921466812106 z + \\left(0.745492111194591 \\left(0.380952380952381 z + 1\\right)^{2} + 1\\right)^{0.5} + 0.863418850381778}}\\right), \\  \\left( \\frac{0.037751831193025 \\left(48.0 z + 80.0642559052447 \\sqrt[3]{0.248962119794227 z + \\left(0.0619821370924352 z^{2} + 0.325406219735285 z + 1\\right)^{0.5} + 0.653525564459847} + 138.67535909808 i \\sqrt[3]{0.248962119794227 z + \\left(0.0619821370924352 z^{2} + 0.325406219735285 z + 1\\right)^{0.5} + 0.653525564459847} + 192.800414937313 \\sqrt{0.0619821370924352 z^{2} + 0.325406219735285 z + 1} + 126.0\\right)}{\\left(1.0 + 1.73205080756888 i\\right)^{2} \\left(0.248962119794227 z + \\left(0.0619821370924352 z^{2} + 0.325406219735285 z + 1\\right)^{0.5} + 0.653525564459847\\right)^{\\frac{2}{3}}}, \\  - 6.21867148191637 \\left(-0.5 - 0.866025403784439 i\\right) \\sqrt[3]{0.328921466812106 z + \\left(0.745492111194591 \\left(0.380952380952381 z + 1\\right)^{2} + 1\\right)^{0.5} + 0.863418850381778} + 2.625 + \\frac{6.21867148191638 \\left(-0.5 + 0.866025403784439 i\\right)}{\\sqrt[3]{0.328921466812106 z + \\left(0.745492111194591 \\left(0.380952380952381 z + 1\\right)^{2} + 1\\right)^{0.5} + 0.863418850381778}}\\right)\\right]$"
      ],
      "text/plain": [
       "⎡⎛                   ⎛                              __________________________\n",
       "⎢⎜                   ⎜                             ╱                          \n",
       "⎢⎜                   ⎜                          3 ╱                        ⎛  \n",
       "⎢⎜0.0188759155965125⋅⎝24.0⋅z - 80.0642559052447⋅╲╱   0.248962119794227⋅z + ⎝0.\n",
       "⎢⎜────────────────────────────────────────────────────────────────────────────\n",
       "⎢⎜                                                                            \n",
       "⎢⎜                                                               ⎛            \n",
       "⎢⎜                                                               ⎜            \n",
       "⎣⎝                                                               ⎝0.2489621197\n",
       "\n",
       "______________________________________________________________________        \n",
       "                                              0.5                             \n",
       "                  2                          ⎞                                \n",
       "0619821370924352⋅z  + 0.325406219735285⋅z + 1⎠    + 0.653525564459847  + 96.40\n",
       "──────────────────────────────────────────────────────────────────────────────\n",
       "                                                                              \n",
       "                                                           0.5                \n",
       "          ⎛                    2                          ⎞                   \n",
       "94227⋅z + ⎝0.0619821370924352⋅z  + 0.325406219735285⋅z + 1⎠    + 0.65352556445\n",
       "\n",
       "                                                                       ⎞      \n",
       "               _________________________________________________       ⎟      \n",
       "              ╱                     2                                  ⎟      \n",
       "02074686564⋅╲╱  0.0619821370924352⋅z  + 0.325406219735285⋅z + 1  + 63.0⎠      \n",
       "────────────────────────────────────────────────────────────────────────, - 6.\n",
       "     2/3                                                                      \n",
       "    ⎞                                                                         \n",
       "    ⎟                                                                         \n",
       "9847⎠                                                                         \n",
       "\n",
       "                                                                              \n",
       "                   ___________________________________________________________\n",
       "                  ╱                                                           \n",
       "               3 ╱                        ⎛                                   \n",
       "21867148191637⋅╲╱   0.328921466812106⋅z + ⎝0.745492111194591⋅(0.38095238095238\n",
       "                                                                              \n",
       "                                                                              \n",
       "                                                                              \n",
       "                                                                              \n",
       "\n",
       "                                                                              \n",
       "______________________________________                                        \n",
       "              0.5                                                             \n",
       "        2    ⎞                                                                \n",
       "1⋅z + 1)  + 1⎠    + 0.863418850381778  + 2.625 + ─────────────────────────────\n",
       "                                                     _________________________\n",
       "                                                    ╱                         \n",
       "                                                 3 ╱                        ⎛ \n",
       "                                                 ╲╱   0.328921466812106⋅z + ⎝0\n",
       "\n",
       "                                                                        ⎞  ⎛  \n",
       "                                                                        ⎟  ⎜  \n",
       "                                                                        ⎟  ⎜  \n",
       "              6.21867148191638                                          ⎟  ⎜0.\n",
       "────────────────────────────────────────────────────────────────────────⎟, ⎜──\n",
       "________________________________________________________________________⎟  ⎜  \n",
       "                                                0.5                     ⎟  ⎜  \n",
       "                                          2    ⎞                        ⎟  ⎜  \n",
       ".745492111194591⋅(0.380952380952381⋅z + 1)  + 1⎠    + 0.863418850381778 ⎠  ⎝  \n",
       "\n",
       "                ⎛                              _______________________________\n",
       "                ⎜                             ╱                               \n",
       "                ⎜                          3 ╱                        ⎛       \n",
       "037751831193025⋅⎝48.0⋅z + 80.0642559052447⋅╲╱   0.248962119794227⋅z + ⎝0.06198\n",
       "──────────────────────────────────────────────────────────────────────────────\n",
       "                                                                              \n",
       "                                                                              \n",
       "                                                                              \n",
       "                                                                              \n",
       "\n",
       "_________________________________________________________________             \n",
       "                                         0.5                                  \n",
       "             2                          ⎞                                     \n",
       "21370924352⋅z  + 0.325406219735285⋅z + 1⎠    + 0.653525564459847  - 138.675359\n",
       "──────────────────────────────────────────────────────────────────────────────\n",
       "                                                                              \n",
       "                                                          ⎛                   \n",
       "                                                        2 ⎜                   \n",
       "                              (1.0 - 1.73205080756888⋅ⅈ) ⋅⎝0.248962119794227⋅z\n",
       "\n",
       "            __________________________________________________________________\n",
       "           ╱                                                                  \n",
       "        3 ╱                        ⎛                    2                     \n",
       "09808⋅ⅈ⋅╲╱   0.248962119794227⋅z + ⎝0.0619821370924352⋅z  + 0.325406219735285⋅\n",
       "──────────────────────────────────────────────────────────────────────────────\n",
       "                                                                            2/\n",
       "                                                    0.5                    ⎞  \n",
       "   ⎛                    2                          ⎞                       ⎟  \n",
       " + ⎝0.0619821370924352⋅z  + 0.325406219735285⋅z + 1⎠    + 0.653525564459847⎠  \n",
       "\n",
       "______________________________                                                \n",
       "      0.5                                            _________________________\n",
       "     ⎞                                              ╱                     2   \n",
       "z + 1⎠    + 0.653525564459847  + 192.800414937313⋅╲╱  0.0619821370924352⋅z  + \n",
       "──────────────────────────────────────────────────────────────────────────────\n",
       "3                                                                             \n",
       "                                                                              \n",
       "                                                                              \n",
       "                                                                              \n",
       "\n",
       "                                ⎞                                             \n",
       "________________________        ⎟                                             \n",
       "                                ⎟                                             \n",
       "0.325406219735285⋅z + 1  + 126.0⎠                                             \n",
       "─────────────────────────────────, - 6.21867148191637⋅(-0.5 + 0.86602540378443\n",
       "                                                                              \n",
       "                                                                              \n",
       "                                                                              \n",
       "                                                                              \n",
       "\n",
       "                                                                              \n",
       "         _____________________________________________________________________\n",
       "        ╱                                                                     \n",
       "     3 ╱                        ⎛                                           2 \n",
       "9⋅ⅈ)⋅╲╱   0.328921466812106⋅z + ⎝0.745492111194591⋅(0.380952380952381⋅z + 1)  \n",
       "                                                                              \n",
       "                                                                              \n",
       "                                                                              \n",
       "                                                                              \n",
       "\n",
       "                                                                              \n",
       "____________________________                                                  \n",
       "    0.5                                                                       \n",
       "   ⎞                                                               6.218671481\n",
       "+ 1⎠    + 0.863418850381778  + 2.625 + ───────────────────────────────────────\n",
       "                                           ___________________________________\n",
       "                                          ╱                                   \n",
       "                                       3 ╱                        ⎛           \n",
       "                                       ╲╱   0.328921466812106⋅z + ⎝0.745492111\n",
       "\n",
       "                                                              ⎞  ⎛            \n",
       "                                                              ⎟  ⎜            \n",
       "                                                              ⎟  ⎜            \n",
       "91638⋅(-0.5 - 0.866025403784439⋅ⅈ)                            ⎟  ⎜0.0377518311\n",
       "──────────────────────────────────────────────────────────────⎟, ⎜────────────\n",
       "______________________________________________________________⎟  ⎜            \n",
       "                                      0.5                     ⎟  ⎜            \n",
       "                                2    ⎞                        ⎟  ⎜            \n",
       "194591⋅(0.380952380952381⋅z + 1)  + 1⎠    + 0.863418850381778 ⎠  ⎝            \n",
       "\n",
       "      ⎛                              _________________________________________\n",
       "      ⎜                             ╱                                         \n",
       "      ⎜                          3 ╱                        ⎛                 \n",
       "93025⋅⎝48.0⋅z + 80.0642559052447⋅╲╱   0.248962119794227⋅z + ⎝0.061982137092435\n",
       "──────────────────────────────────────────────────────────────────────────────\n",
       "                                                                              \n",
       "                                                                              \n",
       "                                                                              \n",
       "                                                                              \n",
       "\n",
       "_______________________________________________________                       \n",
       "                               0.5                                            \n",
       "   2                          ⎞                                             3 \n",
       "2⋅z  + 0.325406219735285⋅z + 1⎠    + 0.653525564459847  + 138.67535909808⋅ⅈ⋅╲╱\n",
       "──────────────────────────────────────────────────────────────────────────────\n",
       "                                                                              \n",
       "                                                ⎛                             \n",
       "                                              2 ⎜                      ⎛      \n",
       "                    (1.0 + 1.73205080756888⋅ⅈ) ⋅⎝0.248962119794227⋅z + ⎝0.0619\n",
       "\n",
       "  ____________________________________________________________________________\n",
       " ╱                                                                        0.5 \n",
       "╱                        ⎛                    2                          ⎞    \n",
       "   0.248962119794227⋅z + ⎝0.0619821370924352⋅z  + 0.325406219735285⋅z + 1⎠    \n",
       "──────────────────────────────────────────────────────────────────────────────\n",
       "                                                                  2/3         \n",
       "                                          0.5                    ⎞            \n",
       "              2                          ⎞                       ⎟            \n",
       "821370924352⋅z  + 0.325406219735285⋅z + 1⎠    + 0.653525564459847⎠            \n",
       "\n",
       "____________________                                                          \n",
       "                                           ___________________________________\n",
       "                                          ╱                     2             \n",
       "+ 0.653525564459847  + 192.800414937313⋅╲╱  0.0619821370924352⋅z  + 0.32540621\n",
       "──────────────────────────────────────────────────────────────────────────────\n",
       "                                                                              \n",
       "                                                                              \n",
       "                                                                              \n",
       "                                                                              \n",
       "\n",
       "                      ⎞                                                       \n",
       "______________        ⎟                                                      _\n",
       "                      ⎟                                                     ╱ \n",
       "9735285⋅z + 1  + 126.0⎠                                                  3 ╱  \n",
       "───────────────────────, - 6.21867148191637⋅(-0.5 - 0.866025403784439⋅ⅈ)⋅╲╱   \n",
       "                                                                              \n",
       "                                                                              \n",
       "                                                                              \n",
       "                                                                              \n",
       "\n",
       "                                                                              \n",
       "______________________________________________________________________________\n",
       "                                                                        0.5   \n",
       "                      ⎛                                           2    ⎞      \n",
       "0.328921466812106⋅z + ⎝0.745492111194591⋅(0.380952380952381⋅z + 1)  + 1⎠    + \n",
       "                                                                              \n",
       "                                                                              \n",
       "                                                                              \n",
       "                                                                              \n",
       "\n",
       "                                                                              \n",
       "__________________                                                            \n",
       "                                                                              \n",
       "                                                         6.21867148191638⋅(-0.\n",
       "0.863418850381778  + 2.625 + ─────────────────────────────────────────────────\n",
       "                                 _____________________________________________\n",
       "                                ╱                                             \n",
       "                             3 ╱                        ⎛                     \n",
       "                             ╲╱   0.328921466812106⋅z + ⎝0.745492111194591⋅(0.\n",
       "\n",
       "                                                    ⎞⎤\n",
       "                                                    ⎟⎥\n",
       "                                                    ⎟⎥\n",
       "5 + 0.866025403784439⋅ⅈ)                            ⎟⎥\n",
       "────────────────────────────────────────────────────⎟⎥\n",
       "____________________________________________________⎟⎥\n",
       "                            0.5                     ⎟⎥\n",
       "                      2    ⎞                        ⎟⎥\n",
       "380952380952381⋅z + 1)  + 1⎠    + 0.863418850381778 ⎠⎦"
      ]
     },
     "execution_count": 4,
     "metadata": {},
     "output_type": "execute_result"
    }
   ],
   "source": [
    "eq_pt"
   ]
  },
  {
   "cell_type": "code",
   "execution_count": 5,
   "metadata": {},
   "outputs": [
    {
     "data": {
      "image/png": "[encoded data removed]",
      "text/latex": [
       "$\\displaystyle 0.56862366942864$"
      ],
      "text/plain": [
       "0.568623669428640"
      ]
     },
     "execution_count": 5,
     "metadata": {},
     "output_type": "execute_result"
    }
   ],
   "source": [
    "real_eq_pt.subs(z, -1)"
   ]
  },
  {
   "cell_type": "code",
   "execution_count": 6,
   "metadata": {},
   "outputs": [
    {
     "data": {
      "image/png": "[encoded data removed]",
      "text/latex": [
       "$\\displaystyle \\left[ 0.225875858842964, \\  0.401259804521379, \\  0.56862366942864, \\  0.726289144131903, \\  0.873703285411555\\right]$"
      ],
      "text/plain": [
       "[0.225875858842964, 0.401259804521379, 0.56862366942864, 0.726289144131903, 0.\n",
       "873703285411555]"
      ]
     },
     "execution_count": 6,
     "metadata": {},
     "output_type": "execute_result"
    }
   ],
   "source": [
    "eq_points = [real_eq_pt.subs(z, each) for each in np.linspace(-2, 0, 5)]\n",
    "eq_points"
   ]
  },
  {
   "cell_type": "code",
   "execution_count": 7,
   "metadata": {},
   "outputs": [
    {
     "data": {
      "text/latex": [
       "$\\displaystyle \\left[\\begin{matrix}3 - 3 x^{2} & 3\\\\-1 & -0.266666666666667\\end{matrix}\\right]$"
      ],
      "text/plain": [
       "⎡       2                    ⎤\n",
       "⎢3 - 3⋅x           3         ⎥\n",
       "⎢                            ⎥\n",
       "⎣   -1     -0.266666666666667⎦"
      ]
     },
     "execution_count": 7,
     "metadata": {},
     "output_type": "execute_result"
    }
   ],
   "source": [
    "J = Matrix([[Xdot.diff(x), Xdot.diff(y)], \n",
    "            [Ydot.diff(x), Ydot.diff(y)]])\n",
    "J"
   ]
  },
  {
   "cell_type": "code",
   "execution_count": 8,
   "metadata": {},
   "outputs": [
    {
     "data": {
      "image/png": "[encoded data removed]",
      "text/latex": [
       "$\\displaystyle \\left\\{ 1.2901368112546 - 0.759185702665861 i : 1, \\  1.2901368112546 + 0.759185702665861 i : 1\\right\\}$"
      ],
      "text/plain": [
       "{1.2901368112546 - 0.759185702665861⋅ⅈ: 1, 1.2901368112546 + 0.759185702665861\n",
       "⋅ⅈ: 1}"
      ]
     },
     "execution_count": 8,
     "metadata": {},
     "output_type": "execute_result"
    }
   ],
   "source": [
    "J.subs(x, eq_points[0]).eigenvals() #Unstable since Re(lambda) > 0"
   ]
  },
  {
   "cell_type": "code",
   "execution_count": 9,
   "metadata": {},
   "outputs": [
    {
     "data": {
      "image/png": "[encoded data removed]",
      "text/latex": [
       "$\\displaystyle \\left\\{ 1.12515252057986 - 1.03094100219771 i : 1, \\  1.12515252057986 + 1.03094100219771 i : 1\\right\\}$"
      ],
      "text/plain": [
       "{1.12515252057986 - 1.03094100219771⋅ⅈ: 1, 1.12515252057986 + 1.03094100219771\n",
       "⋅ⅈ: 1}"
      ]
     },
     "execution_count": 9,
     "metadata": {},
     "output_type": "execute_result"
    }
   ],
   "source": [
    "J.subs(x, eq_points[1]).eigenvals() #Unstable since Re(lambda) > 0"
   ]
  },
  {
   "cell_type": "code",
   "execution_count": 10,
   "metadata": {},
   "outputs": [
    {
     "data": {
      "image/png": "[encoded data removed]",
      "text/latex": [
       "$\\displaystyle \\left\\{ 0.881667350514929 - 1.29666070542127 i : 1, \\  0.881667350514929 + 1.29666070542127 i : 1\\right\\}$"
      ],
      "text/plain": [
       "{0.881667350514929 - 1.29666070542127⋅ⅈ: 1, 0.881667350514929 + 1.296660705421\n",
       "27⋅ⅈ: 1}"
      ]
     },
     "execution_count": 10,
     "metadata": {},
     "output_type": "execute_result"
    }
   ],
   "source": [
    "J.subs(x, eq_points[2]).eigenvals() #Unstable since Re(lambda) > 0"
   ]
  },
  {
   "cell_type": "code",
   "execution_count": 11,
   "metadata": {},
   "outputs": [
    {
     "data": {
      "image/png": "[encoded data removed]",
      "text/latex": [
       "$\\displaystyle \\left\\{ 0.575422785340888 - 1.51356709623909 i : 1, \\  0.575422785340888 + 1.51356709623909 i : 1\\right\\}$"
      ],
      "text/plain": [
       "{0.575422785340888 - 1.51356709623909⋅ⅈ: 1, 0.575422785340888 + 1.513567096239\n",
       "09⋅ⅈ: 1}"
      ]
     },
     "execution_count": 11,
     "metadata": {},
     "output_type": "execute_result"
    }
   ],
   "source": [
    "J.subs(x, eq_points[3]).eigenvals() #Unstable since Re(lambda) > 0"
   ]
  },
  {
   "cell_type": "code",
   "execution_count": 12,
   "metadata": {},
   "outputs": [
    {
     "data": {
      "image/png": "[encoded data removed]",
      "text/latex": [
       "$\\displaystyle \\left\\{ 0.22163052025825 - 1.66179597340986 i : 1, \\  0.22163052025825 + 1.66179597340986 i : 1\\right\\}$"
      ],
      "text/plain": [
       "{0.22163052025825 - 1.66179597340986⋅ⅈ: 1, 0.22163052025825 + 1.66179597340986\n",
       "⋅ⅈ: 1}"
      ]
     },
     "execution_count": 12,
     "metadata": {},
     "output_type": "execute_result"
    }
   ],
   "source": [
    "J.subs(x, eq_points[4]).eigenvals() #Unstable since Re(lambda) > 0"
   ]
  },
  {
   "cell_type": "code",
   "execution_count": null,
   "metadata": {},
   "outputs": [],
   "source": [
    "#Need to find value of z that makes the Re(lamba) = 0."
   ]
  }
 ],
 "metadata": {
  "kernelspec": {
   "display_name": "Python 3",
   "language": "python",
   "name": "python3"
  },
  "language_info": {
   "codemirror_mode": {
    "name": "ipython",
    "version": 3
   },
   "file_extension": ".py",
   "mimetype": "text/x-python",
   "name": "python",
   "nbconvert_exporter": "python",
   "pygments_lexer": "ipython3",
   "version": "3.8.2"
  }
 },
 "nbformat": 4,
 "nbformat_minor": 4
}

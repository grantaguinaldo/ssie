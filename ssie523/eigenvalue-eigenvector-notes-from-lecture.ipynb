{
 "cells": [
  {
   "cell_type": "markdown",
   "metadata": {},
   "source": [
    "### Dominant Eigenvalue\n",
    "The dominant eigenvalue is the value with the largest absolute value. If $\\lambda < 1$  or $\\lambda > 1$ the divergence will take place in an oscillatory way. If $\\lambda = 1$ then there is no change. Between a set of eigenvalues that all show divergence, the one with the largest $\\lambda$ value will be the vector to diverge the fastest.\n",
    "\n",
    "The vectors after $k$ timesteps should be in the or opposite direction of the dominant eigenvector.\n",
    "\n",
    "Does this mean that the cosine of the that the vector producted after $k$ timesteps and the dominant eigenvector should be $1$?"
   ]
  },
  {
   "cell_type": "code",
   "execution_count": 1,
   "metadata": {},
   "outputs": [],
   "source": [
    "import numpy as np"
   ]
  },
  {
   "cell_type": "code",
   "execution_count": 2,
   "metadata": {},
   "outputs": [
    {
     "data": {
      "text/plain": [
       "array([[ 1,  0, -1],\n",
       "       [ 0,  1,  1],\n",
       "       [-1,  1, -3]])"
      ]
     },
     "execution_count": 2,
     "metadata": {},
     "output_type": "execute_result"
    }
   ],
   "source": [
    "A = np.array([[1, 0, -1], \n",
    "              [0, 1, 1], \n",
    "              [-1, 1, -3]])\n",
    "A"
   ]
  },
  {
   "cell_type": "code",
   "execution_count": 3,
   "metadata": {},
   "outputs": [
    {
     "data": {
      "text/plain": [
       "array([[ -8],\n",
       "       [ 10],\n",
       "       [-37]])"
      ]
     },
     "execution_count": 3,
     "metadata": {},
     "output_type": "execute_result"
    }
   ],
   "source": [
    "A @ A @ A @ [[1], [1], [1]]"
   ]
  },
  {
   "cell_type": "code",
   "execution_count": 4,
   "metadata": {},
   "outputs": [
    {
     "data": {
      "text/plain": [
       "array([[1.],\n",
       "       [0.],\n",
       "       [0.]])"
      ]
     },
     "execution_count": 4,
     "metadata": {},
     "output_type": "execute_result"
    }
   ],
   "source": [
    "B = np.array([1., 0., 0.]).reshape(3, 1)\n",
    "B"
   ]
  },
  {
   "cell_type": "code",
   "execution_count": 5,
   "metadata": {},
   "outputs": [
    {
     "data": {
      "text/plain": [
       "numpy.ndarray"
      ]
     },
     "execution_count": 5,
     "metadata": {},
     "output_type": "execute_result"
    }
   ],
   "source": [
    "type(B)"
   ]
  },
  {
   "cell_type": "code",
   "execution_count": 6,
   "metadata": {},
   "outputs": [
    {
     "data": {
      "text/plain": [
       "[[1.0], [0.0], [0.0]]"
      ]
     },
     "execution_count": 6,
     "metadata": {},
     "output_type": "execute_result"
    }
   ],
   "source": [
    "C = [[1.], [0.], [0.]]\n",
    "C"
   ]
  },
  {
   "cell_type": "code",
   "execution_count": 7,
   "metadata": {},
   "outputs": [
    {
     "data": {
      "text/plain": [
       "list"
      ]
     },
     "execution_count": 7,
     "metadata": {},
     "output_type": "execute_result"
    }
   ],
   "source": [
    "type(C)"
   ]
  },
  {
   "cell_type": "code",
   "execution_count": 8,
   "metadata": {},
   "outputs": [],
   "source": [
    "#I get different values from what was noted in the lecture. \n",
    "D = np.linalg.matrix_power(A, 1000)"
   ]
  },
  {
   "cell_type": "code",
   "execution_count": 9,
   "metadata": {},
   "outputs": [
    {
     "data": {
      "text/plain": [
       "array([[ 6.19610576e+18],\n",
       "       [-6.19610576e+18],\n",
       "       [ 4.68751787e+18]])"
      ]
     },
     "execution_count": 9,
     "metadata": {},
     "output_type": "execute_result"
    }
   ],
   "source": [
    "D.dot(C)"
   ]
  },
  {
   "cell_type": "code",
   "execution_count": 10,
   "metadata": {},
   "outputs": [
    {
     "data": {
      "text/plain": [
       "array([[ 6.19610576e+18],\n",
       "       [-6.19610576e+18],\n",
       "       [ 4.68751787e+18]])"
      ]
     },
     "execution_count": 10,
     "metadata": {},
     "output_type": "execute_result"
    }
   ],
   "source": [
    "D @ C"
   ]
  },
  {
   "cell_type": "code",
   "execution_count": 11,
   "metadata": {},
   "outputs": [
    {
     "data": {
      "text/plain": [
       "(array([-3.44948974,  1.        ,  1.44948974]),\n",
       " array([[ 2.14186495e-01, -7.07106781e-01, -6.73887339e-01],\n",
       "        [-2.14186495e-01, -7.07106781e-01,  6.73887339e-01],\n",
       "        [ 9.53020614e-01,  1.33504240e-17,  3.02905447e-01]]))"
      ]
     },
     "execution_count": 11,
     "metadata": {},
     "output_type": "execute_result"
    }
   ],
   "source": [
    "E = np.linalg.eig(A)\n",
    "E"
   ]
  },
  {
   "cell_type": "code",
   "execution_count": 12,
   "metadata": {},
   "outputs": [
    {
     "data": {
      "text/plain": [
       "array([[ 6.19610576e+18],\n",
       "       [-6.19610576e+18],\n",
       "       [ 4.68751787e+18]])"
      ]
     },
     "execution_count": 12,
     "metadata": {},
     "output_type": "execute_result"
    }
   ],
   "source": [
    "np.linalg.matrix_power(A, 1000) @ [[1.], [0.], [0.]]\n",
    "# x and z are same sign.\n",
    "# Should be in same direction as the dominant eigenvector."
   ]
  },
  {
   "cell_type": "code",
   "execution_count": 13,
   "metadata": {},
   "outputs": [
    {
     "data": {
      "text/plain": [
       "array([[ 1.50858789e+18],\n",
       "       [-1.50858789e+18],\n",
       "       [-8.00802104e+18]])"
      ]
     },
     "execution_count": 13,
     "metadata": {},
     "output_type": "execute_result"
    }
   ],
   "source": [
    "np.linalg.matrix_power(A, 1001) @ [[1.], [0.], [0.]]\n",
    "#x and z are different sign."
   ]
  },
  {
   "cell_type": "code",
   "execution_count": 14,
   "metadata": {},
   "outputs": [
    {
     "data": {
      "text/plain": [
       "array([[-8.93013514e+18],\n",
       "       [ 8.93013514e+18],\n",
       "       [ 2.56014326e+18]])"
      ]
     },
     "execution_count": 14,
     "metadata": {},
     "output_type": "execute_result"
    }
   ],
   "source": [
    "np.linalg.matrix_power(A, 1002) @ [[1.], [0.], [0.]]\n",
    "#x and z are different sign."
   ]
  },
  {
   "cell_type": "code",
   "execution_count": 15,
   "metadata": {},
   "outputs": [
    {
     "data": {
      "text/plain": [
       "array([[ 6.95646567e+18],\n",
       "       [-6.95646567e+18],\n",
       "       [-8.26690357e+18]])"
      ]
     },
     "execution_count": 15,
     "metadata": {},
     "output_type": "execute_result"
    }
   ],
   "source": [
    "np.linalg.matrix_power(A, 1003) @ [[1.], [0.], [0.]]\n",
    "#x and z are different sign."
   ]
  },
  {
   "cell_type": "code",
   "execution_count": 16,
   "metadata": {},
   "outputs": [
    {
     "data": {
      "text/plain": [
       "array([[-3.22337483e+18],\n",
       "       [ 3.22337483e+18],\n",
       "       [-7.55896472e+18]])"
      ]
     },
     "execution_count": 16,
     "metadata": {},
     "output_type": "execute_result"
    }
   ],
   "source": [
    "np.linalg.matrix_power(A, 1004) @ [[1.], [0.], [0.]]\n",
    "#x and z are same sign."
   ]
  },
  {
   "cell_type": "code",
   "execution_count": 17,
   "metadata": {},
   "outputs": [
    {
     "data": {
      "text/plain": [
       "array([[ 4.33558989e+18],\n",
       "       [-4.33558989e+18],\n",
       "       [-7.76984431e+18]])"
      ]
     },
     "execution_count": 17,
     "metadata": {},
     "output_type": "execute_result"
    }
   ],
   "source": [
    "np.linalg.matrix_power(A, 1005) @ [[1.], [0.], [0.]]\n",
    "#x and z are different sign."
   ]
  },
  {
   "cell_type": "code",
   "execution_count": null,
   "metadata": {},
   "outputs": [],
   "source": []
  },
  {
   "cell_type": "code",
   "execution_count": 18,
   "metadata": {},
   "outputs": [],
   "source": [
    "def dom_eigenvalue(A):\n",
    "    eigen_obj = np.linalg.eig(A)\n",
    "    pos = np.argmax([abs(each) for each in eigen_obj[0]])\n",
    "    return eigen_obj[0][pos]"
   ]
  },
  {
   "cell_type": "code",
   "execution_count": 19,
   "metadata": {},
   "outputs": [
    {
     "name": "stdout",
     "output_type": "stream",
     "text": [
      "Dominant Eigenvalue: -3.44949\n"
     ]
    }
   ],
   "source": [
    "print('Dominant Eigenvalue: {:.5f}'.format(dom_eigenvalue(A=A)))"
   ]
  },
  {
   "cell_type": "code",
   "execution_count": 20,
   "metadata": {},
   "outputs": [],
   "source": [
    "def cosine_ab(a, b):\n",
    "    '''\n",
    "    Computes the Cosine of the angle \n",
    "    between vectors a and b.\n",
    "    '''\n",
    "    num = np.dot(a, b)\n",
    "    dem_a = np.linalg.norm(a)\n",
    "    dem_b = np.linalg.norm(b)\n",
    "    return num / (dem_a * dem_b)"
   ]
  },
  {
   "cell_type": "code",
   "execution_count": 21,
   "metadata": {},
   "outputs": [],
   "source": [
    "A1 = np.linalg.matrix_power(A, 1001) \n",
    "B1 = np.array([1., 0., 0.]).reshape(3,1)"
   ]
  },
  {
   "cell_type": "code",
   "execution_count": 22,
   "metadata": {},
   "outputs": [
    {
     "data": {
      "text/plain": [
       "array([[ 1508587892935922825, -1508587892935922824, -8008021039354442633],\n",
       "       [-1508587892935922824,  1508587892935922825,  8008021039354442633],\n",
       "       [-8008021039354442633,  8008021039354442633,  7878579775873178349]])"
      ]
     },
     "execution_count": 22,
     "metadata": {},
     "output_type": "execute_result"
    }
   ],
   "source": [
    "A1"
   ]
  },
  {
   "cell_type": "code",
   "execution_count": 23,
   "metadata": {},
   "outputs": [
    {
     "data": {
      "text/plain": [
       "array([[ 1.50858789e+18, -1.50858789e+18, -8.00802104e+18]])"
      ]
     },
     "execution_count": 23,
     "metadata": {},
     "output_type": "execute_result"
    }
   ],
   "source": [
    "product = A1.dot(B1)\n",
    "product.reshape(1, 3)"
   ]
  },
  {
   "cell_type": "code",
   "execution_count": 24,
   "metadata": {},
   "outputs": [
    {
     "data": {
      "text/plain": [
       "array([ 0.2141865 , -0.2141865 ,  0.95302061])"
      ]
     },
     "execution_count": 24,
     "metadata": {},
     "output_type": "execute_result"
    }
   ],
   "source": [
    "eigen_vector = E[1][:,0]\n",
    "eigen_vector"
   ]
  },
  {
   "cell_type": "code",
   "execution_count": 25,
   "metadata": {},
   "outputs": [
    {
     "data": {
      "text/plain": [
       "array([-0.84292031])"
      ]
     },
     "execution_count": 25,
     "metadata": {},
     "output_type": "execute_result"
    }
   ],
   "source": [
    "#I expected this number to be either -1 or 1 since it has to be in the same direction as the eigenvector.\n",
    "cosine_ab(product.reshape(1, 3), eigen_vector)"
   ]
  },
  {
   "cell_type": "markdown",
   "metadata": {},
   "source": [
    "### Exercise 5.12"
   ]
  },
  {
   "cell_type": "code",
   "execution_count": 32,
   "metadata": {},
   "outputs": [],
   "source": [
    "A = np.array([[1, -1, 0], \n",
    "              [-1, -3, 1], \n",
    "              [0, 1, 1]])"
   ]
  },
  {
   "cell_type": "code",
   "execution_count": 33,
   "metadata": {},
   "outputs": [
    {
     "data": {
      "text/plain": [
       "(array([-3.44948974,  1.        ,  1.44948974]),\n",
       " array([[ 2.14186495e-01, -7.07106781e-01, -6.73887339e-01],\n",
       "        [ 9.53020614e-01,  1.33504240e-17,  3.02905447e-01],\n",
       "        [-2.14186495e-01, -7.07106781e-01,  6.73887339e-01]]))"
      ]
     },
     "execution_count": 33,
     "metadata": {},
     "output_type": "execute_result"
    }
   ],
   "source": [
    "np.linalg.eig(A)"
   ]
  },
  {
   "cell_type": "markdown",
   "metadata": {},
   "source": [
    "The dominant eigenvalue is $|\\lambda| = 3.45$. Given the fact that $|\\lambda| > 1$, the dominant eigenvectors are diverging to infinity (i.e., growing)."
   ]
  },
  {
   "cell_type": "code",
   "execution_count": 34,
   "metadata": {},
   "outputs": [
    {
     "data": {
      "text/plain": [
       "array([[ 0.2141865 ],\n",
       "       [ 0.95302061],\n",
       "       [-0.2141865 ]])"
      ]
     },
     "execution_count": 34,
     "metadata": {},
     "output_type": "execute_result"
    }
   ],
   "source": [
    "#Dominant Eigenvector.\n",
    "np.linalg.eig(A)[1][:,0].reshape(3, 1)"
   ]
  },
  {
   "cell_type": "code",
   "execution_count": 40,
   "metadata": {},
   "outputs": [
    {
     "data": {
      "text/plain": [
       "array([[-8930135141419186158,  2560143258481930634,  8930135141419186159],\n",
       "       [ 2560143258481930634, -7619697248910649781, -2560143258481930634],\n",
       "       [ 8930135141419186159, -2560143258481930634, -8930135141419186158]])"
      ]
     },
     "execution_count": 40,
     "metadata": {},
     "output_type": "execute_result"
    }
   ],
   "source": [
    "np.linalg.matrix_power(A, 1002)"
   ]
  },
  {
   "cell_type": "code",
   "execution_count": 41,
   "metadata": {},
   "outputs": [
    {
     "data": {
      "text/plain": [
       "array([[ 6956465673808434824, -8266903566316971201, -6956465673808434823],\n",
       "       [-8266903566316971201,  -707938843941463541,  8266903566316971201],\n",
       "       [-6956465673808434823,  8266903566316971201,  6956465673808434824]])"
      ]
     },
     "execution_count": 41,
     "metadata": {},
     "output_type": "execute_result"
    }
   ],
   "source": [
    "np.linalg.matrix_power(A, 1003)"
   ]
  },
  {
   "cell_type": "code",
   "execution_count": 42,
   "metadata": {},
   "outputs": [
    {
     "data": {
      "text/plain": [
       "array([[-3223374833584145591, -7558964722375507660,  3223374833584145592],\n",
       "       [-7558964722375507660,   210879590748781409,  7558964722375507660],\n",
       "       [ 3223374833584145592,  7558964722375507660, -3223374833584145591]])"
      ]
     },
     "execution_count": 42,
     "metadata": {},
     "output_type": "execute_result"
    }
   ],
   "source": [
    "np.linalg.matrix_power(A, 1004)"
   ]
  },
  {
   "cell_type": "markdown",
   "metadata": {},
   "source": [
    "### Exercise 5.11"
   ]
  },
  {
   "cell_type": "code",
   "execution_count": 43,
   "metadata": {},
   "outputs": [],
   "source": [
    "def model(x_init, y_init, itr):\n",
    "    \n",
    "    xresults = [x_init]\n",
    "    yresults = [y_init]\n",
    "    \n",
    "    for each in range(0, itr):\n",
    "        x_new = xresults[-1] + yresults[-1]\n",
    "        y_new = xresults[-1] \n",
    "        \n",
    "        xresults.append(x_new)\n",
    "        yresults.append(y_new)\n",
    "    \n",
    "    results = {}\n",
    "    \n",
    "    results['xresults'] = xresults\n",
    "    results['yresults'] = yresults\n",
    "    \n",
    "    return results"
   ]
  },
  {
   "cell_type": "code",
   "execution_count": 45,
   "metadata": {},
   "outputs": [
    {
     "data": {
      "text/plain": [
       "[-2.0, -1.5, -1.0, -0.5, 0.0, 0.5, 1.0, 1.5]"
      ]
     },
     "execution_count": 45,
     "metadata": {},
     "output_type": "execute_result"
    }
   ],
   "source": [
    "list(np.arange(-2, 2, 0.5))"
   ]
  },
  {
   "cell_type": "code",
   "execution_count": 54,
   "metadata": {},
   "outputs": [
    {
     "data": {
      "image/png": "[encoded data removed]",
      "text/plain": [
       "<Figure size 432x288 with 1 Axes>"
      ]
     },
     "metadata": {
      "needs_background": "light"
     },
     "output_type": "display_data"
    }
   ],
   "source": [
    "run = model(x_init=-0.09, y_init=0.025, itr=30)\n",
    "plt.plot(run['xresults'], run['yresults'])\n",
    "plt.show()"
   ]
  },
  {
   "cell_type": "code",
   "execution_count": null,
   "metadata": {},
   "outputs": [],
   "source": []
  },
  {
   "cell_type": "code",
   "execution_count": null,
   "metadata": {},
   "outputs": [],
   "source": []
  },
  {
   "cell_type": "code",
   "execution_count": null,
   "metadata": {},
   "outputs": [],
   "source": []
  }
 ],
 "metadata": {
  "kernelspec": {
   "display_name": "Python 3",
   "language": "python",
   "name": "python3"
  },
  "language_info": {
   "codemirror_mode": {
    "name": "ipython",
    "version": 3
   },
   "file_extension": ".py",
   "mimetype": "text/x-python",
   "name": "python",
   "nbconvert_exporter": "python",
   "pygments_lexer": "ipython3",
   "version": "3.8.2"
  }
 },
 "nbformat": 4,
 "nbformat_minor": 4
}

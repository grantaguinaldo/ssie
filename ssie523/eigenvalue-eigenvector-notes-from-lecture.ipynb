{
 "cells": [
  {
   "cell_type": "markdown",
   "metadata": {},
   "source": [
    "### Dominant Eigenvalue\n",
    "The dominant eigenvalue is the value with the largest absolute value. If $\\lambda < 1$  or $\\lambda > 1$ the divergence will take place in an oscillatory way. If $\\lambda = 1$ then there is no change. Between a set of eigenvalues that all show divergence, the one with the largest $\\lambda$ value will be the vector to diverge the fastest.\n",
    "\n",
    "The vectors after $k$ timesteps should be in the or opposite direction of the dominant eigenvector.\n",
    "\n",
    "Does this mean that the cosine of the that the vector producted after $k$ timesteps and the dominant eigenvector should be $1$?"
   ]
  },
  {
   "cell_type": "code",
   "execution_count": 1,
   "metadata": {},
   "outputs": [],
   "source": [
    "import numpy as np\n",
    "import matplotlib.pyplot as plt"
   ]
  },
  {
   "cell_type": "code",
   "execution_count": 2,
   "metadata": {},
   "outputs": [
    {
     "data": {
      "text/plain": [
       "array([[ 1,  0, -1],\n",
       "       [ 0,  1,  1],\n",
       "       [-1,  1, -3]])"
      ]
     },
     "execution_count": 2,
     "metadata": {},
     "output_type": "execute_result"
    }
   ],
   "source": [
    "A = np.array([[1, 0, -1], \n",
    "              [0, 1, 1], \n",
    "              [-1, 1, -3]])\n",
    "A"
   ]
  },
  {
   "cell_type": "code",
   "execution_count": 3,
   "metadata": {},
   "outputs": [
    {
     "data": {
      "text/plain": [
       "array([[ 10962, -10961,  48682],\n",
       "       [-10961,  10962, -48682],\n",
       "       [ 48682, -48682, 216651]])"
      ]
     },
     "execution_count": 3,
     "metadata": {},
     "output_type": "execute_result"
    }
   ],
   "source": [
    "np.linalg.matrix_power(A, 10)"
   ]
  },
  {
   "cell_type": "code",
   "execution_count": 4,
   "metadata": {},
   "outputs": [
    {
     "data": {
      "text/plain": [
       "(array([-3.44948974,  1.        ,  1.44948974]),\n",
       " array([[ 2.14186495e-01, -7.07106781e-01, -6.73887339e-01],\n",
       "        [-2.14186495e-01, -7.07106781e-01,  6.73887339e-01],\n",
       "        [ 9.53020614e-01,  1.33504240e-17,  3.02905447e-01]]))"
      ]
     },
     "execution_count": 4,
     "metadata": {},
     "output_type": "execute_result"
    }
   ],
   "source": [
    "np.linalg.eig(A)"
   ]
  },
  {
   "cell_type": "code",
   "execution_count": 12,
   "metadata": {},
   "outputs": [
    {
     "data": {
      "text/plain": [
       "array([[ 0.2141865 ],\n",
       "       [-0.2141865 ],\n",
       "       [ 0.95302061]])"
      ]
     },
     "execution_count": 12,
     "metadata": {},
     "output_type": "execute_result"
    }
   ],
   "source": [
    "np.linalg.eig(A)[1][:, 0].reshape(3, 1)"
   ]
  },
  {
   "cell_type": "code",
   "execution_count": 9,
   "metadata": {},
   "outputs": [
    {
     "data": {
      "text/plain": [
       "array([[-0.73883412],\n",
       "       [ 0.73883412],\n",
       "       [-3.28743483]])"
      ]
     },
     "execution_count": 9,
     "metadata": {},
     "output_type": "execute_result"
    }
   ],
   "source": [
    "A.dot(np.linalg.eig(A)[1][:, 0].reshape(3, 1))\n",
    "\n",
    "# Matrix times a \"vector\", which gives another vector, however, \n",
    "# in this case, the input vector is special in that it's an eigenvector."
   ]
  },
  {
   "cell_type": "code",
   "execution_count": 7,
   "metadata": {},
   "outputs": [
    {
     "data": {
      "text/plain": [
       "array([[-0.73883412],\n",
       "       [ 0.73883412],\n",
       "       [-3.28743483]])"
      ]
     },
     "execution_count": 7,
     "metadata": {},
     "output_type": "execute_result"
    }
   ],
   "source": [
    "-3.44948974 * np.linalg.eig(A)[1][:, 0].reshape(3, 1)"
   ]
  },
  {
   "cell_type": "markdown",
   "metadata": {},
   "source": [
    "$A \\in R^{n \\times n}$"
   ]
  },
  {
   "cell_type": "code",
   "execution_count": null,
   "metadata": {},
   "outputs": [],
   "source": [
    "def cosine_ab(a, b):\n",
    "    '''\n",
    "    Computes the Cosine of the angle \n",
    "    between vectors a and b.\n",
    "    '''\n",
    "    num = np.dot(a, b)\n",
    "    dem_a = np.linalg.norm(a)\n",
    "    dem_b = np.linalg.norm(b)\n",
    "    return num / (dem_a * dem_b)"
   ]
  },
  {
   "cell_type": "code",
   "execution_count": null,
   "metadata": {},
   "outputs": [],
   "source": [
    "np.linalg.matrix_power(A, 10)[:,0]"
   ]
  },
  {
   "cell_type": "code",
   "execution_count": null,
   "metadata": {},
   "outputs": [],
   "source": []
  },
  {
   "cell_type": "code",
   "execution_count": null,
   "metadata": {},
   "outputs": [],
   "source": [
    "A @ A @ A @ [[1], [1], [1]]"
   ]
  },
  {
   "cell_type": "code",
   "execution_count": null,
   "metadata": {},
   "outputs": [],
   "source": [
    "B = np.array([1., 0., 0.]).reshape(3, 1)\n",
    "B"
   ]
  },
  {
   "cell_type": "code",
   "execution_count": null,
   "metadata": {},
   "outputs": [],
   "source": [
    "type(B)"
   ]
  },
  {
   "cell_type": "code",
   "execution_count": null,
   "metadata": {},
   "outputs": [],
   "source": [
    "C = [[1.], [0.], [0.]]\n",
    "C"
   ]
  },
  {
   "cell_type": "code",
   "execution_count": null,
   "metadata": {},
   "outputs": [],
   "source": [
    "type(C)"
   ]
  },
  {
   "cell_type": "code",
   "execution_count": null,
   "metadata": {},
   "outputs": [],
   "source": [
    "#I get different values from what was noted in the lecture. \n",
    "D = np.linalg.matrix_power(A, 1000)"
   ]
  },
  {
   "cell_type": "code",
   "execution_count": null,
   "metadata": {},
   "outputs": [],
   "source": [
    "D.dot(C)"
   ]
  },
  {
   "cell_type": "code",
   "execution_count": null,
   "metadata": {},
   "outputs": [],
   "source": [
    "D @ C"
   ]
  },
  {
   "cell_type": "code",
   "execution_count": null,
   "metadata": {},
   "outputs": [],
   "source": [
    "E = np.linalg.eig(A)\n",
    "A"
   ]
  },
  {
   "cell_type": "code",
   "execution_count": null,
   "metadata": {},
   "outputs": [],
   "source": [
    "np.linalg.matrix_power(A, 10)"
   ]
  },
  {
   "cell_type": "code",
   "execution_count": null,
   "metadata": {},
   "outputs": [],
   "source": []
  },
  {
   "cell_type": "code",
   "execution_count": null,
   "metadata": {},
   "outputs": [],
   "source": [
    "cosine_ab(E[1][:,0], np.linalg.matrix_power(A, 10)[:,0])"
   ]
  },
  {
   "cell_type": "code",
   "execution_count": null,
   "metadata": {},
   "outputs": [],
   "source": [
    "np.linalg.matrix_power(A, 1000) @ [[1.], [0.], [0.]]\n",
    "# x and z are same sign.\n",
    "# Should be in same direction as the dominant eigenvector."
   ]
  },
  {
   "cell_type": "code",
   "execution_count": null,
   "metadata": {},
   "outputs": [],
   "source": [
    "np.linalg.matrix_power(A, 1001) @ [[1.], [0.], [0.]]\n",
    "#x and z are different sign."
   ]
  },
  {
   "cell_type": "code",
   "execution_count": null,
   "metadata": {},
   "outputs": [],
   "source": [
    "np.linalg.matrix_power(A, 1002) @ [[1.], [0.], [0.]]\n",
    "#x and z are different sign."
   ]
  },
  {
   "cell_type": "code",
   "execution_count": null,
   "metadata": {},
   "outputs": [],
   "source": [
    "np.linalg.matrix_power(A, 1003) @ [[1.], [0.], [0.]]\n",
    "#x and z are different sign."
   ]
  },
  {
   "cell_type": "code",
   "execution_count": null,
   "metadata": {},
   "outputs": [],
   "source": [
    "np.linalg.matrix_power(A, 1004) @ [[1.], [0.], [0.]]\n",
    "#x and z are same sign."
   ]
  },
  {
   "cell_type": "code",
   "execution_count": null,
   "metadata": {},
   "outputs": [],
   "source": [
    "np.linalg.matrix_power(A, 1005) @ [[1.], [0.], [0.]]\n",
    "#x and z are different sign."
   ]
  },
  {
   "cell_type": "code",
   "execution_count": null,
   "metadata": {},
   "outputs": [],
   "source": []
  },
  {
   "cell_type": "code",
   "execution_count": null,
   "metadata": {},
   "outputs": [],
   "source": [
    "def dom_eigenvalue(A):\n",
    "    eigen_obj = np.linalg.eig(A)\n",
    "    pos = np.argmax([abs(each) for each in eigen_obj[0]])\n",
    "    return eigen_obj[0][pos]"
   ]
  },
  {
   "cell_type": "code",
   "execution_count": null,
   "metadata": {},
   "outputs": [],
   "source": [
    "print('Dominant Eigenvalue: {:.5f}'.format(dom_eigenvalue(A=A)))"
   ]
  },
  {
   "cell_type": "code",
   "execution_count": null,
   "metadata": {},
   "outputs": [],
   "source": [
    "def cosine_ab(a, b):\n",
    "    '''\n",
    "    Computes the Cosine of the angle \n",
    "    between vectors a and b.\n",
    "    '''\n",
    "    num = np.dot(a, b)\n",
    "    dem_a = np.linalg.norm(a)\n",
    "    dem_b = np.linalg.norm(b)\n",
    "    return num / (dem_a * dem_b)"
   ]
  },
  {
   "cell_type": "code",
   "execution_count": null,
   "metadata": {},
   "outputs": [],
   "source": [
    "A1 = np.linalg.matrix_power(A, 1001) \n",
    "B1 = np.array([1., 0., 0.]).reshape(3,1)"
   ]
  },
  {
   "cell_type": "code",
   "execution_count": null,
   "metadata": {},
   "outputs": [],
   "source": [
    "A1"
   ]
  },
  {
   "cell_type": "code",
   "execution_count": null,
   "metadata": {},
   "outputs": [],
   "source": [
    "product = A1.dot(B1)\n",
    "product.reshape(1, 3)"
   ]
  },
  {
   "cell_type": "code",
   "execution_count": null,
   "metadata": {},
   "outputs": [],
   "source": [
    "eigen_vector = E[1][:,0]\n",
    "eigen_vector"
   ]
  },
  {
   "cell_type": "code",
   "execution_count": null,
   "metadata": {},
   "outputs": [],
   "source": [
    "#I expected this number to be either -1 or 1 since it has to be in the same direction as the eigenvector.\n",
    "cosine_ab(product.reshape(1, 3), eigen_vector)"
   ]
  },
  {
   "cell_type": "markdown",
   "metadata": {},
   "source": [
    "### Exercise 5.12"
   ]
  },
  {
   "cell_type": "code",
   "execution_count": null,
   "metadata": {},
   "outputs": [],
   "source": [
    "A = np.array([[1, -1, 0], \n",
    "              [-1, -3, 1], \n",
    "              [0, 1, 1]])"
   ]
  },
  {
   "cell_type": "code",
   "execution_count": null,
   "metadata": {},
   "outputs": [],
   "source": [
    "np.linalg.eig(A)"
   ]
  },
  {
   "cell_type": "markdown",
   "metadata": {},
   "source": [
    "The dominant eigenvalue is $|\\lambda| = 3.45$. Given the fact that $|\\lambda| > 1$, the dominant eigenvectors are diverging to infinity (i.e., growing)."
   ]
  },
  {
   "cell_type": "code",
   "execution_count": null,
   "metadata": {},
   "outputs": [],
   "source": [
    "#Dominant Eigenvector.\n",
    "np.linalg.eig(A)[1][:,0].reshape(3, 1)"
   ]
  },
  {
   "cell_type": "code",
   "execution_count": null,
   "metadata": {},
   "outputs": [],
   "source": [
    "np.linalg.matrix_power(A, 1002)"
   ]
  },
  {
   "cell_type": "code",
   "execution_count": null,
   "metadata": {},
   "outputs": [],
   "source": [
    "np.linalg.matrix_power(A, 1003)"
   ]
  },
  {
   "cell_type": "code",
   "execution_count": null,
   "metadata": {},
   "outputs": [],
   "source": [
    "np.linalg.matrix_power(A, 1004)"
   ]
  },
  {
   "cell_type": "markdown",
   "metadata": {},
   "source": [
    "### Exercise 5.11"
   ]
  },
  {
   "cell_type": "code",
   "execution_count": null,
   "metadata": {},
   "outputs": [],
   "source": [
    "def model(x_init, y_init, itr):\n",
    "    \n",
    "    xresults = [x_init]\n",
    "    yresults = [y_init]\n",
    "    \n",
    "    for each in range(0, itr):\n",
    "        x_new = xresults[-1] + yresults[-1]\n",
    "        y_new = xresults[-1] \n",
    "        \n",
    "        xresults.append(x_new)\n",
    "        yresults.append(y_new)\n",
    "    \n",
    "    results = {}\n",
    "    \n",
    "    results['xresults'] = xresults\n",
    "    results['yresults'] = yresults\n",
    "    \n",
    "    return results"
   ]
  },
  {
   "cell_type": "code",
   "execution_count": null,
   "metadata": {},
   "outputs": [],
   "source": [
    "list(np.arange(-2, 2, 0.5))"
   ]
  },
  {
   "cell_type": "code",
   "execution_count": null,
   "metadata": {},
   "outputs": [],
   "source": [
    "run = model(x_init=-0.09, y_init=0.025, itr=30)\n",
    "plt.plot(run['xresults'], run['yresults'])\n",
    "plt.show()"
   ]
  },
  {
   "cell_type": "code",
   "execution_count": null,
   "metadata": {},
   "outputs": [],
   "source": []
  },
  {
   "cell_type": "code",
   "execution_count": null,
   "metadata": {},
   "outputs": [],
   "source": []
  },
  {
   "cell_type": "code",
   "execution_count": null,
   "metadata": {},
   "outputs": [],
   "source": []
  }
 ],
 "metadata": {
  "kernelspec": {
   "display_name": "Python 3",
   "language": "python",
   "name": "python3"
  },
  "language_info": {
   "codemirror_mode": {
    "name": "ipython",
    "version": 3
   },
   "file_extension": ".py",
   "mimetype": "text/x-python",
   "name": "python",
   "nbconvert_exporter": "python",
   "pygments_lexer": "ipython3",
   "version": "3.8.2"
  }
 },
 "nbformat": 4,
 "nbformat_minor": 4
}

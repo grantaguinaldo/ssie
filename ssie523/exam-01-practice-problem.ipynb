{
 "cells": [
  {
   "cell_type": "markdown",
   "metadata": {},
   "source": [
    "### Practice Exam Problem "
   ]
  },
  {
   "cell_type": "code",
   "execution_count": 1,
   "metadata": {},
   "outputs": [],
   "source": [
    "import numpy as np\n",
    "import matplotlib.pyplot as plt\n",
    "from sympy import *\n",
    "init_printing()\n",
    "%matplotlib inline\n",
    "\n",
    "a, b, c, d, x, y = symbols('a b c d x y')"
   ]
  },
  {
   "cell_type": "markdown",
   "metadata": {},
   "source": [
    "### Problem \n",
    "Consider the following predator-prey model, with $x$ being the population size of prey and $y$ of predators (such that $x \\geq 0$ $y \\geq 0$) and $a$, $b$, $c$ and $d$ are positive parameters.\n",
    "\n",
    "$\\frac{dx}{dt} = ax - bxy$\n",
    "\n",
    "$\\frac{dy}{dt} = -cy + dxy$\n",
    "\n",
    "Please answer the following questions:\n",
    "1. Explain what each term on the right hand sides represents.\n",
    "2. Find the equilibrium points.\n",
    "3. Calculate the Jacobian matrix of the model.\n",
    "4. Conduct linear stability analysis for each of the equilibrium points, and discuss the conditions (regarding the parameter values of a, b, c and d) under which they are stable/unstable.\n",
    "5. Identify the parameter setting at which a bifurcation occurs.\n",
    "\n",
    "---\n",
    "\n",
    "As defined, $\\frac{dx}{dt}$ represents the change in the population of prey as a function of time. In this model, the quantity $\\frac{dx}{dt}$ can be computed by the population of the prey (i.e., $x$) _less_ the amount that the prey gets consumed by the predators (i.e., $y$). The constant $b$ represents the predator-prey interaction rate, and the constant $a$ is proportional to the amount of prey in the population.\n",
    "\n",
    "As defined, $\\frac{dy}{dt}$ represents the change in the population of the predators in the population as a function of time. In this model, the quantity $\\frac{dy}{dt}$ can be computed by the _decrease_ in the population of the predators, $y$, possibly due to attrition as well as the amount of predators, $y$, that can interact with the prey, $x$. The constant $c$ represents the rate that the predators are loss, and the constant $d$ is proportional to the amount of predator-prey interaction in the population."
   ]
  },
  {
   "cell_type": "code",
   "execution_count": 2,
   "metadata": {},
   "outputs": [],
   "source": [
    "Xdot = a * x - b * y * x\n",
    "Ydot = -c * y + d * y * x"
   ]
  },
  {
   "cell_type": "code",
   "execution_count": 3,
   "metadata": {},
   "outputs": [
    {
     "data": {
      "image/png": "[encoded data removed]",
      "text/latex": [
       "$\\displaystyle \\left[ \\left( 0, \\  0\\right), \\  \\left( \\frac{c}{d}, \\  \\frac{a}{b}\\right)\\right]$"
      ],
      "text/plain": [
       "⎡        ⎛c  a⎞⎤\n",
       "⎢(0, 0), ⎜─, ─⎟⎥\n",
       "⎣        ⎝d  b⎠⎦"
      ]
     },
     "execution_count": 3,
     "metadata": {},
     "output_type": "execute_result"
    }
   ],
   "source": [
    "# Find eq. points. \n",
    "solve([Xdot, Ydot], (x, y))"
   ]
  },
  {
   "cell_type": "code",
   "execution_count": 4,
   "metadata": {},
   "outputs": [
    {
     "data": {
      "text/latex": [
       "$\\displaystyle \\left[\\begin{matrix}a - b y & - b x\\\\d y & - c + d x\\end{matrix}\\right]$"
      ],
      "text/plain": [
       "⎡a - b⋅y    -b⋅x  ⎤\n",
       "⎢                 ⎥\n",
       "⎣  d⋅y    -c + d⋅x⎦"
      ]
     },
     "execution_count": 4,
     "metadata": {},
     "output_type": "execute_result"
    }
   ],
   "source": [
    "# Calculate Jacobian matrix of the model.\n",
    "J = Matrix([[Xdot.diff(x), Xdot.diff(y)], \n",
    "            [Ydot.diff(x), Ydot.diff(y)]])\n",
    "J"
   ]
  },
  {
   "cell_type": "code",
   "execution_count": 5,
   "metadata": {},
   "outputs": [
    {
     "data": {
      "text/latex": [
       "$\\displaystyle \\left[\\begin{matrix}a & 0\\\\0 & - c\\end{matrix}\\right]$"
      ],
      "text/plain": [
       "⎡a  0 ⎤\n",
       "⎢     ⎥\n",
       "⎣0  -c⎦"
      ]
     },
     "execution_count": 5,
     "metadata": {},
     "output_type": "execute_result"
    }
   ],
   "source": [
    "# Conduct stability analysis around the eq. point 1.\n",
    "J_eq_1 = J.subs([(x, 0), (y, 0)])\n",
    "J_eq_1"
   ]
  },
  {
   "cell_type": "code",
   "execution_count": 6,
   "metadata": {},
   "outputs": [
    {
     "data": {
      "image/png": "[encoded data removed]",
      "text/latex": [
       "$\\displaystyle \\left\\{ a : 1, \\  - c : 1\\right\\}$"
      ],
      "text/plain": [
       "{a: 1, -c: 1}"
      ]
     },
     "execution_count": 6,
     "metadata": {},
     "output_type": "execute_result"
    }
   ],
   "source": [
    "J_eq_1.eigenvals()"
   ]
  },
  {
   "cell_type": "code",
   "execution_count": 7,
   "metadata": {},
   "outputs": [
    {
     "data": {
      "text/plain": [
       "(array([ 5.24264069, -3.24264069,  6.        ]),\n",
       " array([[ 0.42640143, -0.42640143,  0.42342626],\n",
       "        [ 0.90453403,  0.90453403,  0.90256649],\n",
       "        [ 0.        ,  0.        ,  0.07799957]]))"
      ]
     },
     "execution_count": 7,
     "metadata": {},
     "output_type": "execute_result"
    }
   ],
   "source": [
    "A = np.array([[1, 2, 4], \n",
    "              [9, 1, 9], \n",
    "              [0, 0, 6]])\n",
    "np.linalg.eig(A)"
   ]
  },
  {
   "cell_type": "code",
   "execution_count": 8,
   "metadata": {},
   "outputs": [
    {
     "data": {
      "text/latex": [
       "$\\displaystyle \\left[ \\left( a, \\  1, \\  \\left[ \\left[\\begin{matrix}1\\\\0\\end{matrix}\\right]\\right]\\right), \\  \\left( - c, \\  1, \\  \\left[ \\left[\\begin{matrix}0\\\\1\\end{matrix}\\right]\\right]\\right)\\right]$"
      ],
      "text/plain": [
       "⎡⎛      ⎡⎡1⎤⎤⎞  ⎛       ⎡⎡0⎤⎤⎞⎤\n",
       "⎢⎜a, 1, ⎢⎢ ⎥⎥⎟, ⎜-c, 1, ⎢⎢ ⎥⎥⎟⎥\n",
       "⎣⎝      ⎣⎣0⎦⎦⎠  ⎝       ⎣⎣1⎦⎦⎠⎦"
      ]
     },
     "execution_count": 8,
     "metadata": {},
     "output_type": "execute_result"
    }
   ],
   "source": [
    "J_eq_vals_1 = J_eq_1.eigenvects()\n",
    "J_eq_vals_1"
   ]
  },
  {
   "cell_type": "code",
   "execution_count": 9,
   "metadata": {},
   "outputs": [
    {
     "data": {
      "text/latex": [
       "$\\displaystyle \\left[\\begin{matrix}0 & - \\frac{b c}{d}\\\\\\frac{a d}{b} & 0\\end{matrix}\\right]$"
      ],
      "text/plain": [
       "⎡     -b⋅c ⎤\n",
       "⎢ 0   ─────⎥\n",
       "⎢       d  ⎥\n",
       "⎢          ⎥\n",
       "⎢a⋅d       ⎥\n",
       "⎢───    0  ⎥\n",
       "⎣ b        ⎦"
      ]
     },
     "execution_count": 9,
     "metadata": {},
     "output_type": "execute_result"
    }
   ],
   "source": [
    "# Conduct stability analysis around the eq. point 2.\n",
    "J_eq_2 = J.subs([(x, c/d), (y, a/b)])\n",
    "J_eq_2"
   ]
  },
  {
   "cell_type": "code",
   "execution_count": 10,
   "metadata": {},
   "outputs": [
    {
     "data": {
      "text/latex": [
       "$\\displaystyle \\left[ \\left( - \\sqrt{- a c}, \\  1, \\  \\left[ \\left[\\begin{matrix}\\frac{b c}{d \\sqrt{- a c}}\\\\1\\end{matrix}\\right]\\right]\\right), \\  \\left( \\sqrt{- a c}, \\  1, \\  \\left[ \\left[\\begin{matrix}- \\frac{b c}{d \\sqrt{- a c}}\\\\1\\end{matrix}\\right]\\right]\\right)\\right]$"
      ],
      "text/plain": [
       "⎡⎛              ⎡⎡   b⋅c    ⎤⎤⎞  ⎛             ⎡⎡  -b⋅c    ⎤⎤⎞⎤\n",
       "⎢⎜              ⎢⎢──────────⎥⎥⎟  ⎜             ⎢⎢──────────⎥⎥⎟⎥\n",
       "⎢⎜   ______     ⎢⎢    ______⎥⎥⎟  ⎜  ______     ⎢⎢    ______⎥⎥⎟⎥\n",
       "⎢⎜-╲╱ -a⋅c , 1, ⎢⎢d⋅╲╱ -a⋅c ⎥⎥⎟, ⎜╲╱ -a⋅c , 1, ⎢⎢d⋅╲╱ -a⋅c ⎥⎥⎟⎥\n",
       "⎢⎜              ⎢⎢          ⎥⎥⎟  ⎜             ⎢⎢          ⎥⎥⎟⎥\n",
       "⎣⎝              ⎣⎣    1     ⎦⎦⎠  ⎝             ⎣⎣    1     ⎦⎦⎠⎦"
      ]
     },
     "execution_count": 10,
     "metadata": {},
     "output_type": "execute_result"
    }
   ],
   "source": [
    "J_eq_vals_2 = J_eq_2.eigenvects()\n",
    "J_eq_vals_2"
   ]
  },
  {
   "cell_type": "code",
   "execution_count": 11,
   "metadata": {},
   "outputs": [],
   "source": [
    "# Re(lambda) > 0 => unstable (cont.) Pg. 122\n",
    "# abs(lambda) > 1 => unstable (discrete) Pg. 85\n",
    "# March 2 lecture at 40:00 (discussion about this)\n",
    "\n",
    "# a > 0, this point is unstable. \n",
    "# -c > 0 , this point is unstable.\n",
    "# At this point (0, 0) is unstable. \n",
    "\n",
    "# -c > 0 (find the values c that make this expression true)\n",
    "# c < 0 (for values of c that are < 0, the point is unstable.)\n",
    "\n",
    "# a: always unstable, c: always stable. => (0, 0) point is unstable. (look this up)\n",
    "# If you have a mixture of unstable and stable, the system is unstable. \n",
    "\n",
    "# Feb 25, 2021 at 29:00 \n",
    "\n",
    "\n",
    "# - sqrt(-ac) > 0 (find the values of a, c that make this expression true)\n",
    "# sqrt(-ac) < 0 => -ac < 0**2 => ac > 0 (since a, c > 0, this point is unstable.)\n",
    "# 2 + 3i\n",
    "# Re = 2, Im = 3\n",
    "\n",
    "# -sqrt(-ac) = 0 + 1i\n",
    "\n",
    "# Re = 0\n",
    "# Im = i \n",
    "\n",
    "# x + 3i\n",
    "\n",
    "# Re = x\n",
    " \n",
    "#x > 0 (or find the conditions of x that make the expression true)\n",
    "\n",
    "# 1) If you have a mixture of unstable and stable, is the overall model unstable. \n",
    "#. 2) For the statement, \"no real components\" are you saying that -sqrt(-ac) = i?\n",
    "# That is, 0 + i where i = sqrt(-ac)."
   ]
  },
  {
   "cell_type": "markdown",
   "metadata": {},
   "source": [
    "### Linear Stability Analysis\n",
    "\n",
    "For this model, there were two equlibirum points, $(0, 0)$ and $(\\frac{c}{d}, \\frac{a}{b})$. For the eq. point $(0, 0)$ the model will be **unstable** if the constant $a > 0$ and/or, if the constant, $c < 0$. Given the fact that the parameters, $a, b, c, d > 0$, that is, positive, the model will always be unstable at the point $(0, 0)$. \n",
    "\n",
    "\n",
    "On the other hand, the model will be unstable at the equlibirum point, $(\\frac{c}{d}, \\frac{a}{b})$ if the product, $ac < 0$. Given the fact that $a, b, c, d > 0$, that is, positive, the quantity $ac$ will always be positive and therefore, the model will be **unstable** at the point $(\\frac{c}{d}, \\frac{a}{b})$."
   ]
  },
  {
   "cell_type": "code",
   "execution_count": null,
   "metadata": {},
   "outputs": [],
   "source": []
  }
 ],
 "metadata": {
  "kernelspec": {
   "display_name": "Python 3",
   "language": "python",
   "name": "python3"
  },
  "language_info": {
   "codemirror_mode": {
    "name": "ipython",
    "version": 3
   },
   "file_extension": ".py",
   "mimetype": "text/x-python",
   "name": "python",
   "nbconvert_exporter": "python",
   "pygments_lexer": "ipython3",
   "version": "3.8.2"
  }
 },
 "nbformat": 4,
 "nbformat_minor": 4
}

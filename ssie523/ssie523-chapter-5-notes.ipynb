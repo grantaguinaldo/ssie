{
 "cells": [
  {
   "cell_type": "code",
   "execution_count": null,
   "metadata": {},
   "outputs": [],
   "source": [
    "import numpy as np\n",
    "import matplotlib.pyplot as plt"
   ]
  },
  {
   "cell_type": "code",
   "execution_count": null,
   "metadata": {},
   "outputs": [],
   "source": [
    "def modela(r):\n",
    "    return np.sqrt(r)\n",
    "\n",
    "def modelb(r):\n",
    "    return -1*np.sqrt(r)"
   ]
  },
  {
   "cell_type": "code",
   "execution_count": null,
   "metadata": {},
   "outputs": [],
   "source": [
    "xlim = np.linspace(0, 10)\n",
    "modela_results = [modela(each) for each in xlim]\n",
    "modelb_results = [modelb(each) for each in xlim]"
   ]
  },
  {
   "cell_type": "code",
   "execution_count": null,
   "metadata": {},
   "outputs": [],
   "source": [
    "plt.plot(xlim, modela_results, 'b-', linewidth=3)\n",
    "plt.plot(xlim, modelb_results, 'r--', linewidth=3)\n",
    "plt.plot([0], [0], [0])\n",
    "plt.axis([-10, 10, -6, 6])\n",
    "plt.show()"
   ]
  },
  {
   "cell_type": "code",
   "execution_count": null,
   "metadata": {},
   "outputs": [],
   "source": [
    "import numpy as np"
   ]
  },
  {
   "cell_type": "code",
   "execution_count": null,
   "metadata": {},
   "outputs": [],
   "source": [
    "A = np.array([[1, 0, -1], \n",
    "              [0, 1, 1], \n",
    "              [-1, 1, -3]])"
   ]
  },
  {
   "cell_type": "code",
   "execution_count": null,
   "metadata": {},
   "outputs": [],
   "source": [
    "eig_A = np.linalg.eig(A)"
   ]
  },
  {
   "cell_type": "code",
   "execution_count": null,
   "metadata": {},
   "outputs": [],
   "source": [
    "B = np.array([[1], [1], [1]])\n",
    "A @ A @ A @ B"
   ]
  },
  {
   "cell_type": "code",
   "execution_count": null,
   "metadata": {},
   "outputs": [],
   "source": [
    "eig_A[0]"
   ]
  },
  {
   "cell_type": "code",
   "execution_count": null,
   "metadata": {},
   "outputs": [],
   "source": [
    "eig_A"
   ]
  },
  {
   "cell_type": "code",
   "execution_count": null,
   "metadata": {},
   "outputs": [],
   "source": [
    "D = np.array([[1.], [0.], [0.]])\n",
    "C = np.linalg.matrix_power(A, 1000)\n",
    "np.matmul(C, D)"
   ]
  },
  {
   "cell_type": "code",
   "execution_count": null,
   "metadata": {},
   "outputs": [],
   "source": [
    "#Dominant eigenvector is int he same direction as the product."
   ]
  },
  {
   "cell_type": "markdown",
   "metadata": {},
   "source": [
    "Focus around the eq point of a non-linear system, you can use the linear methods \n",
    "to approx the behavior of the system."
   ]
  },
  {
   "cell_type": "code",
   "execution_count": null,
   "metadata": {},
   "outputs": [],
   "source": [
    "from sympy import *\n",
    "init_printing()"
   ]
  },
  {
   "cell_type": "code",
   "execution_count": null,
   "metadata": {},
   "outputs": [],
   "source": [
    "x, a, s, n, r_a, r_s = symbols('x a s n r_a r_s')"
   ]
  },
  {
   "cell_type": "code",
   "execution_count": null,
   "metadata": {},
   "outputs": [],
   "source": [
    "nx = x + a * (1/n) * (1-s) - x\n",
    "na = a - x * a + r_a *s -a\n",
    "ns = s + r_s * s * (1-s) - s"
   ]
  },
  {
   "cell_type": "code",
   "execution_count": null,
   "metadata": {},
   "outputs": [],
   "source": [
    "solve([nx, na, ns], [x, a, s])"
   ]
  },
  {
   "cell_type": "code",
   "execution_count": null,
   "metadata": {},
   "outputs": [],
   "source": [
    "#Zoom in at each eq. point. \n",
    "# Jacobian Matrix\n",
    "\n",
    "F1 = x + a * (1/n) * (1-s)\n",
    "F2 = a - x * a + r_a *s\n",
    "F3 = s + r_s * s * (1-s)"
   ]
  },
  {
   "cell_type": "code",
   "execution_count": null,
   "metadata": {},
   "outputs": [],
   "source": [
    "#First row of Jacobian matrix\n",
    "J = Matrix([\n",
    "    \n",
    "    [F1.diff(x), F1.diff(a), F1.diff(s)],\n",
    "    [F2.diff(x), F2.diff(a), F2.diff(s)],\n",
    "    [F3.diff(x), F3.diff(a), F3.diff(s)]\n",
    "])    "
   ]
  },
  {
   "cell_type": "code",
   "execution_count": null,
   "metadata": {},
   "outputs": [],
   "source": [
    "# Jacobian Matrix #24:29 \n",
    "# Linear approx of non linear function\n",
    "J"
   ]
  },
  {
   "cell_type": "code",
   "execution_count": null,
   "metadata": {},
   "outputs": [],
   "source": [
    "# Finding eq point of Jacobian Matrix\n",
    "# This is the matrix assuming that you \n",
    "# linearize non-linear system, \n",
    "# around eq. point.\n",
    "J0 = J.subs([(a, 0), (s, 0)])"
   ]
  },
  {
   "cell_type": "code",
   "execution_count": null,
   "metadata": {},
   "outputs": [],
   "source": [
    "J0.eigenvals()\n",
    "# Since matrix is Upper/Lower Triangular, \n",
    "# eigenvalues are the values on the diag."
   ]
  },
  {
   "cell_type": "code",
   "execution_count": null,
   "metadata": {},
   "outputs": [],
   "source": [
    "J0"
   ]
  },
  {
   "cell_type": "code",
   "execution_count": null,
   "metadata": {},
   "outputs": [],
   "source": [
    "J0.eigenvects()"
   ]
  },
  {
   "cell_type": "code",
   "execution_count": null,
   "metadata": {},
   "outputs": [],
   "source": [
    "#First point is always unstable. \n",
    "# 30:30\n",
    "J1.eigenvects()"
   ]
  },
  {
   "cell_type": "code",
   "execution_count": null,
   "metadata": {},
   "outputs": [],
   "source": [
    "A = np.array([[0, 0], [0, -1]])\n",
    "np.linalg.eig(A)"
   ]
  },
  {
   "cell_type": "code",
   "execution_count": null,
   "metadata": {},
   "outputs": [],
   "source": [
    "1 + np.sqrt(2)"
   ]
  },
  {
   "cell_type": "code",
   "execution_count": null,
   "metadata": {},
   "outputs": [],
   "source": [
    "1 - np.sqrt(2)"
   ]
  },
  {
   "cell_type": "code",
   "execution_count": null,
   "metadata": {},
   "outputs": [],
   "source": [
    "import numpy as np\n",
    "import matplotlib.pyplot as plt"
   ]
  },
  {
   "cell_type": "code",
   "execution_count": null,
   "metadata": {},
   "outputs": [],
   "source": [
    "#Exercise 5.4\n",
    "\n",
    "def modelb(xinit, yinit, itr):\n",
    "    \n",
    "    xresults = [xinit]\n",
    "    yresults = [yinit]\n",
    "    \n",
    "\n",
    "    \n",
    "    for each in range(0, itr):\n",
    "        lastx = xresults[-1]\n",
    "        lasty = yresults[-1]\n",
    "\n",
    "        nextx = 0.5 * lastx + lasty\n",
    "        nexty = -0.5 * lastx + lasty\n",
    "        \n",
    "        xresults.append(nextx)\n",
    "        yresults.append(nexty)\n",
    "\n",
    "    results = {}\n",
    "    \n",
    "    results['yresults'] = yresults\n",
    "    results['xresults'] = xresults\n",
    "    \n",
    "    return results"
   ]
  },
  {
   "cell_type": "code",
   "execution_count": null,
   "metadata": {},
   "outputs": [],
   "source": [
    "def plot(lower_lim, upper_lim, step, model, itr, prob):\n",
    "    \n",
    "    param_space = np.arange(lower_lim, upper_lim, step)\n",
    "    param_list = []\n",
    "    for each_a in param_space:\n",
    "        for each_b in param_space:\n",
    "            param_list.append({'param_a': each_a, 'param_b':each_b})\n",
    "\n",
    "    plt.figure(figsize=(15, 5))     \n",
    "    for i in range(len(param_list)):\n",
    "        run1 = model(xinit=float(param_list[i]['param_a']), \n",
    "                     yinit=float(param_list[i]['param_b']), \n",
    "                     itr=itr)\n",
    "\n",
    "        plt.plot(run1['xresults'], run1['yresults'])\n",
    "        plt.xlabel('X-Values')\n",
    "        plt.ylabel('Y-Values')\n",
    "    plt.title(prob)\n",
    "    plt.show()"
   ]
  },
  {
   "cell_type": "code",
   "execution_count": null,
   "metadata": {},
   "outputs": [],
   "source": [
    "plot(lower_lim=-2.0, upper_lim=2.0, step=0.5, model=modela, itr=30, prob='Problem 5.1')"
   ]
  },
  {
   "cell_type": "code",
   "execution_count": null,
   "metadata": {},
   "outputs": [],
   "source": [
    "#Exercise 5.4\n",
    "\n",
    "def modelb(xinit, yinit, itr):\n",
    "    \n",
    "    xresults = [xinit]\n",
    "    yresults = [yinit]\n",
    "    \n",
    "    for each in range(0, itr):\n",
    "        lastx = xresults[-1]\n",
    "        lasty = yresults[-1]\n",
    "        \n",
    "        product = lastx * lasty\n",
    "\n",
    "        nextx = lastx + 0.1 * (lastx - product)\n",
    "        nexty = lasty + 0.1 * (lasty - product)\n",
    "        \n",
    "        xresults.append(nextx)\n",
    "        yresults.append(nexty)\n",
    "\n",
    "    results = {}\n",
    "    \n",
    "    results['yresults'] = yresults\n",
    "    results['xresults'] = xresults\n",
    "    \n",
    "    return results"
   ]
  },
  {
   "cell_type": "code",
   "execution_count": null,
   "metadata": {},
   "outputs": [],
   "source": [
    "def plot2(lower_lim, upper_lim, step, model, itr, prob_num):\n",
    "    \n",
    "    param_space = np.arange(lower_lim, upper_lim, step)\n",
    "    param_list = []\n",
    "    for each_a in param_space:\n",
    "        for each_b in param_space:\n",
    "            param_list.append({'param_a': each_a, 'param_b':each_b})\n",
    "\n",
    "    plt.figure(figsize=(15, 5))     \n",
    "    for i in range(len(param_list)):\n",
    "        \n",
    "        run1 = model(xinit=float(param_list[i]['param_a']), \n",
    "                     yinit=float(param_list[i]['param_b']), \n",
    "                     itr=itr)\n",
    "\n",
    "        plt.plot(run1['xresults'], run1['yresults'])\n",
    "        plt.xlabel('X-Values')\n",
    "        plt.ylabel('Y-Values')\n",
    "        \n",
    "    plt.title(prob_num)\n",
    "    plt.show()"
   ]
  },
  {
   "cell_type": "code",
   "execution_count": null,
   "metadata": {},
   "outputs": [],
   "source": [
    "plot2(lower_lim=0, upper_lim=2.0, step=0.1, model=modelb, itr=30, prob_num='Exercise 5.4')"
   ]
  },
  {
   "cell_type": "code",
   "execution_count": null,
   "metadata": {},
   "outputs": [],
   "source": [
    "from pylab import *\n",
    "\n",
    "def initialize(x0, y0):\n",
    "    global x, y, xresult, yresult\n",
    "    x = x0\n",
    "    y = y0\n",
    "    xresult = [x]\n",
    "    yresult = [y]\n",
    "    \n",
    "def observe():\n",
    "    global x, y, xresult, yresult\n",
    "    xresult.append(x)\n",
    "    yresult.append(y)\n",
    "    \n",
    "def update():\n",
    "    global x, y, xresult, yresult\n",
    "    nextx = x + 0.1 * (x - x * y)\n",
    "    nexty = y + 0.1 * (y - x * y)\n",
    "    x, y = nextx, nexty\n",
    "    \n",
    "for x0 in arange(0, 2, 0.1):\n",
    "    for y0 in arange(0, 2, 0.1):\n",
    "        initialize(x0, y0)\n",
    "    for t in range(0, 30):\n",
    "        update()\n",
    "        observe()\n",
    "    plot(xresult, yresult, 'b')\n",
    "\n",
    "axis([0, 2, 0, 2])\n",
    "show()"
   ]
  },
  {
   "cell_type": "code",
   "execution_count": null,
   "metadata": {},
   "outputs": [],
   "source": []
  },
  {
   "cell_type": "code",
   "execution_count": null,
   "metadata": {},
   "outputs": [],
   "source": [
    "#Code 5.2\n",
    "\n",
    "def modelc(xinit, yinit, zinit, itr):\n",
    "    \n",
    "    xresults = [xinit]\n",
    "    yresults = [yinit]\n",
    "    zresults = [zinit]\n",
    "    \n",
    "    for each in range(0, itr):\n",
    "        lastx = xresults[-1]\n",
    "        lasty = yresults[-1]\n",
    "        lastz = zresults[-1]\n",
    "        \n",
    "        nextx = 0.5*lastx + lasty\n",
    "        nexty = -0.5 * lastx + lasty\n",
    "        nextz = -lastx - lasty +  lastz\n",
    "        \n",
    "        xresults.append(nextx)\n",
    "        yresults.append(nexty)\n",
    "        zresults.append(nextz)\n",
    "\n",
    "    results = {}\n",
    "    \n",
    "    results['xresults'] = xresults\n",
    "    results['yresults'] = yresults\n",
    "    results['zresults'] = zresults\n",
    "    \n",
    "    return results"
   ]
  },
  {
   "cell_type": "code",
   "execution_count": null,
   "metadata": {},
   "outputs": [],
   "source": [
    "from mpl_toolkits.mplot3d import Axes3D\n",
    "%matplotlib auto\n",
    "run = modelc(xinit=-0.5, yinit=0.25, zinit=0.5, itr=30)\n",
    "ax = plt.gca(projection='3d')\n",
    "ax.plot(run['xresults'], run['yresults'], run['zresults'])\n",
    "plt.show()"
   ]
  },
  {
   "cell_type": "code",
   "execution_count": null,
   "metadata": {},
   "outputs": [],
   "source": [
    "param_space = np.arange(-2, 2, 0.5)\n",
    "param_list = []\n",
    "for each_a in param_space:\n",
    "    for each_b in param_space:\n",
    "        for each_c in param_space:\n",
    "            param_list.append({'param_a': each_a, 'param_b':each_b, 'param_c': each_c})\n",
    "            \n",
    "plt.figure(figsize=(15, 5))     \n",
    "for i in range(len(param_list)):\n",
    "    run = modelc(xinit=float(param_list[i]['param_a']), \n",
    "                  yinit=float(param_list[i]['param_b']), \n",
    "                  zinit=float(param_list[i]['param_c']), \n",
    "                  itr=30)\n",
    "    ax = gca(projection='3d')\n",
    "    ax.plot(run['xresults'], run['yresults'], run['zresults'])\n",
    "plt.show()"
   ]
  },
  {
   "cell_type": "code",
   "execution_count": 1,
   "metadata": {},
   "outputs": [],
   "source": [
    "import numpy as np"
   ]
  },
  {
   "cell_type": "code",
   "execution_count": 2,
   "metadata": {},
   "outputs": [],
   "source": [
    "A = np.array([[1, 0, -1], \n",
    "              [0, 1, 1], \n",
    "              [-1, 1, -3]])"
   ]
  },
  {
   "cell_type": "code",
   "execution_count": 3,
   "metadata": {},
   "outputs": [
    {
     "data": {
      "text/plain": [
       "(array([-3.44948974,  1.        ,  1.44948974]),\n",
       " array([[ 2.14186495e-01, -7.07106781e-01, -6.73887339e-01],\n",
       "        [-2.14186495e-01, -7.07106781e-01,  6.73887339e-01],\n",
       "        [ 9.53020614e-01,  1.33504240e-17,  3.02905447e-01]]))"
      ]
     },
     "execution_count": 3,
     "metadata": {},
     "output_type": "execute_result"
    }
   ],
   "source": [
    "np.linalg.eig(A)\n",
    "#the first value is dom but diverges since < 0."
   ]
  },
  {
   "cell_type": "code",
   "execution_count": 4,
   "metadata": {},
   "outputs": [
    {
     "name": "stdout",
     "output_type": "stream",
     "text": [
      "Dominant Eigenvalue: -3.44949\n"
     ]
    }
   ],
   "source": [
    "#the first value is dom but diverges since < 0.\n",
    "print('Dominant Eigenvalue: {:.5f}'.format(np.linalg.eig(A)[0][0]))"
   ]
  },
  {
   "cell_type": "code",
   "execution_count": 5,
   "metadata": {},
   "outputs": [
    {
     "name": "stdout",
     "output_type": "stream",
     "text": [
      "Dominant Eigenvector: \n",
      " [[ 0.2141865 ]\n",
      " [-0.2141865 ]\n",
      " [ 0.95302061]]\n"
     ]
    }
   ],
   "source": [
    "#Location of dominant eigenvalue.\n",
    "print('Dominant Eigenvector: \\n {}'.format(np.linalg.eig(A)[1][:, 0].reshape(3, 1)))"
   ]
  },
  {
   "cell_type": "code",
   "execution_count": 6,
   "metadata": {},
   "outputs": [
    {
     "data": {
      "text/plain": [
       "array([[ 6.19610576e+18],\n",
       "       [-6.19610576e+18],\n",
       "       [ 4.68751787e+18]])"
      ]
     },
     "execution_count": 6,
     "metadata": {},
     "output_type": "execute_result"
    }
   ],
   "source": [
    "C = np.array([1., 0., 0.]).reshape(3, 1)\n",
    "D = np.linalg.matrix_power(A, 1000).dot(C)\n",
    "D"
   ]
  },
  {
   "cell_type": "code",
   "execution_count": 7,
   "metadata": {},
   "outputs": [],
   "source": [
    "B = np.array([1, 1, 1]).reshape(3, 1)"
   ]
  },
  {
   "cell_type": "code",
   "execution_count": 8,
   "metadata": {},
   "outputs": [
    {
     "data": {
      "text/plain": [
       "array([[ 0],\n",
       "       [ 2],\n",
       "       [-3]])"
      ]
     },
     "execution_count": 8,
     "metadata": {},
     "output_type": "execute_result"
    }
   ],
   "source": [
    "A.dot(B)"
   ]
  },
  {
   "cell_type": "code",
   "execution_count": 9,
   "metadata": {},
   "outputs": [
    {
     "data": {
      "text/plain": [
       "array([[ -8],\n",
       "       [ 10],\n",
       "       [-37]])"
      ]
     },
     "execution_count": 9,
     "metadata": {},
     "output_type": "execute_result"
    }
   ],
   "source": [
    "np.linalg.matrix_power(A, 3).dot(B)"
   ]
  },
  {
   "cell_type": "code",
   "execution_count": null,
   "metadata": {},
   "outputs": [],
   "source": []
  }
 ],
 "metadata": {
  "kernelspec": {
   "display_name": "Python 3",
   "language": "python",
   "name": "python3"
  },
  "language_info": {
   "codemirror_mode": {
    "name": "ipython",
    "version": 3
   },
   "file_extension": ".py",
   "mimetype": "text/x-python",
   "name": "python",
   "nbconvert_exporter": "python",
   "pygments_lexer": "ipython3",
   "version": "3.8.2"
  }
 },
 "nbformat": 4,
 "nbformat_minor": 4
}

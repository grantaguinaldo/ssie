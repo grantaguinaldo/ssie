{
 "cells": [
  {
   "cell_type": "code",
   "execution_count": 1,
   "metadata": {},
   "outputs": [],
   "source": [
    "import numpy as np\n",
    "import matplotlib.pyplot as plt"
   ]
  },
  {
   "cell_type": "code",
   "execution_count": 2,
   "metadata": {},
   "outputs": [],
   "source": [
    "def modela(r):\n",
    "    return np.sqrt(r)\n",
    "\n",
    "def modelb(r):\n",
    "    return -1*np.sqrt(r)"
   ]
  },
  {
   "cell_type": "code",
   "execution_count": 3,
   "metadata": {},
   "outputs": [],
   "source": [
    "xlim = np.linspace(0, 10)\n",
    "modela_results = [modela(each) for each in xlim]\n",
    "modelb_results = [modelb(each) for each in xlim]"
   ]
  },
  {
   "cell_type": "code",
   "execution_count": 4,
   "metadata": {},
   "outputs": [
    {
     "data": {
      "image/png": "[encoded data removed]",
      "text/plain": [
       "<Figure size 432x288 with 1 Axes>"
      ]
     },
     "metadata": {
      "needs_background": "light"
     },
     "output_type": "display_data"
    }
   ],
   "source": [
    "plt.plot(xlim, modela_results, 'b-', linewidth=3)\n",
    "plt.plot(xlim, modelb_results, 'r--', linewidth=3)\n",
    "plt.plot([0], [0], [0])\n",
    "plt.axis([-10, 10, -6, 6])\n",
    "plt.show()"
   ]
  },
  {
   "cell_type": "code",
   "execution_count": 5,
   "metadata": {},
   "outputs": [],
   "source": [
    "import numpy as np"
   ]
  },
  {
   "cell_type": "code",
   "execution_count": 6,
   "metadata": {},
   "outputs": [],
   "source": [
    "A = np.array([[1, 0, -1], \n",
    "              [0, 1, 1], \n",
    "              [-1, 1, -3]])"
   ]
  },
  {
   "cell_type": "code",
   "execution_count": 7,
   "metadata": {},
   "outputs": [],
   "source": [
    "eig_A = np.linalg.eig(A)"
   ]
  },
  {
   "cell_type": "code",
   "execution_count": 8,
   "metadata": {},
   "outputs": [
    {
     "data": {
      "text/plain": [
       "array([[ -8],\n",
       "       [ 10],\n",
       "       [-37]])"
      ]
     },
     "execution_count": 8,
     "metadata": {},
     "output_type": "execute_result"
    }
   ],
   "source": [
    "B = np.array([[1], [1], [1]])\n",
    "A @ A @ A @ B"
   ]
  },
  {
   "cell_type": "code",
   "execution_count": 9,
   "metadata": {},
   "outputs": [
    {
     "data": {
      "text/plain": [
       "array([-3.44948974,  1.        ,  1.44948974])"
      ]
     },
     "execution_count": 9,
     "metadata": {},
     "output_type": "execute_result"
    }
   ],
   "source": [
    "eig_A[0]"
   ]
  },
  {
   "cell_type": "code",
   "execution_count": 10,
   "metadata": {},
   "outputs": [
    {
     "data": {
      "text/plain": [
       "(array([-3.44948974,  1.        ,  1.44948974]),\n",
       " array([[ 2.14186495e-01, -7.07106781e-01, -6.73887339e-01],\n",
       "        [-2.14186495e-01, -7.07106781e-01,  6.73887339e-01],\n",
       "        [ 9.53020614e-01,  1.33504240e-17,  3.02905447e-01]]))"
      ]
     },
     "execution_count": 10,
     "metadata": {},
     "output_type": "execute_result"
    }
   ],
   "source": [
    "eig_A"
   ]
  },
  {
   "cell_type": "code",
   "execution_count": 11,
   "metadata": {},
   "outputs": [
    {
     "data": {
      "text/plain": [
       "array([[ 6.19610576e+18],\n",
       "       [-6.19610576e+18],\n",
       "       [ 4.68751787e+18]])"
      ]
     },
     "execution_count": 11,
     "metadata": {},
     "output_type": "execute_result"
    }
   ],
   "source": [
    "D = np.array([[1.], [0.], [0.]])\n",
    "C = np.linalg.matrix_power(A, 1000)\n",
    "np.matmul(C, D)"
   ]
  },
  {
   "cell_type": "code",
   "execution_count": 12,
   "metadata": {},
   "outputs": [],
   "source": [
    "#Dominant eigenvector is int he same direction as the product."
   ]
  },
  {
   "cell_type": "markdown",
   "metadata": {},
   "source": [
    "Focus around the eq point of a non-linear system, you can use the linear methods \n",
    "to approx the behavior of the system."
   ]
  },
  {
   "cell_type": "code",
   "execution_count": 18,
   "metadata": {},
   "outputs": [],
   "source": [
    "from sympy import *\n",
    "init_printing()"
   ]
  },
  {
   "cell_type": "code",
   "execution_count": 19,
   "metadata": {},
   "outputs": [],
   "source": [
    "x, a, s, n, r_a, r_s = symbols('x a s n r_a r_s')"
   ]
  },
  {
   "cell_type": "code",
   "execution_count": 23,
   "metadata": {},
   "outputs": [],
   "source": [
    "nx = x + a * (1/n) * (1-s) - x\n",
    "na = a - x * a + r_a *s -a\n",
    "ns = s + r_s * s * (1-s) - s"
   ]
  },
  {
   "cell_type": "code",
   "execution_count": 24,
   "metadata": {},
   "outputs": [
    {
     "data": {
      "image/png": "[encoded data removed]",
      "text/latex": [
       "$\\displaystyle \\left[ \\left( x, \\  0, \\  0\\right), \\  \\left( x, \\  \\frac{r_{a}}{x}, \\  1\\right)\\right]$"
      ],
      "text/plain": [
       "⎡           ⎛   rₐ   ⎞⎤\n",
       "⎢(x, 0, 0), ⎜x, ──, 1⎟⎥\n",
       "⎣           ⎝   x    ⎠⎦"
      ]
     },
     "execution_count": 24,
     "metadata": {},
     "output_type": "execute_result"
    }
   ],
   "source": [
    "solve([nx, na, ns], [x, a, s])"
   ]
  },
  {
   "cell_type": "code",
   "execution_count": 27,
   "metadata": {},
   "outputs": [],
   "source": [
    "#Zoom in at each eq. point. \n",
    "# Jacobian Matrix\n",
    "\n",
    "F1 = x + a * (1/n) * (1-s)\n",
    "F2 = a - x * a + r_a *s\n",
    "F3 = s + r_s * s * (1-s)"
   ]
  },
  {
   "cell_type": "code",
   "execution_count": 34,
   "metadata": {},
   "outputs": [],
   "source": [
    "#First row of Jacobian matrix\n",
    "J = Matrix([\n",
    "    \n",
    "    [F1.diff(x), F1.diff(a), F1.diff(s)],\n",
    "    [F2.diff(x), F2.diff(a), F2.diff(s)],\n",
    "    [F3.diff(x), F3.diff(a), F3.diff(s)]\n",
    "])    "
   ]
  },
  {
   "cell_type": "code",
   "execution_count": 35,
   "metadata": {},
   "outputs": [
    {
     "data": {
      "text/latex": [
       "$\\displaystyle \\left[\\begin{matrix}1 & \\frac{1 - s}{n} & - \\frac{a}{n}\\\\- a & 1 - x & r_{a}\\\\0 & 0 & - r_{s} s + r_{s} \\left(1 - s\\right) + 1\\end{matrix}\\right]$"
      ],
      "text/plain": [
       "⎡    1 - s           -a           ⎤\n",
       "⎢1   ─────           ───          ⎥\n",
       "⎢      n              n           ⎥\n",
       "⎢                                 ⎥\n",
       "⎢-a  1 - x            rₐ          ⎥\n",
       "⎢                                 ⎥\n",
       "⎣0     0    -rₛ⋅s + rₛ⋅(1 - s) + 1⎦"
      ]
     },
     "execution_count": 35,
     "metadata": {},
     "output_type": "execute_result"
    }
   ],
   "source": [
    "# Jacobian Matrix #24:29 \n",
    "# Linear approx of non linear function\n",
    "J"
   ]
  },
  {
   "cell_type": "code",
   "execution_count": 39,
   "metadata": {},
   "outputs": [],
   "source": [
    "# Finding eq point of Jacobian Matrix\n",
    "# This is the matrix assuming that you \n",
    "# linearize non-linear system, \n",
    "# around eq. point.\n",
    "J0 = J.subs([(a, 0), (s, 0)])"
   ]
  },
  {
   "cell_type": "code",
   "execution_count": 41,
   "metadata": {},
   "outputs": [
    {
     "data": {
      "image/png": "[encoded data removed]",
      "text/latex": [
       "$\\displaystyle \\left\\{ 1 : 1, \\  1 - x : 1, \\  r_{s} + 1 : 1\\right\\}$"
      ],
      "text/plain": [
       "{1: 1, 1 - x: 1, rₛ + 1: 1}"
      ]
     },
     "execution_count": 41,
     "metadata": {},
     "output_type": "execute_result"
    }
   ],
   "source": [
    "J0.eigenvals()\n",
    "# Since matrix is Upper/Lower Triangular, \n",
    "# eigenvalues are the values on the diag."
   ]
  },
  {
   "cell_type": "code",
   "execution_count": 42,
   "metadata": {},
   "outputs": [
    {
     "data": {
      "text/latex": [
       "$\\displaystyle \\left[\\begin{matrix}1 & \\frac{1}{n} & 0\\\\0 & 1 - x & r_{a}\\\\0 & 0 & r_{s} + 1\\end{matrix}\\right]$"
      ],
      "text/plain": [
       "⎡     1          ⎤\n",
       "⎢1    ─      0   ⎥\n",
       "⎢     n          ⎥\n",
       "⎢                ⎥\n",
       "⎢0  1 - x    rₐ  ⎥\n",
       "⎢                ⎥\n",
       "⎣0    0    rₛ + 1⎦"
      ]
     },
     "execution_count": 42,
     "metadata": {},
     "output_type": "execute_result"
    }
   ],
   "source": [
    "J0"
   ]
  },
  {
   "cell_type": "code",
   "execution_count": 44,
   "metadata": {},
   "outputs": [
    {
     "data": {
      "text/latex": [
       "$\\displaystyle \\left[ \\left( 1, \\  1, \\  \\left[ \\left[\\begin{matrix}1\\\\0\\\\0\\end{matrix}\\right]\\right]\\right), \\  \\left( 1 - x, \\  1, \\  \\left[ \\left[\\begin{matrix}- \\frac{1}{n x}\\\\1\\\\0\\end{matrix}\\right]\\right]\\right), \\  \\left( r_{s} + 1, \\  1, \\  \\left[ \\left[\\begin{matrix}\\frac{r_{a}}{n r_{s}^{2} + n r_{s} x}\\\\- \\frac{r_{a}}{- r_{s} - x}\\\\1\\end{matrix}\\right]\\right]\\right)\\right]$"
      ],
      "text/plain": [
       "⎡                                    ⎛           ⎡⎡      rₐ      ⎤⎤⎞⎤\n",
       "⎢                                    ⎜           ⎢⎢──────────────⎥⎥⎟⎥\n",
       "⎢               ⎛          ⎡⎡-1 ⎤⎤⎞  ⎜           ⎢⎢    2         ⎥⎥⎟⎥\n",
       "⎢⎛      ⎡⎡1⎤⎤⎞  ⎜          ⎢⎢───⎥⎥⎟  ⎜           ⎢⎢n⋅rₛ  + n⋅rₛ⋅x⎥⎥⎟⎥\n",
       "⎢⎜      ⎢⎢ ⎥⎥⎟  ⎜          ⎢⎢n⋅x⎥⎥⎟  ⎜           ⎢⎢              ⎥⎥⎟⎥\n",
       "⎢⎜1, 1, ⎢⎢0⎥⎥⎟, ⎜1 - x, 1, ⎢⎢   ⎥⎥⎟, ⎜rₛ + 1, 1, ⎢⎢     -rₐ      ⎥⎥⎟⎥\n",
       "⎢⎜      ⎢⎢ ⎥⎥⎟  ⎜          ⎢⎢ 1 ⎥⎥⎟  ⎜           ⎢⎢   ───────    ⎥⎥⎟⎥\n",
       "⎢⎝      ⎣⎣0⎦⎦⎠  ⎜          ⎢⎢   ⎥⎥⎟  ⎜           ⎢⎢   -rₛ - x    ⎥⎥⎟⎥\n",
       "⎢               ⎝          ⎣⎣ 0 ⎦⎦⎠  ⎜           ⎢⎢              ⎥⎥⎟⎥\n",
       "⎣                                    ⎝           ⎣⎣      1       ⎦⎦⎠⎦"
      ]
     },
     "execution_count": 44,
     "metadata": {},
     "output_type": "execute_result"
    }
   ],
   "source": [
    "J0.eigenvects()"
   ]
  },
  {
   "cell_type": "code",
   "execution_count": 45,
   "metadata": {},
   "outputs": [
    {
     "ename": "NameError",
     "evalue": "name 'J1' is not defined",
     "output_type": "error",
     "traceback": [
      "\u001b[0;31m---------------------------------------------------------------------------\u001b[0m",
      "\u001b[0;31mNameError\u001b[0m                                 Traceback (most recent call last)",
      "\u001b[0;32m<ipython-input-45-30ceaf3b7450>\u001b[0m in \u001b[0;36m<module>\u001b[0;34m\u001b[0m\n\u001b[1;32m      1\u001b[0m \u001b[0;31m#First point is always unstable.\u001b[0m\u001b[0;34m\u001b[0m\u001b[0;34m\u001b[0m\u001b[0;34m\u001b[0m\u001b[0m\n\u001b[1;32m      2\u001b[0m \u001b[0;31m# 30:30\u001b[0m\u001b[0;34m\u001b[0m\u001b[0;34m\u001b[0m\u001b[0;34m\u001b[0m\u001b[0m\n\u001b[0;32m----> 3\u001b[0;31m \u001b[0mJ1\u001b[0m\u001b[0;34m.\u001b[0m\u001b[0meigenvects\u001b[0m\u001b[0;34m(\u001b[0m\u001b[0;34m)\u001b[0m\u001b[0;34m\u001b[0m\u001b[0;34m\u001b[0m\u001b[0m\n\u001b[0m",
      "\u001b[0;31mNameError\u001b[0m: name 'J1' is not defined"
     ]
    }
   ],
   "source": [
    "#First point is always unstable. \n",
    "# 30:30\n",
    "J1.eigenvects()"
   ]
  },
  {
   "cell_type": "code",
   "execution_count": 49,
   "metadata": {},
   "outputs": [
    {
     "data": {
      "text/plain": [
       "(array([ 0., -1.]),\n",
       " array([[1., 0.],\n",
       "        [0., 1.]]))"
      ]
     },
     "execution_count": 49,
     "metadata": {},
     "output_type": "execute_result"
    }
   ],
   "source": [
    "A = np.array([[0, 0], [0, -1]])\n",
    "np.linalg.eig(A)"
   ]
  },
  {
   "cell_type": "code",
   "execution_count": 50,
   "metadata": {},
   "outputs": [
    {
     "data": {
      "image/png": "[encoded data removed]",
      "text/latex": [
       "$\\displaystyle 2.414213562373095$"
      ],
      "text/plain": [
       "2.414213562373095"
      ]
     },
     "execution_count": 50,
     "metadata": {},
     "output_type": "execute_result"
    }
   ],
   "source": [
    "1 + np.sqrt(2)"
   ]
  },
  {
   "cell_type": "code",
   "execution_count": 51,
   "metadata": {},
   "outputs": [
    {
     "data": {
      "image/png": "[encoded data removed]",
      "text/latex": [
       "$\\displaystyle -0.41421356237309515$"
      ],
      "text/plain": [
       "-0.41421356237309515"
      ]
     },
     "execution_count": 51,
     "metadata": {},
     "output_type": "execute_result"
    }
   ],
   "source": [
    "1 - np.sqrt(2)"
   ]
  },
  {
   "cell_type": "code",
   "execution_count": 70,
   "metadata": {},
   "outputs": [],
   "source": [
    "param_space = list(np.arange(-2, 2, 0.5))\n",
    "param_list = []\n",
    "for each_a in param_space:\n",
    "    for each_b in param_space:\n",
    "        param_list.append({'param_a': each_a, 'param_b':each_b})"
   ]
  },
  {
   "cell_type": "code",
   "execution_count": 68,
   "metadata": {},
   "outputs": [],
   "source": [
    "def modela(xinit, yinit):\n",
    "    xresults = [xinit]\n",
    "    yresults = [yinit]\n",
    "    \n",
    "    \n",
    "    \n",
    "    nextx = 0.5 * xresults[-1] + yresults[-1]\n",
    "    xresults.append(nextx)\n",
    "    \n",
    "    nexty = -0.5 * xresults[-1] + yresults[-1]\n",
    "    yresults.append(nexty)\n",
    "    \n",
    "    "
   ]
  },
  {
   "cell_type": "code",
   "execution_count": null,
   "metadata": {},
   "outputs": [],
   "source": []
  },
  {
   "cell_type": "code",
   "execution_count": null,
   "metadata": {},
   "outputs": [],
   "source": []
  }
 ],
 "metadata": {
  "kernelspec": {
   "display_name": "Python 3",
   "language": "python",
   "name": "python3"
  },
  "language_info": {
   "codemirror_mode": {
    "name": "ipython",
    "version": 3
   },
   "file_extension": ".py",
   "mimetype": "text/x-python",
   "name": "python",
   "nbconvert_exporter": "python",
   "pygments_lexer": "ipython3",
   "version": "3.8.2"
  }
 },
 "nbformat": 4,
 "nbformat_minor": 4
}

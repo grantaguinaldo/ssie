{
 "cells": [
  {
   "cell_type": "code",
   "execution_count": null,
   "metadata": {},
   "outputs": [],
   "source": [
    "import numpy as np\n",
    "import matplotlib.pyplot as plt\n",
    "%matplotlib inline"
   ]
  },
  {
   "cell_type": "code",
   "execution_count": null,
   "metadata": {},
   "outputs": [],
   "source": [
    "Pvalues, Nvalues = np.meshgrid(np.arange(0, 100, 0.1), np.arange(0, 100, 0.1))\n",
    "\n",
    "#Pdot = (Nvalues) \n",
    "#Ndot = 10*Nvalues * (-Pvalues)\n",
    "\n",
    "Pdot = -Pvalues*Nvalues\n",
    "Ndot = 2*(-Pvalues*Nvalues - Pvalues)\n",
    "\n",
    "plt.streamplot(Pvalues, Nvalues, Pdot, Ndot)\n",
    "plt.ylabel('Popularity', fontsize=14)\n",
    "plt.xlabel('Novelty', fontsize=14)\n",
    "plt.show()"
   ]
  },
  {
   "cell_type": "code",
   "execution_count": null,
   "metadata": {},
   "outputs": [],
   "source": []
  }
 ],
 "metadata": {
  "kernelspec": {
   "display_name": "Python 3",
   "language": "python",
   "name": "python3"
  },
  "language_info": {
   "codemirror_mode": {
    "name": "ipython",
    "version": 3
   },
   "file_extension": ".py",
   "mimetype": "text/x-python",
   "name": "python",
   "nbconvert_exporter": "python",
   "pygments_lexer": "ipython3",
   "version": "3.8.2"
  }
 },
 "nbformat": 4,
 "nbformat_minor": 4
}

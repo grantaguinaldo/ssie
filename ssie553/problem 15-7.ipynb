{
 "cells": [
  {
   "cell_type": "code",
   "execution_count": 1,
   "id": "2b282fee",
   "metadata": {},
   "outputs": [],
   "source": [
    "import numpy as np"
   ]
  },
  {
   "cell_type": "markdown",
   "id": "e07d1354",
   "metadata": {},
   "source": [
    "### Decisions of the School Board"
   ]
  },
  {
   "cell_type": "code",
   "execution_count": 2,
   "id": "335b1e96",
   "metadata": {},
   "outputs": [],
   "source": [
    "A_Board = np.array([[1, 1], \n",
    "                    [1, 1]])\n",
    "\n",
    "A_SB = np.array([[1, 0.5], \n",
    "                 [2, 1]])\n",
    "\n",
    "\n",
    "A_SN = np.array([[1, 0.333], \n",
    "                 [3, 1]])"
   ]
  },
  {
   "cell_type": "code",
   "execution_count": 3,
   "id": "abc334dd",
   "metadata": {},
   "outputs": [
    {
     "data": {
      "text/plain": [
       "array([2, 2])"
      ]
     },
     "execution_count": 3,
     "metadata": {},
     "output_type": "execute_result"
    }
   ],
   "source": [
    "# Computes the sum of each column in Matrix A_Board\n",
    "A_Board_col_weights = A_Board.sum(axis=0)\n",
    "A_Board_col_weights"
   ]
  },
  {
   "cell_type": "code",
   "execution_count": 4,
   "id": "31edb9fe",
   "metadata": {},
   "outputs": [
    {
     "data": {
      "text/plain": [
       "array([[0.5, 0.5],\n",
       "       [0.5, 0.5]])"
      ]
     },
     "execution_count": 4,
     "metadata": {},
     "output_type": "execute_result"
    }
   ],
   "source": [
    "# Divides each column in Matrix A by the sum of each Column in Matrix A, columnwise.\n",
    "A_Board_N = A_Board/A_Board_col_weights\n",
    "A_Board_N"
   ]
  },
  {
   "cell_type": "code",
   "execution_count": 5,
   "id": "d19b5907",
   "metadata": {},
   "outputs": [
    {
     "data": {
      "text/plain": [
       "array([[0.5],\n",
       "       [0.5]])"
      ]
     },
     "execution_count": 5,
     "metadata": {},
     "output_type": "execute_result"
    }
   ],
   "source": [
    "# Computes the average of each row in Matrix A_N, and returns a column vector.\n",
    "# This is the criteria ranking vector.\n",
    "A_Board_criteria_ranking_vect = (A_Board_N.sum(axis=1)/2).reshape((2,1))\n",
    "A_Board_criteria_ranking_vect"
   ]
  },
  {
   "cell_type": "code",
   "execution_count": 6,
   "id": "6308c9cb",
   "metadata": {},
   "outputs": [
    {
     "data": {
      "text/plain": [
       "1.0"
      ]
     },
     "execution_count": 6,
     "metadata": {},
     "output_type": "execute_result"
    }
   ],
   "source": [
    "A_Board_criteria_ranking_vect.sum()"
   ]
  },
  {
   "cell_type": "code",
   "execution_count": 7,
   "id": "e9390e7b",
   "metadata": {},
   "outputs": [],
   "source": [
    "def compute_eigen_vector(A):\n",
    "    # Computes the sum of each column in Matrix A\n",
    "    A_col_weights = A.sum(axis=0)\n",
    "\n",
    "    # Divides each column in Matrix AI by the sum of each Column in Matrix AI, columnwise.\n",
    "    A_N = A/A_col_weights\n",
    "\n",
    "    # Computes the average of each row in Matrix AI_N, and returns a column vector.\n",
    "    A_N_row_mean = np.mean(A_N, axis=1)\n",
    "\n",
    "    # Returns the row vector that shows the mean of each column in AI after it is normalized. \n",
    "    return A_N_row_mean"
   ]
  },
  {
   "cell_type": "code",
   "execution_count": 8,
   "id": "42466234",
   "metadata": {},
   "outputs": [
    {
     "data": {
      "text/plain": [
       "array([0.33333333, 0.66666667])"
      ]
     },
     "execution_count": 8,
     "metadata": {},
     "output_type": "execute_result"
    }
   ],
   "source": [
    "A_SB_N_row_mean = compute_eigen_vector(A=A_SB)\n",
    "A_SB_N_row_mean"
   ]
  },
  {
   "cell_type": "code",
   "execution_count": 9,
   "id": "e4f65d42",
   "metadata": {},
   "outputs": [
    {
     "data": {
      "text/plain": [
       "array([0.24990623, 0.75009377])"
      ]
     },
     "execution_count": 9,
     "metadata": {},
     "output_type": "execute_result"
    }
   ],
   "source": [
    "A_SN_N_row_mean = compute_eigen_vector(A=A_SN)\n",
    "A_SN_N_row_mean"
   ]
  },
  {
   "cell_type": "code",
   "execution_count": 10,
   "id": "0e0895b5",
   "metadata": {},
   "outputs": [
    {
     "data": {
      "text/plain": [
       "array([[0.33333333, 0.24990623],\n",
       "       [0.66666667, 0.75009377]])"
      ]
     },
     "execution_count": 10,
     "metadata": {},
     "output_type": "execute_result"
    }
   ],
   "source": [
    "A_S_eig_matrix = np.array([A_SB_N_row_mean, A_SN_N_row_mean]).T\n",
    "A_S_eig_matrix"
   ]
  },
  {
   "cell_type": "code",
   "execution_count": 11,
   "id": "ab3eed05",
   "metadata": {},
   "outputs": [
    {
     "data": {
      "text/plain": [
       "array([[0.29161978],\n",
       "       [0.70838022]])"
      ]
     },
     "execution_count": 11,
     "metadata": {},
     "output_type": "execute_result"
    }
   ],
   "source": [
    "# Based on the Board decision, the Music program should be cut. \n",
    "\n",
    "Final_Decision_Board = A_S_eig_matrix.dot(A_Board_criteria_ranking_vect)\n",
    "Final_Decision_Board"
   ]
  },
  {
   "cell_type": "markdown",
   "id": "9f0b7cd3",
   "metadata": {},
   "source": [
    "### Decisions of the Parent-Teacher Assocition"
   ]
  },
  {
   "cell_type": "code",
   "execution_count": 12,
   "id": "2c3d9e46",
   "metadata": {},
   "outputs": [],
   "source": [
    "A_Parents = np.array([[1, 0.5], \n",
    "                      [2, 1]])\n",
    "\n",
    "A_PB = np.array([[1, 0.333], \n",
    "                 [3, 1]])\n",
    "\n",
    "\n",
    "A_PN = np.array([[1, 2], \n",
    "                 [0.5, 1]])"
   ]
  },
  {
   "cell_type": "code",
   "execution_count": 13,
   "id": "291ca739",
   "metadata": {},
   "outputs": [
    {
     "data": {
      "text/plain": [
       "array([3. , 1.5])"
      ]
     },
     "execution_count": 13,
     "metadata": {},
     "output_type": "execute_result"
    }
   ],
   "source": [
    "# Computes the sum of each column in Matrix A_Parents\n",
    "A_Parents_col_weights = A_Parents.sum(axis=0)\n",
    "A_Parents_col_weights"
   ]
  },
  {
   "cell_type": "code",
   "execution_count": 14,
   "id": "dc4d6d63",
   "metadata": {
    "scrolled": true
   },
   "outputs": [
    {
     "data": {
      "text/plain": [
       "array([[0.33333333, 0.33333333],\n",
       "       [0.66666667, 0.66666667]])"
      ]
     },
     "execution_count": 14,
     "metadata": {},
     "output_type": "execute_result"
    }
   ],
   "source": [
    "# Divides each column in Matrix A by the sum of each Column in Matrix A, columnwise.\n",
    "A_Parents_N = A_Parents/A_Parents_col_weights\n",
    "A_Parents_N"
   ]
  },
  {
   "cell_type": "code",
   "execution_count": 15,
   "id": "12f05631",
   "metadata": {},
   "outputs": [
    {
     "data": {
      "text/plain": [
       "array([[0.33333333],\n",
       "       [0.66666667]])"
      ]
     },
     "execution_count": 15,
     "metadata": {},
     "output_type": "execute_result"
    }
   ],
   "source": [
    "# Computes the average of each row in Matrix A_N, and returns a column vector.\n",
    "# This is the criteria ranking vector.\n",
    "A_Parents_criteria_ranking_vect = (A_Parents_N.sum(axis=1)/2).reshape((2,1))\n",
    "A_Parents_criteria_ranking_vect"
   ]
  },
  {
   "cell_type": "code",
   "execution_count": 16,
   "id": "142e5359",
   "metadata": {},
   "outputs": [
    {
     "data": {
      "text/plain": [
       "1.0"
      ]
     },
     "execution_count": 16,
     "metadata": {},
     "output_type": "execute_result"
    }
   ],
   "source": [
    "A_Parents_criteria_ranking_vect.sum()"
   ]
  },
  {
   "cell_type": "code",
   "execution_count": 17,
   "id": "75bbea75",
   "metadata": {},
   "outputs": [
    {
     "data": {
      "text/plain": [
       "array([0.24990623, 0.75009377])"
      ]
     },
     "execution_count": 17,
     "metadata": {},
     "output_type": "execute_result"
    }
   ],
   "source": [
    "A_PB_N_row_mean = compute_eigen_vector(A=A_PB)\n",
    "A_PB_N_row_mean"
   ]
  },
  {
   "cell_type": "code",
   "execution_count": 18,
   "id": "eacfd940",
   "metadata": {},
   "outputs": [
    {
     "data": {
      "text/plain": [
       "array([0.66666667, 0.33333333])"
      ]
     },
     "execution_count": 18,
     "metadata": {},
     "output_type": "execute_result"
    }
   ],
   "source": [
    "A_PN_N_row_mean = compute_eigen_vector(A=A_PN)\n",
    "A_PN_N_row_mean"
   ]
  },
  {
   "cell_type": "code",
   "execution_count": 19,
   "id": "dd2a1eab",
   "metadata": {},
   "outputs": [
    {
     "data": {
      "text/plain": [
       "array([[0.24990623, 0.66666667],\n",
       "       [0.75009377, 0.33333333]])"
      ]
     },
     "execution_count": 19,
     "metadata": {},
     "output_type": "execute_result"
    }
   ],
   "source": [
    "A_P_eig_matrix = np.array([A_PB_N_row_mean, A_PN_N_row_mean]).T\n",
    "A_P_eig_matrix"
   ]
  },
  {
   "cell_type": "code",
   "execution_count": 20,
   "id": "1de12ff3",
   "metadata": {},
   "outputs": [
    {
     "data": {
      "text/plain": [
       "array([[0.52774652],\n",
       "       [0.47225348]])"
      ]
     },
     "execution_count": 20,
     "metadata": {},
     "output_type": "execute_result"
    }
   ],
   "source": [
    "# Based on the Parents decision, the Physical Education (E) program should be cut. \n",
    "\n",
    "Final_Decision_Parents = A_P_eig_matrix.dot(A_Parents_criteria_ranking_vect)\n",
    "Final_Decision_Parents"
   ]
  },
  {
   "cell_type": "code",
   "execution_count": 21,
   "id": "c690fc8e",
   "metadata": {},
   "outputs": [],
   "source": [
    "board_weight = 0.5\n",
    "parents_weight = 0.5"
   ]
  },
  {
   "cell_type": "markdown",
   "id": "c5bfc068",
   "metadata": {},
   "source": [
    "### Final Decision"
   ]
  },
  {
   "cell_type": "code",
   "execution_count": 22,
   "id": "ed6fb59c",
   "metadata": {},
   "outputs": [
    {
     "data": {
      "text/plain": [
       "array([[0.40968315],\n",
       "       [0.59031685]])"
      ]
     },
     "execution_count": 22,
     "metadata": {},
     "output_type": "execute_result"
    }
   ],
   "source": [
    "# Based on the joint decision, the Music program (M) should be cut since it received a higher score. \n",
    "\n",
    "final_decision =(Final_Decision_Parents * parents_weight) + (Final_Decision_Board * board_weight)\n",
    "final_decision"
   ]
  },
  {
   "cell_type": "code",
   "execution_count": 23,
   "id": "5b7ead1c",
   "metadata": {},
   "outputs": [],
   "source": [
    "# Consistency was not checked since it is guaranteed in a 2x2 matrix."
   ]
  }
 ],
 "metadata": {
  "kernelspec": {
   "display_name": "Python 3",
   "language": "python",
   "name": "python3"
  },
  "language_info": {
   "codemirror_mode": {
    "name": "ipython",
    "version": 3
   },
   "file_extension": ".py",
   "mimetype": "text/x-python",
   "name": "python",
   "nbconvert_exporter": "python",
   "pygments_lexer": "ipython3",
   "version": "3.8.8"
  }
 },
 "nbformat": 4,
 "nbformat_minor": 5
}

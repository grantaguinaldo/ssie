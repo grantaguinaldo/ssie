{
 "cells": [
  {
   "cell_type": "code",
   "execution_count": 1,
   "id": "47cb7f91",
   "metadata": {},
   "outputs": [],
   "source": [
    "import numpy as np"
   ]
  },
  {
   "cell_type": "code",
   "execution_count": 2,
   "id": "739793e7",
   "metadata": {},
   "outputs": [],
   "source": [
    "A = np.array([[1, 2, 0.25], \n",
    "              [0.5, 1, 0.2], \n",
    "              [4, 5, 1]])\n",
    "\n",
    "AI = np.array([[1, 3, 4], \n",
    "               [0.333, 1, 0.2], \n",
    "               [0.25, 5, 1]])\n",
    "\n",
    "AE = np.array([[1, 0.33, 2], \n",
    "               [3, 1, 0.5], \n",
    "               [0.5, 2, 1]])\n",
    "\n",
    "AR = np.array([[1, 0.5, 1], \n",
    "               [2, 1, 0.5], \n",
    "               [1, 2, 1]])"
   ]
  },
  {
   "cell_type": "code",
   "execution_count": 3,
   "id": "9c6cc7d4",
   "metadata": {},
   "outputs": [
    {
     "data": {
      "text/plain": [
       "array([5.5 , 8.  , 1.45])"
      ]
     },
     "execution_count": 3,
     "metadata": {},
     "output_type": "execute_result"
    }
   ],
   "source": [
    "# Computes the sum of each column in Matrix A\n",
    "A_col_weights = A.sum(axis=0)\n",
    "A_col_weights"
   ]
  },
  {
   "cell_type": "code",
   "execution_count": 4,
   "id": "6ca943f9",
   "metadata": {},
   "outputs": [
    {
     "data": {
      "text/plain": [
       "array([[0.18181818, 0.25      , 0.17241379],\n",
       "       [0.09090909, 0.125     , 0.13793103],\n",
       "       [0.72727273, 0.625     , 0.68965517]])"
      ]
     },
     "execution_count": 4,
     "metadata": {},
     "output_type": "execute_result"
    }
   ],
   "source": [
    "# Divides each column in Matrix A by the sum of each Column in Matrix A, columnwise.\n",
    "A_N = A/A_col_weights\n",
    "A_N"
   ]
  },
  {
   "cell_type": "code",
   "execution_count": 5,
   "id": "24afd9de",
   "metadata": {},
   "outputs": [
    {
     "data": {
      "text/plain": [
       "array([[0.20141066],\n",
       "       [0.11794671],\n",
       "       [0.68064263]])"
      ]
     },
     "execution_count": 5,
     "metadata": {},
     "output_type": "execute_result"
    }
   ],
   "source": [
    "# Computes the average of each row in Matrix A_N, and returns a column vector.\n",
    "# This is the criteria ranking vector.\n",
    "A_criteria_ranking_vect = (A_N.sum(axis=1)/3).reshape((3,1))\n",
    "A_criteria_ranking_vect"
   ]
  },
  {
   "cell_type": "code",
   "execution_count": 6,
   "id": "0d20583e",
   "metadata": {},
   "outputs": [
    {
     "data": {
      "text/plain": [
       "1.0"
      ]
     },
     "execution_count": 6,
     "metadata": {},
     "output_type": "execute_result"
    }
   ],
   "source": [
    "A_criteria_ranking_vect.sum()"
   ]
  },
  {
   "cell_type": "code",
   "execution_count": 7,
   "id": "cf6d43ae",
   "metadata": {},
   "outputs": [
    {
     "data": {
      "text/plain": [
       "array([0.57809201, 0.11997758, 0.30193041])"
      ]
     },
     "execution_count": 7,
     "metadata": {},
     "output_type": "execute_result"
    }
   ],
   "source": [
    "# Computes the sum of each column in Matrix AI (Interview)\n",
    "AI_col_weights = AI.sum(axis=0)\n",
    "\n",
    "# Divides each column in Matrix AI by the sum of each Column in Matrix AI, columnwise.\n",
    "AI_N = AI/AI_col_weights\n",
    "\n",
    "# Computes the average of each row in Matrix AI_N, and returns a column vector.\n",
    "AI_N_row_mean = np.mean(AI_N, axis=1)\n",
    "\n",
    "# Returns the row vector that shows the mean of each column in AI after it is normalized. \n",
    "AI_N_row_mean"
   ]
  },
  {
   "cell_type": "code",
   "execution_count": 8,
   "id": "834165ee",
   "metadata": {},
   "outputs": [
    {
     "data": {
      "text/plain": [
       "array([0.2975833 , 0.36994137, 0.33247533])"
      ]
     },
     "execution_count": 8,
     "metadata": {},
     "output_type": "execute_result"
    }
   ],
   "source": [
    "# Computes the sum of each column in Matrix AE (Experience)\n",
    "AE_col_weights = AE.sum(axis=0)\n",
    "\n",
    "# Divides each column in Matrix AE by the sum of each Column in Matrix AE, columnwise.\n",
    "AE_N = AE/AE_col_weights\n",
    "\n",
    "# Computes the average of each row in Matrix AE_N, and returns a column vector.\n",
    "AE_N_row_mean = np.mean(AE_N, axis=1)\n",
    "\n",
    "# Returns the row vector that shows the mean of each column in AE after it is normalized. \n",
    "AE_N_row_mean"
   ]
  },
  {
   "cell_type": "code",
   "execution_count": 9,
   "id": "7c04471d",
   "metadata": {},
   "outputs": [
    {
     "data": {
      "text/plain": [
       "array([0.26428571, 0.32857143, 0.40714286])"
      ]
     },
     "execution_count": 9,
     "metadata": {},
     "output_type": "execute_result"
    }
   ],
   "source": [
    "# Computes the sum of each column in Matrix AR (References)\n",
    "AR_col_weights = AR.sum(axis=0)\n",
    "\n",
    "# Divides each column in Matrix AR by the sum of each Column in Matrix AR, columnwise.\n",
    "AR_N = AR/AR_col_weights\n",
    "\n",
    "# Computes the average of each row in Matrix AR_N, and returns a column vector.\n",
    "AR_N_row_mean = np.mean(AR_N, axis=1)\n",
    "\n",
    "# Returns the row vector that shows the mean of each column in AR after it is normalized. \n",
    "AR_N_row_mean"
   ]
  },
  {
   "cell_type": "code",
   "execution_count": 10,
   "id": "78aff12f",
   "metadata": {},
   "outputs": [
    {
     "data": {
      "text/plain": [
       "array([[0.57809201, 0.2975833 , 0.26428571],\n",
       "       [0.11997758, 0.36994137, 0.32857143],\n",
       "       [0.30193041, 0.33247533, 0.40714286]])"
      ]
     },
     "execution_count": 10,
     "metadata": {},
     "output_type": "execute_result"
    }
   ],
   "source": [
    "# Creates Eigenvector matrix from each of the Eigenvectors from each attribute.\n",
    "A_eig_matrix = np.array([AI_N_row_mean, AE_N_row_mean, AR_N_row_mean]).T\n",
    "A_eig_matrix"
   ]
  },
  {
   "cell_type": "code",
   "execution_count": 11,
   "id": "a43e5677",
   "metadata": {},
   "outputs": [
    {
     "data": {
      "text/plain": [
       "array([[0.33141699],\n",
       "       [0.29143785],\n",
       "       [0.37714516]])"
      ]
     },
     "execution_count": 11,
     "metadata": {},
     "output_type": "execute_result"
    }
   ],
   "source": [
    "# Computes final ranking from Eigenvector matrix and the criteria ranking vector.\n",
    "# Results show that the company should hire Maisa since they have the highest score from the analysis.\n",
    "Final_Decision = A_eig_matrix.dot(A_criteria_ranking_vect)\n",
    "Final_Decision"
   ]
  },
  {
   "cell_type": "code",
   "execution_count": 12,
   "id": "52924fca",
   "metadata": {},
   "outputs": [],
   "source": [
    "def consistency(A, R):\n",
    "    '''\n",
    "    Computes the Consistency Ratio.\n",
    "    \n",
    "    Input: \n",
    "        Pairwise Comparision Matrix (A)\n",
    "        Criteria Ranking Vector of A (R)\n",
    "    Output:\n",
    "        Scaler value of the Consistency Ratio.\n",
    "    '''\n",
    "    n_max_A = A.dot(R).sum()\n",
    "    CI_A = (n_max_A - A.shape[0]) / (A.shape[0] - 1)\n",
    "    RI_A = (1.98*(A.shape[0] - 2)) / (A.shape[0])\n",
    "\n",
    "    CR_A = CI_A / RI_A\n",
    "    \n",
    "    return CR_A"
   ]
  },
  {
   "cell_type": "code",
   "execution_count": 13,
   "id": "d69cd2a0",
   "metadata": {},
   "outputs": [
    {
     "data": {
      "text/plain": [
       "1.4543145008074476"
      ]
     },
     "execution_count": 13,
     "metadata": {},
     "output_type": "execute_result"
    }
   ],
   "source": [
    "CR_AI = consistency(A=AI, R=A_criteria_ranking_vect)\n",
    "CR_AI"
   ]
  },
  {
   "cell_type": "code",
   "execution_count": 14,
   "id": "99a90a67",
   "metadata": {},
   "outputs": [
    {
     "data": {
      "text/plain": [
       "0.5161816044457107"
      ]
     },
     "execution_count": 14,
     "metadata": {},
     "output_type": "execute_result"
    }
   ],
   "source": [
    "CR_AE = consistency(A=AE, R=A_criteria_ranking_vect)\n",
    "CR_AE"
   ]
  },
  {
   "cell_type": "code",
   "execution_count": 15,
   "id": "57cc4d56",
   "metadata": {},
   "outputs": [
    {
     "data": {
      "text/plain": [
       "-0.060558563693360115"
      ]
     },
     "execution_count": 15,
     "metadata": {},
     "output_type": "execute_result"
    }
   ],
   "source": [
    "CR_AR = consistency(A=AR, R=A_criteria_ranking_vect)\n",
    "CR_AR"
   ]
  },
  {
   "cell_type": "code",
   "execution_count": null,
   "id": "0b34f6a7",
   "metadata": {},
   "outputs": [],
   "source": []
  }
 ],
 "metadata": {
  "kernelspec": {
   "display_name": "Python 3",
   "language": "python",
   "name": "python3"
  },
  "language_info": {
   "codemirror_mode": {
    "name": "ipython",
    "version": 3
   },
   "file_extension": ".py",
   "mimetype": "text/x-python",
   "name": "python",
   "nbconvert_exporter": "python",
   "pygments_lexer": "ipython3",
   "version": "3.8.8"
  }
 },
 "nbformat": 4,
 "nbformat_minor": 5
}

{
 "cells": [
  {
   "cell_type": "code",
   "execution_count": 1,
   "id": "47cb7f91",
   "metadata": {},
   "outputs": [],
   "source": [
    "import numpy as np"
   ]
  },
  {
   "cell_type": "markdown",
   "id": "816dd6ef",
   "metadata": {},
   "source": [
    "### Problem 15-5"
   ]
  },
  {
   "cell_type": "code",
   "execution_count": 2,
   "id": "739793e7",
   "metadata": {},
   "outputs": [],
   "source": [
    "A = np.array([[1, 1, 0.25], \n",
    "              [1, 1, 0.2], \n",
    "              [4, 5, 1]])\n",
    "\n",
    "AR = np.array([[1, 2], \n",
    "               [0.5, 1]])\n",
    "\n",
    "AM = np.array([[1, 0.5], \n",
    "               [2, 1]])\n",
    "\n",
    "AA = np.array([[1, 1], \n",
    "               [1, 1]])"
   ]
  },
  {
   "cell_type": "code",
   "execution_count": 3,
   "id": "9c6cc7d4",
   "metadata": {},
   "outputs": [
    {
     "data": {
      "text/plain": [
       "array([6.  , 7.  , 1.45])"
      ]
     },
     "execution_count": 3,
     "metadata": {},
     "output_type": "execute_result"
    }
   ],
   "source": [
    "# Computes the sum of each column in Matrix A\n",
    "A_col_weights = A.sum(axis=0)\n",
    "A_col_weights"
   ]
  },
  {
   "cell_type": "code",
   "execution_count": 4,
   "id": "6ca943f9",
   "metadata": {},
   "outputs": [
    {
     "data": {
      "text/plain": [
       "array([[0.16666667, 0.14285714, 0.17241379],\n",
       "       [0.16666667, 0.14285714, 0.13793103],\n",
       "       [0.66666667, 0.71428571, 0.68965517]])"
      ]
     },
     "execution_count": 4,
     "metadata": {},
     "output_type": "execute_result"
    }
   ],
   "source": [
    "# Divides each column in Matrix A by the sum of each Column in Matrix A, columnwise.\n",
    "A_N = A/A_col_weights\n",
    "A_N"
   ]
  },
  {
   "cell_type": "code",
   "execution_count": 5,
   "id": "24afd9de",
   "metadata": {},
   "outputs": [
    {
     "data": {
      "text/plain": [
       "array([[0.16064587],\n",
       "       [0.14915161],\n",
       "       [0.69020252]])"
      ]
     },
     "execution_count": 5,
     "metadata": {},
     "output_type": "execute_result"
    }
   ],
   "source": [
    "# Computes the average of each row in Matrix A_N, and returns a column vector.\n",
    "# This is the criteria ranking vector.\n",
    "A_criteria_ranking_vect = (A_N.sum(axis=1)/3).reshape((3,1))\n",
    "A_criteria_ranking_vect"
   ]
  },
  {
   "cell_type": "code",
   "execution_count": 6,
   "id": "0d20583e",
   "metadata": {},
   "outputs": [
    {
     "data": {
      "text/plain": [
       "1.0"
      ]
     },
     "execution_count": 6,
     "metadata": {},
     "output_type": "execute_result"
    }
   ],
   "source": [
    "A_criteria_ranking_vect.sum()"
   ]
  },
  {
   "cell_type": "code",
   "execution_count": 7,
   "id": "cf6d43ae",
   "metadata": {},
   "outputs": [
    {
     "data": {
      "text/plain": [
       "array([0.66666667, 0.33333333])"
      ]
     },
     "execution_count": 7,
     "metadata": {},
     "output_type": "execute_result"
    }
   ],
   "source": [
    "# Computes the sum of each column in Matrix AR (Royalty)\n",
    "AR_col_weights = AR.sum(axis=0)\n",
    "\n",
    "# Divides each column in Matrix AI by the sum of each Column in Matrix AR, columnwise.\n",
    "AR_N = AR/AR_col_weights\n",
    "\n",
    "# Computes the average of each row in Matrix AI_N, and returns a column vector.\n",
    "AR_N_row_mean = np.mean(AR_N, axis=1)\n",
    "\n",
    "# Returns the row vector that shows the mean of each column in AI after it is normalized. \n",
    "AR_N_row_mean"
   ]
  },
  {
   "cell_type": "code",
   "execution_count": 8,
   "id": "834165ee",
   "metadata": {},
   "outputs": [
    {
     "data": {
      "text/plain": [
       "array([0.33333333, 0.66666667])"
      ]
     },
     "execution_count": 8,
     "metadata": {},
     "output_type": "execute_result"
    }
   ],
   "source": [
    "# Computes the sum of each column in Matrix AM (Marketing)\n",
    "AM_col_weights = AM.sum(axis=0)\n",
    "\n",
    "# Divides each column in Matrix AE by the sum of each Column in Matrix AE, columnwise.\n",
    "AM_N = AM/AM_col_weights\n",
    "\n",
    "# Computes the average of each row in Matrix AE_N, and returns a column vector.\n",
    "AM_N_row_mean = np.mean(AM_N, axis=1)\n",
    "\n",
    "# Returns the row vector that shows the mean of each column in AE after it is normalized. \n",
    "AM_N_row_mean"
   ]
  },
  {
   "cell_type": "code",
   "execution_count": 9,
   "id": "7c04471d",
   "metadata": {},
   "outputs": [
    {
     "data": {
      "text/plain": [
       "array([0.5, 0.5])"
      ]
     },
     "execution_count": 9,
     "metadata": {},
     "output_type": "execute_result"
    }
   ],
   "source": [
    "# Computes the sum of each column in Matrix AA (Advance)\n",
    "AA_col_weights = AA.sum(axis=0)\n",
    "\n",
    "# Divides each column in Matrix AR by the sum of each Column in Matrix AR, columnwise.\n",
    "AA_N = AA/AA_col_weights\n",
    "\n",
    "# Computes the average of each row in Matrix AR_N, and returns a column vector.\n",
    "AA_N_row_mean = np.mean(AA_N, axis=1)\n",
    "\n",
    "# Returns the row vector that shows the mean of each column in AR after it is normalized. \n",
    "AA_N_row_mean"
   ]
  },
  {
   "cell_type": "code",
   "execution_count": 10,
   "id": "78aff12f",
   "metadata": {},
   "outputs": [
    {
     "data": {
      "text/plain": [
       "array([[0.66666667, 0.33333333, 0.5       ],\n",
       "       [0.33333333, 0.66666667, 0.5       ]])"
      ]
     },
     "execution_count": 10,
     "metadata": {},
     "output_type": "execute_result"
    }
   ],
   "source": [
    "# Creates Eigenvector matrix from each of the Eigenvectors from each attribute.\n",
    "A_eig_matrix = np.array([AR_N_row_mean, AM_N_row_mean, AA_N_row_mean]).T\n",
    "A_eig_matrix"
   ]
  },
  {
   "cell_type": "code",
   "execution_count": 11,
   "id": "a43e5677",
   "metadata": {},
   "outputs": [
    {
     "data": {
      "text/plain": [
       "array([[0.50191571],\n",
       "       [0.49808429]])"
      ]
     },
     "execution_count": 11,
     "metadata": {},
     "output_type": "execute_result"
    }
   ],
   "source": [
    "# Computes final ranking from Eigenvector matrix and the criteria ranking vector.\n",
    "# Results show that the author should pick publisher H since they have the highest score from the analysis.\n",
    "Final_Decision = A_eig_matrix.dot(A_criteria_ranking_vect)\n",
    "Final_Decision"
   ]
  },
  {
   "cell_type": "code",
   "execution_count": 12,
   "id": "e84e3712",
   "metadata": {},
   "outputs": [],
   "source": [
    "# Consistency was not checked since it is guaranteed in a 2x2 matrix."
   ]
  }
 ],
 "metadata": {
  "kernelspec": {
   "display_name": "Python 3",
   "language": "python",
   "name": "python3"
  },
  "language_info": {
   "codemirror_mode": {
    "name": "ipython",
    "version": 3
   },
   "file_extension": ".py",
   "mimetype": "text/x-python",
   "name": "python",
   "nbconvert_exporter": "python",
   "pygments_lexer": "ipython3",
   "version": "3.8.8"
  }
 },
 "nbformat": 4,
 "nbformat_minor": 5
}

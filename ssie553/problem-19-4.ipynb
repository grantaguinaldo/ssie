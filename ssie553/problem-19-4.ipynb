{
 "cells": [
  {
   "cell_type": "code",
   "execution_count": 1,
   "id": "f0f1be06",
   "metadata": {},
   "outputs": [],
   "source": [
    "import numpy as np"
   ]
  },
  {
   "cell_type": "code",
   "execution_count": 2,
   "id": "f75d681b",
   "metadata": {},
   "outputs": [],
   "source": [
    "random_numbers = np.array([[.0589, .3529, .5869, .3455, .7900, .6307],\n",
    "                           [.6733, .3646, .1281, .4871, .7698, .2346],\n",
    "                           [.4799, .7676, .2867, .8111, .2871, .4220],\n",
    "                           [.9486, .8931, .8216, .8912, .9534, .6991],\n",
    "                           [.6139, .3919, .8261, .4291, .1394, .9745],\n",
    "                           [.5933, .7876, .3866, .2302, .9025, .3428],\n",
    "                           [.9341, .5199, .7125, .5954, .1605, .6037],\n",
    "                           [.1782, .6358, .2108, .5423, .3567, .2569],\n",
    "                           [.3473, .7472, .3575, .4208, .3070, .0546],\n",
    "                           [.5644, .8954, .2926, .6975, .5513, .0305]])"
   ]
  },
  {
   "cell_type": "code",
   "execution_count": 3,
   "id": "35a27872",
   "metadata": {},
   "outputs": [],
   "source": [
    "def is_heads(x):\n",
    "    if x <= 0.5:\n",
    "        # If 1 (heads), Jan loses.\n",
    "        return 1\n",
    "    else:\n",
    "        # If 0 (tails), Jan wins.\n",
    "        return 0"
   ]
  },
  {
   "cell_type": "code",
   "execution_count": 4,
   "id": "0e2d4c73",
   "metadata": {},
   "outputs": [],
   "source": [
    "results = []\n",
    "for each in random_numbers.T[:5]:\n",
    "    for i in each:\n",
    "        results.append(is_heads(i))"
   ]
  },
  {
   "cell_type": "code",
   "execution_count": 5,
   "id": "8703c89a",
   "metadata": {},
   "outputs": [],
   "source": [
    "num_win = results.count(0)\n",
    "num_lose =  results.count(1)"
   ]
  },
  {
   "cell_type": "code",
   "execution_count": 6,
   "id": "38af5459",
   "metadata": {},
   "outputs": [],
   "source": [
    "win_freq = num_win / len(results)\n",
    "lose_freq = num_lose / len(results)"
   ]
  },
  {
   "cell_type": "code",
   "execution_count": null,
   "id": "855b5792",
   "metadata": {},
   "outputs": [],
   "source": []
  }
 ],
 "metadata": {
  "kernelspec": {
   "display_name": "Python 3",
   "language": "python",
   "name": "python3"
  },
  "language_info": {
   "codemirror_mode": {
    "name": "ipython",
    "version": 3
   },
   "file_extension": ".py",
   "mimetype": "text/x-python",
   "name": "python",
   "nbconvert_exporter": "python",
   "pygments_lexer": "ipython3",
   "version": "3.8.8"
  }
 },
 "nbformat": 4,
 "nbformat_minor": 5
}

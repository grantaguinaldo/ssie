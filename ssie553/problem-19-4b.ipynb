{
 "cells": [
  {
   "cell_type": "code",
   "execution_count": 1,
   "id": "0298c00c",
   "metadata": {},
   "outputs": [],
   "source": [
    "import numpy as np"
   ]
  },
  {
   "cell_type": "markdown",
   "id": "bf6789a3",
   "metadata": {},
   "source": [
    "### Problem 19-4(a)"
   ]
  },
  {
   "cell_type": "code",
   "execution_count": 2,
   "id": "96a8ae0d",
   "metadata": {},
   "outputs": [],
   "source": [
    "random_numbers = np.array([[.0589, .3529, .5869, .3455, .7900, .6307],\n",
    "                           [.6733, .3646, .1281, .4871, .7698, .2346],\n",
    "                           [.4799, .7676, .2867, .8111, .2871, .4220],\n",
    "                           [.9486, .8931, .8216, .8912, .9534, .6991],\n",
    "                           [.6139, .3919, .8261, .4291, .1394, .9745],\n",
    "                           [.5933, .7876, .3866, .2302, .9025, .3428],\n",
    "                           [.9341, .5199, .7125, .5954, .1605, .6037],\n",
    "                           [.1782, .6358, .2108, .5423, .3567, .2569],\n",
    "                           [.3473, .7472, .3575, .4208, .3070, .0546],\n",
    "                           [.5644, .8954, .2926, .6975, .5513, .0305]])"
   ]
  },
  {
   "cell_type": "code",
   "execution_count": 3,
   "id": "b742069c",
   "metadata": {},
   "outputs": [],
   "source": [
    "def is_heads(x):\n",
    "    if x <= 0.5:\n",
    "        # If 1 (heads), Jan loses.\n",
    "        return 1\n",
    "    else:\n",
    "        # If 0 (tails), Jan wins.\n",
    "        return 0"
   ]
  },
  {
   "cell_type": "markdown",
   "id": "1a4397a1",
   "metadata": {},
   "source": [
    "### Problem 19-4(b)"
   ]
  },
  {
   "cell_type": "code",
   "execution_count": 4,
   "id": "9836c2ac",
   "metadata": {},
   "outputs": [
    {
     "data": {
      "text/plain": [
       "[1,\n",
       " 0,\n",
       " 1,\n",
       " 0,\n",
       " 0,\n",
       " 0,\n",
       " 0,\n",
       " 1,\n",
       " 1,\n",
       " 0,\n",
       " 1,\n",
       " 1,\n",
       " 0,\n",
       " 0,\n",
       " 1,\n",
       " 0,\n",
       " 0,\n",
       " 0,\n",
       " 0,\n",
       " 0,\n",
       " 0,\n",
       " 1,\n",
       " 1,\n",
       " 0,\n",
       " 0,\n",
       " 1,\n",
       " 0,\n",
       " 1,\n",
       " 1,\n",
       " 1,\n",
       " 1,\n",
       " 1,\n",
       " 0,\n",
       " 0,\n",
       " 1,\n",
       " 1,\n",
       " 0,\n",
       " 0,\n",
       " 1,\n",
       " 0,\n",
       " 0,\n",
       " 0,\n",
       " 1,\n",
       " 0,\n",
       " 1,\n",
       " 0,\n",
       " 1,\n",
       " 1,\n",
       " 1,\n",
       " 0]"
      ]
     },
     "execution_count": 4,
     "metadata": {},
     "output_type": "execute_result"
    }
   ],
   "source": [
    "results = []\n",
    "for each in random_numbers.T[:5]:\n",
    "    for i in each:\n",
    "        results.append(is_heads(i))\n",
    "results"
   ]
  },
  {
   "cell_type": "code",
   "execution_count": 5,
   "id": "586f6bc1",
   "metadata": {},
   "outputs": [],
   "source": [
    "n = len(results)\n",
    "num_win = results.count(0)\n",
    "num_lose =  results.count(1)"
   ]
  },
  {
   "cell_type": "code",
   "execution_count": 6,
   "id": "fb549ce4",
   "metadata": {},
   "outputs": [
    {
     "data": {
      "text/plain": [
       "27"
      ]
     },
     "execution_count": 6,
     "metadata": {},
     "output_type": "execute_result"
    }
   ],
   "source": [
    "num_win"
   ]
  },
  {
   "cell_type": "code",
   "execution_count": 7,
   "id": "d3d5aaa3",
   "metadata": {},
   "outputs": [
    {
     "data": {
      "text/plain": [
       "23"
      ]
     },
     "execution_count": 7,
     "metadata": {},
     "output_type": "execute_result"
    }
   ],
   "source": [
    "num_lose"
   ]
  },
  {
   "cell_type": "code",
   "execution_count": 8,
   "id": "de33c547",
   "metadata": {},
   "outputs": [],
   "source": [
    "p_win_freq = num_win / n\n",
    "q_lose_freq = num_lose / n"
   ]
  },
  {
   "cell_type": "code",
   "execution_count": 9,
   "id": "80aa20b8",
   "metadata": {},
   "outputs": [
    {
     "data": {
      "text/plain": [
       "0.54"
      ]
     },
     "execution_count": 9,
     "metadata": {},
     "output_type": "execute_result"
    }
   ],
   "source": [
    "p_win_freq"
   ]
  },
  {
   "cell_type": "code",
   "execution_count": 10,
   "id": "88db6bf9",
   "metadata": {},
   "outputs": [
    {
     "data": {
      "text/plain": [
       "0.46"
      ]
     },
     "execution_count": 10,
     "metadata": {},
     "output_type": "execute_result"
    }
   ],
   "source": [
    "q_lose_freq"
   ]
  },
  {
   "cell_type": "code",
   "execution_count": 11,
   "id": "4482d754",
   "metadata": {},
   "outputs": [],
   "source": [
    "# p_win_freq ~ Bin(p) (Binomial)\n",
    "\n",
    "var = n*p_win_freq*q_lose_freq\n",
    "std_dev = np.sqrt(var)\n",
    "mean = n*p_win_freq"
   ]
  },
  {
   "cell_type": "code",
   "execution_count": 12,
   "id": "0fd0c975",
   "metadata": {},
   "outputs": [
    {
     "data": {
      "text/plain": [
       "5.4"
      ]
     },
     "execution_count": 12,
     "metadata": {},
     "output_type": "execute_result"
    }
   ],
   "source": [
    "expected_value_win_earn = 10*p_win_freq\n",
    "expected_value_win_earn"
   ]
  },
  {
   "cell_type": "markdown",
   "id": "02dbecab",
   "metadata": {},
   "source": [
    "### Problem 19-4(c)"
   ]
  },
  {
   "cell_type": "code",
   "execution_count": 13,
   "id": "844bf3d5",
   "metadata": {},
   "outputs": [],
   "source": [
    "z_score_95_pct = 1.960"
   ]
  },
  {
   "cell_type": "code",
   "execution_count": 14,
   "id": "0e727a08",
   "metadata": {},
   "outputs": [
    {
     "data": {
      "text/plain": [
       "26.023141033720833"
      ]
     },
     "execution_count": 14,
     "metadata": {},
     "output_type": "execute_result"
    }
   ],
   "source": [
    "ci_95_pct_lower = mean - ((std_dev / np.sqrt(n))*z_score_95_pct)\n",
    "ci_95_pct_lower"
   ]
  },
  {
   "cell_type": "code",
   "execution_count": 15,
   "id": "492e1347",
   "metadata": {},
   "outputs": [
    {
     "data": {
      "text/plain": [
       "27.976858966279167"
      ]
     },
     "execution_count": 15,
     "metadata": {},
     "output_type": "execute_result"
    }
   ],
   "source": [
    "ci_95_pct_upper = mean + ((std_dev / np.sqrt(n))*z_score_95_pct)\n",
    "ci_95_pct_upper"
   ]
  },
  {
   "cell_type": "markdown",
   "id": "342b60fc",
   "metadata": {},
   "source": [
    "### Problem 19-4(d)"
   ]
  },
  {
   "cell_type": "code",
   "execution_count": 16,
   "id": "7c966b2e",
   "metadata": {},
   "outputs": [
    {
     "data": {
      "text/plain": [
       "5.204628206744166"
      ]
     },
     "execution_count": 16,
     "metadata": {},
     "output_type": "execute_result"
    }
   ],
   "source": [
    "expected_value_win_earn_lower_95_pct_CI = (ci_95_pct_lower / n)*10\n",
    "expected_value_win_earn_lower_95_pct_CI"
   ]
  },
  {
   "cell_type": "code",
   "execution_count": 17,
   "id": "f1e56431",
   "metadata": {},
   "outputs": [
    {
     "data": {
      "text/plain": [
       "5.595371793255834"
      ]
     },
     "execution_count": 17,
     "metadata": {},
     "output_type": "execute_result"
    }
   ],
   "source": [
    "expected_value_win_earn_upper_95_pct_CI = (ci_95_pct_upper / n)*10\n",
    "expected_value_win_earn_upper_95_pct_CI"
   ]
  }
 ],
 "metadata": {
  "kernelspec": {
   "display_name": "Python 3",
   "language": "python",
   "name": "python3"
  },
  "language_info": {
   "codemirror_mode": {
    "name": "ipython",
    "version": 3
   },
   "file_extension": ".py",
   "mimetype": "text/x-python",
   "name": "python",
   "nbconvert_exporter": "python",
   "pygments_lexer": "ipython3",
   "version": "3.8.8"
  }
 },
 "nbformat": 4,
 "nbformat_minor": 5
}

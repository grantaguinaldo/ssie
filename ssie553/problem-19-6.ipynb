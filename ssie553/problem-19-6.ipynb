{
 "cells": [
  {
   "cell_type": "code",
   "execution_count": 1,
   "id": "504d5b9b",
   "metadata": {},
   "outputs": [],
   "source": [
    "import numpy as np"
   ]
  },
  {
   "cell_type": "code",
   "execution_count": 2,
   "id": "73ee979e",
   "metadata": {},
   "outputs": [],
   "source": [
    "def roll_dice():\n",
    "    '''\n",
    "    Function to roll two fair dice and return the value on the face.\n",
    "    '''\n",
    "    random_num = np.random.rand()\n",
    "    if (random_num <= 0.027777778):\n",
    "        return 2\n",
    "    elif (random_num <= 0.083333333):\n",
    "        return 3\n",
    "    elif (random_num <= 0.166666667):\n",
    "        return 4\n",
    "    elif (random_num <= 0.277777778):\n",
    "        return 5\n",
    "    elif (random_num <= 0.416666667):\n",
    "        return 6\n",
    "    if (random_num <= 0.583333333):\n",
    "        return 7\n",
    "    elif (random_num <= 0.722222222):\n",
    "        return 8\n",
    "    elif (random_num <= 0.833333333):\n",
    "        return 9\n",
    "    elif (random_num <= 0.916666667):\n",
    "        return 10\n",
    "    elif (random_num <= 0.972222222):\n",
    "        return 11\n",
    "    else:\n",
    "        return 12\n",
    "    \n",
    "def craps():\n",
    "    ## Roll dice.\n",
    "    roll = roll_dice()\n",
    "    #print('Initial Roll: {}'.format(roll))\n",
    "    #if roll in [2, 12]:\n",
    "    #    score.append(-1)\n",
    "    #    #print('Lose')\n",
    "    #    #print('----')\n",
    "    \n",
    "    # Check if value on face is 7 or 11.\n",
    "    if roll in [7, 11]:\n",
    "        score.append(+1)\n",
    "        #print('Win')\n",
    "        #print('----')\n",
    "    # If not 7 or 11, then proceed to point roll. \n",
    "    else:\n",
    "        point = roll\n",
    "        #print('Point: {}'.format(point))\n",
    "        point_roll(point=point)\n",
    "        #print('----')\n",
    "        \n",
    "def point_roll(point):\n",
    "    results = []\n",
    "    roll = roll_dice()\n",
    "    \n",
    "    #print('Point Roll: {}'.format(roll))\n",
    "    \n",
    "    # If 7 is rolled in point roll, then lose. \n",
    "    if roll in [7]:\n",
    "        score.append(-1)\n",
    "        #print(\"Lose\")\n",
    "        #exit\n",
    "        \n",
    "    # If point is rolled then win.\n",
    "    elif roll == point:\n",
    "        score.append(+1)\n",
    "        #print(\"Win\")\n",
    "        #exit\n",
    "    else:\n",
    "        point_roll(point=point)"
   ]
  },
  {
   "cell_type": "code",
   "execution_count": 3,
   "id": "6ab971ae",
   "metadata": {},
   "outputs": [],
   "source": [
    "#Simulate 1 million rolls and record results.\n",
    "\n",
    "itr = 1000000\n",
    "score = []\n",
    "for each in range(itr):\n",
    "    craps()"
   ]
  },
  {
   "cell_type": "code",
   "execution_count": 4,
   "id": "bcffddcb",
   "metadata": {},
   "outputs": [],
   "source": [
    "# Results from 1 million rolls  (1: win, -1: Lose)\n",
    "#score"
   ]
  },
  {
   "cell_type": "code",
   "execution_count": 5,
   "id": "e32d9994",
   "metadata": {},
   "outputs": [],
   "source": [
    "#Counts of wins and losses\n",
    "\n",
    "win = score.count(1)\n",
    "lose = score.count(-1)"
   ]
  },
  {
   "cell_type": "code",
   "execution_count": 6,
   "id": "d1478b81",
   "metadata": {},
   "outputs": [],
   "source": [
    "#Count freq. of wins and losses\n",
    "\n",
    "win_freq = win / itr\n",
    "lose_freq = lose / itr"
   ]
  },
  {
   "cell_type": "code",
   "execution_count": 7,
   "id": "092e2f8f",
   "metadata": {},
   "outputs": [
    {
     "data": {
      "text/plain": [
       "0.515202"
      ]
     },
     "execution_count": 7,
     "metadata": {},
     "output_type": "execute_result"
    }
   ],
   "source": [
    "win_freq"
   ]
  },
  {
   "cell_type": "code",
   "execution_count": 8,
   "id": "b1687db6",
   "metadata": {},
   "outputs": [
    {
     "data": {
      "text/plain": [
       "0.484798"
      ]
     },
     "execution_count": 8,
     "metadata": {},
     "output_type": "execute_result"
    }
   ],
   "source": [
    "lose_freq"
   ]
  },
  {
   "cell_type": "code",
   "execution_count": 9,
   "id": "ac5ec510",
   "metadata": {},
   "outputs": [
    {
     "data": {
      "text/plain": [
       "0.30404000000000053"
      ]
     },
     "execution_count": 9,
     "metadata": {},
     "output_type": "execute_result"
    }
   ],
   "source": [
    "#Expected value of playing 10 times.\n",
    "expected_earnings = (-10*lose_freq) + (10*win_freq)\n",
    "expected_earnings"
   ]
  }
 ],
 "metadata": {
  "kernelspec": {
   "display_name": "Python 3",
   "language": "python",
   "name": "python3"
  },
  "language_info": {
   "codemirror_mode": {
    "name": "ipython",
    "version": 3
   },
   "file_extension": ".py",
   "mimetype": "text/x-python",
   "name": "python",
   "nbconvert_exporter": "python",
   "pygments_lexer": "ipython3",
   "version": "3.8.8"
  }
 },
 "nbformat": 4,
 "nbformat_minor": 5
}

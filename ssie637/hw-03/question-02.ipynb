{
 "cells": [
  {
   "cell_type": "code",
   "execution_count": 1,
   "id": "39f913a9",
   "metadata": {},
   "outputs": [],
   "source": [
    "import pandas as pd\n",
    "import numpy as np\n",
    "import matplotlib.pyplot as plt\n",
    "from scipy import stats\n",
    "from sklearn.mixture import GaussianMixture\n",
    "from sklearn.cluster import AgglomerativeClustering, KMeans\n",
    "from scipy.cluster.hierarchy import dendrogram, linkage, fcluster\n",
    "from sklearn.metrics import silhouette_score, confusion_matrix\n",
    "import math\n",
    "\n",
    "pd.set_option('display.float_format', '{:.5f}'.format)\n",
    "%matplotlib inline"
   ]
  },
  {
   "cell_type": "code",
   "execution_count": 2,
   "id": "864ca3fc",
   "metadata": {},
   "outputs": [],
   "source": [
    "df = pd.read_csv('breast_cancer.csv')\n",
    "initial_list = df.columns.tolist()\n",
    "updated = [each.lower().replace(' ', '_') for each in initial_list]\n",
    "rename_dict = {initial_list[i]: updated[i] for i in range(len(initial_list))}\n",
    "df.rename(columns=rename_dict, inplace=True)\n",
    "\n",
    "df_sub = df[['clump_thickness',\n",
    "             'cell_size',\n",
    "             'cell_shape',\n",
    "             'marginal_adhesion',\n",
    "             'single_epithelial_cell_size',\n",
    "             'bare_nuclei',\n",
    "             'bland_chromatin',\n",
    "             'normal_nucleoli',\n",
    "             'mitoses']]\n",
    "\n",
    "data_bc_gt_label = df['class'].to_numpy()\n",
    "\n",
    "#Breast Cancer Data \n",
    "num_feat_bc = df_sub.shape[1]\n",
    "data_bc = df_sub.to_numpy()\n",
    "num_points_bc = len(data_bc)"
   ]
  },
  {
   "cell_type": "code",
   "execution_count": 3,
   "id": "2cb69f2b",
   "metadata": {},
   "outputs": [],
   "source": [
    "def kmeans_cluster_func(n_clusters=None, data=None):\n",
    "    n_clusters = n_clusters\n",
    "    km = KMeans(n_clusters = n_clusters, random_state=42).fit(data)\n",
    "    \n",
    "    point_dict = {each+1: data[np.where(km.predict(data) == each)[0]] for each in range(km.n_clusters)}\n",
    "    centroid_points = {idx+1: each for idx, each in enumerate(km.cluster_centers_)}\n",
    "    \n",
    "    return centroid_points, point_dict\n",
    "\n",
    "def error_function(n_clusters=None, data=None):\n",
    "    data_n_clusters = kmeans_cluster_func(n_clusters=n_clusters, data=data)\n",
    "    dict_data_centroids = data_n_clusters[0]\n",
    "    dict_data_points = data_n_clusters[1]\n",
    "\n",
    "    sum_data_points = []\n",
    "\n",
    "    for idx, each in enumerate(dict_data_centroids.values()):\n",
    "        centroid_pos_x = each[0]\n",
    "        centroid_pos_y = each[1]\n",
    "\n",
    "        distance_data_points = []\n",
    "\n",
    "        for idx_i, each_ in enumerate(dict_data_points[idx+1]):\n",
    "\n",
    "            point_x = each_[0]\n",
    "            point_y = each_[1]\n",
    "\n",
    "            '''\n",
    "            Sum of square distance. We are only computing the \n",
    "            sum of the errors for the points within each cluster \n",
    "            since all of the other values are `0` as\n",
    "            indicated in Formula 1 of the homework (see the \n",
    "            support for `a_{nk}` in the homework) . We \n",
    "            take this value to be the \"sum of square distances, \n",
    "            within each cluster.\"\n",
    "            '''\n",
    "            \n",
    "            distance = np.absolute((point_x - centroid_pos_x) + (point_y - centroid_pos_y))**2\n",
    "            distance_data_points.append(distance)\n",
    "            total = np.sum(distance_data_points)\n",
    "            \n",
    "        sum_data_points.append(total)\n",
    "    return np.sum(sum_data_points)\n",
    "\n",
    "def func(n_clusters=None, m_features=None, n_points=None, data=None):\n",
    "    model = error_function(n_clusters=n_clusters, data=data)\n",
    "    bic = model + ((1/2.)*math.log10(n_points)*n_clusters*m_features)\n",
    "    return {'n_clusters':  n_clusters, 'sum_square_error_J': model, 'bic': bic}\n",
    "\n",
    "def plot_clusters(k_value=None, m_features=None, n_points=None, data=None, data_string=None, highlight=None):\n",
    "    elbow_data = [func(n_clusters=each, \n",
    "                       m_features=m_features, \n",
    "                       n_points=n_points, \n",
    "                       data=data) for each in range(1, k_value+1)]\n",
    "    offset = 2500\n",
    "    x = [each['n_clusters'] for each in elbow_data]\n",
    "    y = [each['sum_square_error_J'] for each in elbow_data]\n",
    "    y_ = [each['bic'] - offset for each in elbow_data]\n",
    "    plt.figure(figsize=(10, 6))\n",
    "    plt.plot(x, y, marker='v', label='RSS', linestyle='dashed', color='black')\n",
    "    plt.plot(x, y_, marker='^', label='BIC', linestyle='solid', color='black')\n",
    "\n",
    "    plt.plot(elbow_data[highlight]['n_clusters'], \n",
    "             elbow_data[highlight]['sum_square_error_J'], \n",
    "             marker='v', \n",
    "             color='red', \n",
    "             label='k = ' + str(highlight+1) + ' Clusters')\n",
    "\n",
    "    plt.plot(elbow_data[highlight]['n_clusters'], \n",
    "             elbow_data[highlight]['bic'] - offset, \n",
    "             marker='^', \n",
    "             color='red', \n",
    "             label='k = ' + str(highlight+1) + ' Clusters')\n",
    "\n",
    "    plt.ylim(-2500, 50000, 5000)\n",
    "    plt.xlim(0, 9)\n",
    "    plt.xlabel('(num. clusters) \\n Value of `k`', fontsize=14)\n",
    "    plt.ylabel('Error Value \\n (arb. units)', fontsize=14)\n",
    "    plt.yticks(fontsize=13)\n",
    "    plt.xticks(fontsize=13)\n",
    "    plt.title('Elbow Plot \\n k-Means Clustering ' + \"(\" + data_string +\")\", fontsize=14)\n",
    "    plt.legend(fontsize=13)\n",
    "    plt.show()"
   ]
  },
  {
   "cell_type": "code",
   "execution_count": 4,
   "id": "0cab82e9",
   "metadata": {},
   "outputs": [
    {
     "data": {
      "image/png": "[encoded data removed]",
      "text/plain": [
       "<Figure size 720x432 with 1 Axes>"
      ]
     },
     "metadata": {
      "needs_background": "light"
     },
     "output_type": "display_data"
    }
   ],
   "source": [
    "plot_clusters(k_value=8, \n",
    "              m_features=num_feat_bc, \n",
    "              n_points=num_points_bc, \n",
    "              data=data_bc, data_string=\"Breast Cancer Data\", highlight=1)"
   ]
  },
  {
   "cell_type": "code",
   "execution_count": 5,
   "id": "207f3eb6",
   "metadata": {},
   "outputs": [
    {
     "data": {
      "text/plain": [
       "[{'n_clusters': 1,\n",
       "  'sum_square_error_J': 19768.844062947064,\n",
       "  'bic': 19781.64421023792},\n",
       " {'n_clusters': 2,\n",
       "  'sum_square_error_J': 5472.711193824097,\n",
       "  'bic': 5498.311488405808},\n",
       " {'n_clusters': 3,\n",
       "  'sum_square_error_J': 4325.917462786623,\n",
       "  'bic': 4364.3179046591895},\n",
       " {'n_clusters': 4,\n",
       "  'sum_square_error_J': 4668.471257180348,\n",
       "  'bic': 4719.671846343771},\n",
       " {'n_clusters': 5,\n",
       "  'sum_square_error_J': 3666.335660580021,\n",
       "  'bic': 3730.336397034299},\n",
       " {'n_clusters': 6,\n",
       "  'sum_square_error_J': 3175.6694592406448,\n",
       "  'bic': 3252.470342985778},\n",
       " {'n_clusters': 7,\n",
       "  'sum_square_error_J': 3645.0486270187375,\n",
       "  'bic': 3734.6496580547264},\n",
       " {'n_clusters': 8,\n",
       "  'sum_square_error_J': 3230.890514031203,\n",
       "  'bic': 3333.291692358048}]"
      ]
     },
     "execution_count": 5,
     "metadata": {},
     "output_type": "execute_result"
    }
   ],
   "source": [
    "elbow_data_bc = [func(n_clusters=each, \n",
    "                        m_features=num_feat_bc, \n",
    "                        n_points=num_points_bc, \n",
    "                        data=data_bc) for each in range(1, 8+1)]\n",
    "elbow_data_bc"
   ]
  },
  {
   "cell_type": "code",
   "execution_count": 6,
   "id": "5231b6d1",
   "metadata": {},
   "outputs": [
    {
     "data": {
      "image/png": "[encoded data removed]",
      "text/plain": [
       "<Figure size 1080x432 with 1 Axes>"
      ]
     },
     "metadata": {
      "needs_background": "light"
     },
     "output_type": "display_data"
    }
   ],
   "source": [
    "plt.figure(figsize=(15, 6))\n",
    "plt.axhline(y=4.5, color='black', linestyle='dotted', label='`t` Value: Cutoff for Assigning Clusters')\n",
    "clf = linkage(data_bc, method='average', metric='euclidean')\n",
    "string = 'Figure ' + str(3) + ': Scatter Plot with ' + 't=' + str(15.5)\n",
    "plt.title(string, fontsize=14)\n",
    "plt.legend()\n",
    "plt.ylabel(\"Grant\", fontsize=14)\n",
    "dendrogram(clf)\n",
    "plt.show()"
   ]
  },
  {
   "cell_type": "code",
   "execution_count": 7,
   "id": "9f7555a8",
   "metadata": {},
   "outputs": [],
   "source": [
    "y_pred_class = fcluster(clf, t=15.5, criterion='distance')"
   ]
  },
  {
   "cell_type": "code",
   "execution_count": 8,
   "id": "8cc1d082",
   "metadata": {},
   "outputs": [
    {
     "data": {
      "text/plain": [
       "{1, 2}"
      ]
     },
     "execution_count": 8,
     "metadata": {},
     "output_type": "execute_result"
    }
   ],
   "source": [
    "set(list(y_pred_class))"
   ]
  },
  {
   "cell_type": "code",
   "execution_count": 9,
   "id": "b40e8a9f",
   "metadata": {},
   "outputs": [],
   "source": [
    "def create_clusters_gmm(num_clusters=None, data=None):\n",
    "    clf = GaussianMixture(n_components=num_clusters, random_state=42).fit(data)\n",
    "    plt.figure(figsize=(10, 6))\n",
    "    \n",
    "    plt.scatter(data[:,0], data[:,1], c=clf.predict(data).astype(float))\n",
    "    plt.scatter(x=list(clf.means_[:,0]), \n",
    "                y=list(clf.means_[:,1]), \n",
    "                c='r', s=50, marker='X')\n",
    "    \n",
    "    plt.xlabel('X-Values', fontsize=14)\n",
    "    plt.ylabel('Y-Values', fontsize=14)\n",
    "    string = 'Figure ' + str(2) + ': Scatter Plot with ' + str(num_clusters) + ' Cluster Centroids (GMM)'\n",
    "    \n",
    "    plt.title(string, fontsize=14)\n",
    "    plt.show()"
   ]
  },
  {
   "cell_type": "code",
   "execution_count": 10,
   "id": "92436da9",
   "metadata": {},
   "outputs": [
    {
     "data": {
      "text/plain": [
       "{0, 1}"
      ]
     },
     "execution_count": 10,
     "metadata": {},
     "output_type": "execute_result"
    }
   ],
   "source": [
    "clf = GaussianMixture(n_components=2, random_state=42).fit(data_bc)\n",
    "set(list(clf.predict(data_bc)))"
   ]
  },
  {
   "cell_type": "code",
   "execution_count": 11,
   "id": "f6d3ce0d",
   "metadata": {},
   "outputs": [],
   "source": [
    "km_ = KMeans(n_clusters=2, random_state=42).fit(data_bc)\n",
    "gmm_ = GaussianMixture(n_components=2, random_state=42).fit(data_bc)"
   ]
  },
  {
   "cell_type": "code",
   "execution_count": 12,
   "id": "8a13807a",
   "metadata": {},
   "outputs": [],
   "source": [
    "km_y_pred_class = km_.predict(data_bc)\n",
    "gmm_y_pred_class = gmm_.predict(data_bc)"
   ]
  },
  {
   "cell_type": "code",
   "execution_count": 13,
   "id": "e6bffff6",
   "metadata": {},
   "outputs": [],
   "source": [
    "# Compare k-Means and GMM using the criteria in the homework assignment.\n",
    "\n",
    "data_bc_gt_label_transform = []\n",
    "for each in data_bc_gt_label:\n",
    "    \n",
    "    if each == 4:\n",
    "        data_bc_gt_label_transform.append(0)\n",
    "        \n",
    "    else: \n",
    "        data_bc_gt_label_transform.append(1)\n",
    "        \n",
    "data_bc_gt_label_transform_array = np.array(data_bc_gt_label_transform)\n",
    "\n",
    "total_samples = len(data_bc_gt_label)\n",
    "\n",
    "cm_km = confusion_matrix(data_bc_gt_label_transform_array, km_y_pred_class)\n",
    "cm_gmm = confusion_matrix(data_bc_gt_label_transform_array, gmm_y_pred_class)"
   ]
  },
  {
   "cell_type": "code",
   "execution_count": 14,
   "id": "ab5171c5",
   "metadata": {},
   "outputs": [
    {
     "data": {
      "text/plain": [
       "array([[223,  18],\n",
       "       [ 11, 447]])"
      ]
     },
     "execution_count": 14,
     "metadata": {},
     "output_type": "execute_result"
    }
   ],
   "source": [
    "cm_km"
   ]
  },
  {
   "cell_type": "code",
   "execution_count": 15,
   "id": "ed62d2f9",
   "metadata": {},
   "outputs": [
    {
     "data": {
      "text/plain": [
       "array([[  0, 241],\n",
       "       [370,  88]])"
      ]
     },
     "execution_count": 15,
     "metadata": {},
     "output_type": "execute_result"
    }
   ],
   "source": [
    "cm_gmm"
   ]
  },
  {
   "cell_type": "code",
   "execution_count": 16,
   "id": "ddebfd06",
   "metadata": {},
   "outputs": [],
   "source": [
    "P_km = cm_km[0][0] / total_samples\n",
    "P_gmm = cm_gmm[0][0] / total_samples"
   ]
  },
  {
   "cell_type": "code",
   "execution_count": 17,
   "id": "00177441",
   "metadata": {},
   "outputs": [
    {
     "name": "stdout",
     "output_type": "stream",
     "text": [
      "P_km: 0.3190271816881259, P_gmm: 0.0\n"
     ]
    }
   ],
   "source": [
    "print('P_km: {}, P_gmm: {}'.format(P_km, P_gmm))"
   ]
  },
  {
   "cell_type": "code",
   "execution_count": 18,
   "id": "326eceae",
   "metadata": {},
   "outputs": [],
   "source": [
    "silhouette_avg_km = silhouette_score(data_bc, km_y_pred_class)\n",
    "silhouette_avg_gmm = silhouette_score(data_bc, gmm_y_pred_class)"
   ]
  },
  {
   "cell_type": "code",
   "execution_count": 19,
   "id": "f3bd26a3",
   "metadata": {},
   "outputs": [
    {
     "name": "stdout",
     "output_type": "stream",
     "text": [
      "silhouette_avg_km: 0.5960 silhouette_avg_gmm: 0.4204\n"
     ]
    }
   ],
   "source": [
    "print('silhouette_avg_km: {:.4f} silhouette_avg_gmm: {:.4f}'.format(silhouette_avg_km, \n",
    "                                                                    silhouette_avg_gmm))"
   ]
  }
 ],
 "metadata": {
  "kernelspec": {
   "display_name": "Python 3",
   "language": "python",
   "name": "python3"
  },
  "language_info": {
   "codemirror_mode": {
    "name": "ipython",
    "version": 3
   },
   "file_extension": ".py",
   "mimetype": "text/x-python",
   "name": "python",
   "nbconvert_exporter": "python",
   "pygments_lexer": "ipython3",
   "version": "3.8.8"
  }
 },
 "nbformat": 4,
 "nbformat_minor": 5
}

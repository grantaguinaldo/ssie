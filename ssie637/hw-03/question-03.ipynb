{
 "cells": [
  {
   "cell_type": "code",
   "execution_count": 1,
   "id": "ef40a0f8",
   "metadata": {},
   "outputs": [],
   "source": [
    "import pandas as pd\n",
    "import numpy as np\n",
    "from sklearn.cluster import KMeans\n",
    "import matplotlib.pyplot as plt\n",
    "from scipy import stats\n",
    "from collections import Counter\n",
    "import itertools, math\n",
    "\n",
    "pd.set_option('display.float_format', '{:.5f}'.format)\n",
    "%matplotlib inline"
   ]
  },
  {
   "cell_type": "code",
   "execution_count": 2,
   "id": "09b00705",
   "metadata": {},
   "outputs": [
    {
     "data": {
      "text/html": [
       "<div>\n",
       "<style scoped>\n",
       "    .dataframe tbody tr th:only-of-type {\n",
       "        vertical-align: middle;\n",
       "    }\n",
       "\n",
       "    .dataframe tbody tr th {\n",
       "        vertical-align: top;\n",
       "    }\n",
       "\n",
       "    .dataframe thead th {\n",
       "        text-align: right;\n",
       "    }\n",
       "</style>\n",
       "<table border=\"1\" class=\"dataframe\">\n",
       "  <thead>\n",
       "    <tr style=\"text-align: right;\">\n",
       "      <th></th>\n",
       "      <th>id</th>\n",
       "      <th>clump_thickness</th>\n",
       "      <th>cell_size</th>\n",
       "      <th>cell_shape</th>\n",
       "      <th>marginal_adhesion</th>\n",
       "      <th>single_epithelial_cell_size</th>\n",
       "      <th>bare_nuclei</th>\n",
       "      <th>bland_chromatin</th>\n",
       "      <th>normal_nucleoli</th>\n",
       "      <th>mitoses</th>\n",
       "      <th>class</th>\n",
       "    </tr>\n",
       "  </thead>\n",
       "  <tbody>\n",
       "    <tr>\n",
       "      <th>0</th>\n",
       "      <td>1000025</td>\n",
       "      <td>5</td>\n",
       "      <td>1</td>\n",
       "      <td>1</td>\n",
       "      <td>1</td>\n",
       "      <td>2</td>\n",
       "      <td>1</td>\n",
       "      <td>3</td>\n",
       "      <td>1</td>\n",
       "      <td>1</td>\n",
       "      <td>2</td>\n",
       "    </tr>\n",
       "    <tr>\n",
       "      <th>1</th>\n",
       "      <td>1002945</td>\n",
       "      <td>5</td>\n",
       "      <td>4</td>\n",
       "      <td>4</td>\n",
       "      <td>5</td>\n",
       "      <td>7</td>\n",
       "      <td>10</td>\n",
       "      <td>3</td>\n",
       "      <td>2</td>\n",
       "      <td>1</td>\n",
       "      <td>2</td>\n",
       "    </tr>\n",
       "    <tr>\n",
       "      <th>2</th>\n",
       "      <td>1015425</td>\n",
       "      <td>3</td>\n",
       "      <td>1</td>\n",
       "      <td>1</td>\n",
       "      <td>1</td>\n",
       "      <td>2</td>\n",
       "      <td>2</td>\n",
       "      <td>3</td>\n",
       "      <td>1</td>\n",
       "      <td>1</td>\n",
       "      <td>2</td>\n",
       "    </tr>\n",
       "    <tr>\n",
       "      <th>3</th>\n",
       "      <td>1016277</td>\n",
       "      <td>6</td>\n",
       "      <td>8</td>\n",
       "      <td>8</td>\n",
       "      <td>1</td>\n",
       "      <td>3</td>\n",
       "      <td>4</td>\n",
       "      <td>3</td>\n",
       "      <td>7</td>\n",
       "      <td>1</td>\n",
       "      <td>2</td>\n",
       "    </tr>\n",
       "    <tr>\n",
       "      <th>4</th>\n",
       "      <td>1017023</td>\n",
       "      <td>4</td>\n",
       "      <td>1</td>\n",
       "      <td>1</td>\n",
       "      <td>3</td>\n",
       "      <td>2</td>\n",
       "      <td>1</td>\n",
       "      <td>3</td>\n",
       "      <td>1</td>\n",
       "      <td>1</td>\n",
       "      <td>2</td>\n",
       "    </tr>\n",
       "  </tbody>\n",
       "</table>\n",
       "</div>"
      ],
      "text/plain": [
       "        id  clump_thickness  cell_size  cell_shape  marginal_adhesion  \\\n",
       "0  1000025                5          1           1                  1   \n",
       "1  1002945                5          4           4                  5   \n",
       "2  1015425                3          1           1                  1   \n",
       "3  1016277                6          8           8                  1   \n",
       "4  1017023                4          1           1                  3   \n",
       "\n",
       "   single_epithelial_cell_size  bare_nuclei  bland_chromatin  normal_nucleoli  \\\n",
       "0                            2            1                3                1   \n",
       "1                            7           10                3                2   \n",
       "2                            2            2                3                1   \n",
       "3                            3            4                3                7   \n",
       "4                            2            1                3                1   \n",
       "\n",
       "   mitoses  class  \n",
       "0        1      2  \n",
       "1        1      2  \n",
       "2        1      2  \n",
       "3        1      2  \n",
       "4        1      2  "
      ]
     },
     "execution_count": 2,
     "metadata": {},
     "output_type": "execute_result"
    }
   ],
   "source": [
    "df = pd.read_csv('breast_cancer.csv')\n",
    "initial_list = df.columns.tolist()\n",
    "updated = [each.lower().replace(' ', '_') for each in initial_list]\n",
    "rename_dict = {initial_list[i]: updated[i] for i in range(len(initial_list))}\n",
    "df.rename(columns=rename_dict, inplace=True)\n",
    "df.head()"
   ]
  },
  {
   "cell_type": "code",
   "execution_count": 3,
   "id": "c14d9a21",
   "metadata": {},
   "outputs": [],
   "source": [
    "df_sub = df[['clump_thickness',\n",
    "             'cell_size',\n",
    "             'cell_shape',\n",
    "             'marginal_adhesion',\n",
    "             'single_epithelial_cell_size',\n",
    "             'bare_nuclei',\n",
    "             'bland_chromatin',\n",
    "             'normal_nucleoli',\n",
    "             'mitoses']]\n",
    "\n",
    "data_gtlabel = df['class'].to_numpy()\n",
    "\n",
    "#Breast Cancer Data \n",
    "num_feat_bc = df_sub.shape[1]\n",
    "data_bc = df_sub.to_numpy()\n",
    "num_points_bc = len(data_bc)"
   ]
  },
  {
   "cell_type": "code",
   "execution_count": 4,
   "id": "78fc7392",
   "metadata": {},
   "outputs": [],
   "source": [
    "with open('random_data.txt') as f:\n",
    "    data_rand = f.readlines()\n",
    "data_np_rand = np.array([each.split() for each in data_rand])\n",
    "X_rand = [float(each) for each in data_np_rand[:,0]]\n",
    "Y_rand = [float(each) for each in data_np_rand[:,1]]\n",
    "\n",
    "#Random Text Data \n",
    "num_feat_rand = data_np_rand.shape[1]\n",
    "num_points_rand = len(X_rand)\n",
    "data_rand = np.column_stack((X_rand, Y_rand))"
   ]
  },
  {
   "cell_type": "code",
   "execution_count": 5,
   "id": "ddaf497c",
   "metadata": {},
   "outputs": [],
   "source": [
    "def kmeans_cluster_func(n_clusters=None, data=None):\n",
    "    n_clusters = n_clusters\n",
    "    km = KMeans(n_clusters = n_clusters, random_state=42).fit(data)\n",
    "    \n",
    "    point_dict = {each+1: data[np.where(km.predict(data) == each)[0]] for each in range(km.n_clusters)}\n",
    "    centroid_points = {idx+1: each for idx, each in enumerate(km.cluster_centers_)}\n",
    "    \n",
    "    return centroid_points, point_dict\n",
    "\n",
    "def error_function(n_clusters=None, data=None):\n",
    "    data_n_clusters = kmeans_cluster_func(n_clusters=n_clusters, data=data)\n",
    "    dict_data_centroids = data_n_clusters[0]\n",
    "    dict_data_points = data_n_clusters[1]\n",
    "\n",
    "    sum_data_points = []\n",
    "\n",
    "    for idx, each in enumerate(dict_data_centroids.values()):\n",
    "        centroid_pos_x = each[0]\n",
    "        centroid_pos_y = each[1]\n",
    "\n",
    "        distance_data_points = []\n",
    "\n",
    "        for idx_i, each_ in enumerate(dict_data_points[idx+1]):\n",
    "\n",
    "            point_x = each_[0]\n",
    "            point_y = each_[1]\n",
    "\n",
    "            '''\n",
    "            Sum of square distance. We are only computing the \n",
    "            sum of the errors for the points within each cluster \n",
    "            since all of the other values are `0` as\n",
    "            indicated in Formula 1 of the homework (see the \n",
    "            support for `a_{nk}` in the homework) . We \n",
    "            take this value to be the \"sum of square distances, \n",
    "            within each cluster.\"\n",
    "            '''\n",
    "            \n",
    "            distance = np.absolute((point_x - centroid_pos_x) + (point_y - centroid_pos_y))**2\n",
    "            distance_data_points.append(distance)\n",
    "            total = np.sum(distance_data_points)\n",
    "            \n",
    "        sum_data_points.append(total)\n",
    "    return np.sum(sum_data_points)\n",
    "\n",
    "def func(n_clusters=None, m_features=None, n_points=None, data=None):\n",
    "    model = error_function(n_clusters=n_clusters, data=data)\n",
    "    bic = model + ((1/2.)*math.log10(n_points)*n_clusters*m_features)\n",
    "    return {'n_clusters':  n_clusters, 'sum_square_error_J': model, 'bic': bic}\n",
    "\n",
    "def plot_clusters(k_value=None, m_features=None, n_points=None, data=None, data_string=None, highlight=None):\n",
    "    elbow_data = [func(n_clusters=each, \n",
    "                       m_features=m_features, \n",
    "                       n_points=n_points, \n",
    "                       data=data) for each in range(1, k_value+1)]\n",
    "    offset = 2500\n",
    "    x = [each['n_clusters'] for each in elbow_data]\n",
    "    y = [each['sum_square_error_J'] for each in elbow_data]\n",
    "    y_ = [each['bic'] - offset for each in elbow_data]\n",
    "    plt.figure(figsize=(10, 6))\n",
    "    plt.plot(x, y, marker='v', label='RSS', linestyle='dashed', color='black')\n",
    "    plt.plot(x, y_, marker='^', label='BIC', linestyle='solid', color='black')\n",
    "\n",
    "    plt.plot(elbow_data[highlight]['n_clusters'], \n",
    "             elbow_data[highlight]['sum_square_error_J'], \n",
    "             marker='v', \n",
    "             color='red', \n",
    "             label='k = ' + str(highlight+1) + ' Clusters')\n",
    "\n",
    "    plt.plot(elbow_data[highlight]['n_clusters'], \n",
    "             elbow_data[highlight]['bic'] - offset, \n",
    "             marker='^', \n",
    "             color='red', \n",
    "             label='k = ' + str(highlight+1) + ' Clusters')\n",
    "\n",
    "    plt.ylim(-2500, 50000, 5000)\n",
    "    plt.xlim(0, 9)\n",
    "    plt.xlabel('(num. clusters) \\n Value of `k`', fontsize=14)\n",
    "    plt.ylabel('Error Value \\n (arb. units)', fontsize=14)\n",
    "    plt.yticks(fontsize=13)\n",
    "    plt.xticks(fontsize=13)\n",
    "    plt.title('Elbow Plot \\n k-Means Clustering ' + \"(\" + data_string +\")\", fontsize=14)\n",
    "    plt.legend(fontsize=13)\n",
    "    plt.show()"
   ]
  },
  {
   "cell_type": "code",
   "execution_count": 6,
   "id": "36930059",
   "metadata": {},
   "outputs": [
    {
     "data": {
      "image/png": "[encoded data removed]",
      "text/plain": [
       "<Figure size 720x432 with 1 Axes>"
      ]
     },
     "metadata": {
      "needs_background": "light"
     },
     "output_type": "display_data"
    }
   ],
   "source": [
    "plot_clusters(k_value=8, \n",
    "              m_features=num_feat_bc, \n",
    "              n_points=num_points_bc, \n",
    "              data=data_bc, data_string=\"Breast Cancer Data\", highlight=1)"
   ]
  },
  {
   "cell_type": "code",
   "execution_count": 7,
   "id": "f3d0af61",
   "metadata": {},
   "outputs": [
    {
     "data": {
      "image/png": "[encoded data removed]",
      "text/plain": [
       "<Figure size 720x432 with 1 Axes>"
      ]
     },
     "metadata": {
      "needs_background": "light"
     },
     "output_type": "display_data"
    }
   ],
   "source": [
    "plot_clusters(k_value=8, \n",
    "              m_features=num_feat_rand, \n",
    "              n_points=num_points_rand, \n",
    "              data=data_rand, data_string=\"Random Text.txt\", highlight=2)"
   ]
  },
  {
   "cell_type": "code",
   "execution_count": 8,
   "id": "946165a4",
   "metadata": {},
   "outputs": [],
   "source": [
    "elbow_data_rand = [func(n_clusters=each, \n",
    "                        m_features=num_feat_rand, \n",
    "                        n_points=num_points_rand, \n",
    "                        data=data_rand) for each in range(1, 8+1)]\n",
    "\n",
    "elbow_data_bc = [func(n_clusters=each, \n",
    "                        m_features=num_feat_bc, \n",
    "                        n_points=num_points_bc, \n",
    "                        data=data_bc) for each in range(1, 8+1)]"
   ]
  },
  {
   "cell_type": "code",
   "execution_count": 9,
   "id": "a72af8a3",
   "metadata": {},
   "outputs": [
    {
     "data": {
      "text/plain": [
       "[{'n_clusters': 1,\n",
       "  'sum_square_error_J': 46023.87854871573,\n",
       "  'bic': 46026.87854871573},\n",
       " {'n_clusters': 2,\n",
       "  'sum_square_error_J': 44522.93842600519,\n",
       "  'bic': 44528.93842600519},\n",
       " {'n_clusters': 3,\n",
       "  'sum_square_error_J': 8882.016463873415,\n",
       "  'bic': 8891.016463873415},\n",
       " {'n_clusters': 4,\n",
       "  'sum_square_error_J': 8283.830844718543,\n",
       "  'bic': 8295.830844718543},\n",
       " {'n_clusters': 5,\n",
       "  'sum_square_error_J': 1986.4197077743204,\n",
       "  'bic': 2001.4197077743204},\n",
       " {'n_clusters': 6,\n",
       "  'sum_square_error_J': 1748.280118413325,\n",
       "  'bic': 1766.280118413325},\n",
       " {'n_clusters': 7,\n",
       "  'sum_square_error_J': 1543.4977879945063,\n",
       "  'bic': 1564.4977879945063},\n",
       " {'n_clusters': 8,\n",
       "  'sum_square_error_J': 1376.4346393964925,\n",
       "  'bic': 1400.4346393964925}]"
      ]
     },
     "execution_count": 9,
     "metadata": {},
     "output_type": "execute_result"
    }
   ],
   "source": [
    "elbow_data_rand"
   ]
  },
  {
   "cell_type": "code",
   "execution_count": 10,
   "id": "78173f6b",
   "metadata": {},
   "outputs": [
    {
     "data": {
      "text/plain": [
       "[{'n_clusters': 1,\n",
       "  'sum_square_error_J': 19768.844062947064,\n",
       "  'bic': 19781.64421023792},\n",
       " {'n_clusters': 2,\n",
       "  'sum_square_error_J': 5472.711193824097,\n",
       "  'bic': 5498.311488405808},\n",
       " {'n_clusters': 3,\n",
       "  'sum_square_error_J': 4325.917462786623,\n",
       "  'bic': 4364.3179046591895},\n",
       " {'n_clusters': 4,\n",
       "  'sum_square_error_J': 4668.471257180348,\n",
       "  'bic': 4719.671846343771},\n",
       " {'n_clusters': 5,\n",
       "  'sum_square_error_J': 3666.335660580021,\n",
       "  'bic': 3730.336397034299},\n",
       " {'n_clusters': 6,\n",
       "  'sum_square_error_J': 3175.6694592406448,\n",
       "  'bic': 3252.470342985778},\n",
       " {'n_clusters': 7,\n",
       "  'sum_square_error_J': 3645.0486270187375,\n",
       "  'bic': 3734.6496580547264},\n",
       " {'n_clusters': 8,\n",
       "  'sum_square_error_J': 3230.890514031203,\n",
       "  'bic': 3333.291692358048}]"
      ]
     },
     "execution_count": 10,
     "metadata": {},
     "output_type": "execute_result"
    }
   ],
   "source": [
    "elbow_data_bc"
   ]
  }
 ],
 "metadata": {
  "kernelspec": {
   "display_name": "Python 3",
   "language": "python",
   "name": "python3"
  },
  "language_info": {
   "codemirror_mode": {
    "name": "ipython",
    "version": 3
   },
   "file_extension": ".py",
   "mimetype": "text/x-python",
   "name": "python",
   "nbconvert_exporter": "python",
   "pygments_lexer": "ipython3",
   "version": "3.8.8"
  }
 },
 "nbformat": 4,
 "nbformat_minor": 5
}

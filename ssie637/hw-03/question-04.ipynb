{
 "cells": [
  {
   "cell_type": "code",
   "execution_count": 1,
   "id": "471c08f7",
   "metadata": {},
   "outputs": [],
   "source": [
    "import pandas as pd\n",
    "from sklearn.naive_bayes import GaussianNB, MultinomialNB, CategoricalNB\n",
    "from sklearn.preprocessing import OneHotEncoder\n",
    "from sklearn.compose import make_column_transformer\n",
    "from sklearn.metrics import confusion_matrix, accuracy_score\n",
    "import numpy as np"
   ]
  },
  {
   "cell_type": "code",
   "execution_count": 2,
   "id": "5cb71a83",
   "metadata": {},
   "outputs": [],
   "source": [
    "df = pd.read_csv('problem-3-data.csv')\n",
    "one = OneHotEncoder()\n",
    "#clf = GaussianNB()\n",
    "clf = MultinomialNB()\n",
    "#clf = CategoricalNB\n",
    "df_copy = df.copy()"
   ]
  },
  {
   "cell_type": "code",
   "execution_count": 3,
   "id": "03743d4c",
   "metadata": {},
   "outputs": [],
   "source": [
    "def transformLabel(x):\n",
    "    if x == 'Yes':\n",
    "        return 1\n",
    "    else:\n",
    "        return 0"
   ]
  },
  {
   "cell_type": "code",
   "execution_count": 4,
   "id": "4877c4e0",
   "metadata": {},
   "outputs": [
    {
     "data": {
      "text/plain": [
       "['hbp', 'bmi', 'drink', 'weight']"
      ]
     },
     "execution_count": 4,
     "metadata": {},
     "output_type": "execute_result"
    }
   ],
   "source": [
    "df_copy['label'] = df_copy['disease'].apply(transformLabel)\n",
    "col_list = df_copy.columns.tolist()\n",
    "col_list[1:-2]"
   ]
  },
  {
   "cell_type": "code",
   "execution_count": 5,
   "id": "49160d8d",
   "metadata": {},
   "outputs": [
    {
     "data": {
      "text/plain": [
       "['table', 'hbp', 'bmi', 'drink', 'weight', 'disease', 'label']"
      ]
     },
     "execution_count": 5,
     "metadata": {},
     "output_type": "execute_result"
    }
   ],
   "source": [
    "col_list"
   ]
  },
  {
   "cell_type": "code",
   "execution_count": 6,
   "id": "37b6a06a",
   "metadata": {},
   "outputs": [
    {
     "data": {
      "text/plain": [
       "ColumnTransformer(remainder='passthrough',\n",
       "                  transformers=[('onehotencoder', OneHotEncoder(),\n",
       "                                 ['hbp', 'bmi', 'drink', 'weight'])])"
      ]
     },
     "execution_count": 6,
     "metadata": {},
     "output_type": "execute_result"
    }
   ],
   "source": [
    "col_transform = make_column_transformer(\n",
    "    (one, col_list[1:-2]),\n",
    "    remainder='passthrough')\n",
    "col_transform"
   ]
  },
  {
   "cell_type": "code",
   "execution_count": 7,
   "id": "648524fa",
   "metadata": {},
   "outputs": [],
   "source": [
    "data_transformed = col_transform.fit_transform(df_copy)"
   ]
  },
  {
   "cell_type": "code",
   "execution_count": 8,
   "id": "cc121819",
   "metadata": {},
   "outputs": [
    {
     "data": {
      "text/plain": [
       "array([1, 0, 1, 1, 1, 1, 0, 1, 1, 0, 1, 0, 1, 0, 1, 0, 1, 1, 1])"
      ]
     },
     "execution_count": 8,
     "metadata": {},
     "output_type": "execute_result"
    }
   ],
   "source": [
    "X = data_transformed[:,:10]\n",
    "y_ = data_transformed[:,12:]\n",
    "y = np.array([y_[each][0] for each in range(len(y_))])\n",
    "y"
   ]
  },
  {
   "cell_type": "code",
   "execution_count": 9,
   "id": "21c1f234",
   "metadata": {},
   "outputs": [],
   "source": [
    "X_hbp = X[:,:2]\n",
    "X_bmi = X[:,2:5]\n",
    "X_drink = X[:,5:7]\n",
    "X_weight = X[:,7:]"
   ]
  },
  {
   "cell_type": "code",
   "execution_count": 10,
   "id": "39be6a71",
   "metadata": {},
   "outputs": [
    {
     "data": {
      "text/plain": [
       "array([[0.0, 1.0],\n",
       "       [1.0, 0.0],\n",
       "       [1.0, 0.0],\n",
       "       [1.0, 0.0],\n",
       "       [0.0, 1.0],\n",
       "       [0.0, 1.0],\n",
       "       [1.0, 0.0],\n",
       "       [0.0, 1.0],\n",
       "       [0.0, 1.0],\n",
       "       [1.0, 0.0],\n",
       "       [1.0, 0.0],\n",
       "       [0.0, 1.0],\n",
       "       [0.0, 1.0],\n",
       "       [0.0, 1.0],\n",
       "       [0.0, 1.0],\n",
       "       [1.0, 0.0],\n",
       "       [1.0, 0.0],\n",
       "       [1.0, 0.0],\n",
       "       [0.0, 1.0]], dtype=object)"
      ]
     },
     "execution_count": 10,
     "metadata": {},
     "output_type": "execute_result"
    }
   ],
   "source": [
    "X_hbp"
   ]
  },
  {
   "cell_type": "code",
   "execution_count": 11,
   "id": "d4440955",
   "metadata": {},
   "outputs": [
    {
     "data": {
      "text/plain": [
       "array([[0.0, 0.0, 1.0],\n",
       "       [0.0, 0.0, 1.0],\n",
       "       [1.0, 0.0, 0.0],\n",
       "       [0.0, 1.0, 0.0],\n",
       "       [1.0, 0.0, 0.0],\n",
       "       [0.0, 1.0, 0.0],\n",
       "       [0.0, 1.0, 0.0],\n",
       "       [0.0, 0.0, 1.0],\n",
       "       [1.0, 0.0, 0.0],\n",
       "       [0.0, 0.0, 1.0],\n",
       "       [1.0, 0.0, 0.0],\n",
       "       [0.0, 1.0, 0.0],\n",
       "       [0.0, 0.0, 1.0],\n",
       "       [0.0, 1.0, 0.0],\n",
       "       [0.0, 0.0, 1.0],\n",
       "       [0.0, 0.0, 1.0],\n",
       "       [1.0, 0.0, 0.0],\n",
       "       [0.0, 1.0, 0.0],\n",
       "       [1.0, 0.0, 0.0]], dtype=object)"
      ]
     },
     "execution_count": 11,
     "metadata": {},
     "output_type": "execute_result"
    }
   ],
   "source": [
    "X_bmi"
   ]
  },
  {
   "cell_type": "code",
   "execution_count": 12,
   "id": "cc9b4082",
   "metadata": {},
   "outputs": [
    {
     "data": {
      "text/plain": [
       "array([[1.0, 0.0],\n",
       "       [0.0, 1.0],\n",
       "       [1.0, 0.0],\n",
       "       [0.0, 1.0],\n",
       "       [0.0, 1.0],\n",
       "       [0.0, 1.0],\n",
       "       [1.0, 0.0],\n",
       "       [0.0, 1.0],\n",
       "       [1.0, 0.0],\n",
       "       [1.0, 0.0],\n",
       "       [0.0, 1.0],\n",
       "       [1.0, 0.0],\n",
       "       [0.0, 1.0],\n",
       "       [1.0, 0.0],\n",
       "       [1.0, 0.0],\n",
       "       [0.0, 1.0],\n",
       "       [1.0, 0.0],\n",
       "       [0.0, 1.0],\n",
       "       [0.0, 1.0]], dtype=object)"
      ]
     },
     "execution_count": 12,
     "metadata": {},
     "output_type": "execute_result"
    }
   ],
   "source": [
    "X_drink"
   ]
  },
  {
   "cell_type": "code",
   "execution_count": 13,
   "id": "300b5d31",
   "metadata": {},
   "outputs": [
    {
     "data": {
      "text/plain": [
       "array([[0.0, 0.0, 1.0],\n",
       "       [1.0, 0.0, 0.0],\n",
       "       [0.0, 0.0, 1.0],\n",
       "       [0.0, 0.0, 1.0],\n",
       "       [0.0, 1.0, 0.0],\n",
       "       [1.0, 0.0, 0.0],\n",
       "       [0.0, 1.0, 0.0],\n",
       "       [1.0, 0.0, 0.0],\n",
       "       [0.0, 1.0, 0.0],\n",
       "       [0.0, 0.0, 1.0],\n",
       "       [1.0, 0.0, 0.0],\n",
       "       [0.0, 0.0, 1.0],\n",
       "       [0.0, 0.0, 1.0],\n",
       "       [0.0, 1.0, 0.0],\n",
       "       [0.0, 0.0, 1.0],\n",
       "       [1.0, 0.0, 0.0],\n",
       "       [0.0, 0.0, 1.0],\n",
       "       [0.0, 0.0, 1.0],\n",
       "       [0.0, 1.0, 0.0]], dtype=object)"
      ]
     },
     "execution_count": 13,
     "metadata": {},
     "output_type": "execute_result"
    }
   ],
   "source": [
    "X_weight"
   ]
  },
  {
   "cell_type": "code",
   "execution_count": 14,
   "id": "a02a0ebb",
   "metadata": {},
   "outputs": [
    {
     "data": {
      "text/plain": [
       "array([[0, 1],\n",
       "       [0, 4]])"
      ]
     },
     "execution_count": 14,
     "metadata": {},
     "output_type": "execute_result"
    }
   ],
   "source": [
    "X_train = X[:14,:]\n",
    "y_train = y[:14]\n",
    "X_test = X[14:,:]\n",
    "y_test = y[14:]\n",
    "\n",
    "clf.fit(X_train, y_train)\n",
    "y_pred_class = clf.predict(X_test)\n",
    "\n",
    "confusion_matrix(y_test, y_pred_class)"
   ]
  },
  {
   "cell_type": "code",
   "execution_count": 15,
   "id": "9b1baf63",
   "metadata": {},
   "outputs": [
    {
     "data": {
      "text/plain": [
       "0.8"
      ]
     },
     "execution_count": 15,
     "metadata": {},
     "output_type": "execute_result"
    }
   ],
   "source": [
    "accuracy_score(y_test, y_pred_class)"
   ]
  }
 ],
 "metadata": {
  "kernelspec": {
   "display_name": "Python 3",
   "language": "python",
   "name": "python3"
  },
  "language_info": {
   "codemirror_mode": {
    "name": "ipython",
    "version": 3
   },
   "file_extension": ".py",
   "mimetype": "text/x-python",
   "name": "python",
   "nbconvert_exporter": "python",
   "pygments_lexer": "ipython3",
   "version": "3.8.8"
  }
 },
 "nbformat": 4,
 "nbformat_minor": 5
}

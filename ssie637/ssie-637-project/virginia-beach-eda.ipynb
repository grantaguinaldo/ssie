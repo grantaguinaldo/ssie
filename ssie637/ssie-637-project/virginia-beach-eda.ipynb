{
 "cells": [
  {
   "cell_type": "code",
   "execution_count": 1,
   "id": "03e86ac6",
   "metadata": {},
   "outputs": [],
   "source": [
    "import pandas as pd\n",
    "import matplotlib.pyplot as plt"
   ]
  },
  {
   "cell_type": "code",
   "execution_count": 2,
   "id": "f47fc828",
   "metadata": {},
   "outputs": [
    {
     "data": {
      "text/plain": [
       "(326609, 12)"
      ]
     },
     "execution_count": 2,
     "metadata": {},
     "output_type": "execute_result"
    }
   ],
   "source": [
    "url = 'https://s3.amazonaws.com/vbgov-ckan-open-data/EMS+Calls+For+Service.csv'\n",
    "df = pd.read_csv(url)\n",
    "df.shape"
   ]
  },
  {
   "cell_type": "code",
   "execution_count": 3,
   "id": "b796ff24",
   "metadata": {},
   "outputs": [
    {
     "data": {
      "text/plain": [
       "['EMS Call Number',\n",
       " 'Block Address',\n",
       " 'City',\n",
       " 'State',\n",
       " 'Call Priority',\n",
       " 'Rescue Squad Number',\n",
       " 'Call Date and Time',\n",
       " 'Entry Date and Time',\n",
       " 'Dispatch Date and Time',\n",
       " 'En route Date and Time',\n",
       " 'On Scene Date and Time',\n",
       " 'Close Date and Time']"
      ]
     },
     "execution_count": 3,
     "metadata": {},
     "output_type": "execute_result"
    }
   ],
   "source": [
    "df.columns.tolist()"
   ]
  },
  {
   "cell_type": "code",
   "execution_count": 4,
   "id": "59194279",
   "metadata": {},
   "outputs": [
    {
     "data": {
      "text/plain": [
       "758"
      ]
     },
     "execution_count": 4,
     "metadata": {},
     "output_type": "execute_result"
    }
   ],
   "source": [
    "response_squad_num = list(set((df['Rescue Squad Number'].tolist())))\n",
    "len(response_squad_num)"
   ]
  },
  {
   "cell_type": "code",
   "execution_count": 5,
   "id": "5a4d54e9",
   "metadata": {},
   "outputs": [
    {
     "data": {
      "image/png": "[encoded data removed]",
      "text/plain": [
       "<Figure size 640x480 with 1 Axes>"
      ]
     },
     "metadata": {},
     "output_type": "display_data"
    }
   ],
   "source": [
    "plt.hist(df.tail(250)['Rescue Squad Number'].tolist())\n",
    "plt.xticks(rotation=45)\n",
    "plt.show()"
   ]
  },
  {
   "cell_type": "code",
   "execution_count": 6,
   "id": "14ee9003",
   "metadata": {},
   "outputs": [
    {
     "data": {
      "text/html": [
       "<div>\n",
       "<style scoped>\n",
       "    .dataframe tbody tr th:only-of-type {\n",
       "        vertical-align: middle;\n",
       "    }\n",
       "\n",
       "    .dataframe tbody tr th {\n",
       "        vertical-align: top;\n",
       "    }\n",
       "\n",
       "    .dataframe thead th {\n",
       "        text-align: right;\n",
       "    }\n",
       "</style>\n",
       "<table border=\"1\" class=\"dataframe\">\n",
       "  <thead>\n",
       "    <tr style=\"text-align: right;\">\n",
       "      <th></th>\n",
       "      <th>EMS Call Number</th>\n",
       "      <th>Block Address</th>\n",
       "      <th>City</th>\n",
       "      <th>State</th>\n",
       "      <th>Call Priority</th>\n",
       "      <th>Rescue Squad Number</th>\n",
       "      <th>Call Date and Time</th>\n",
       "      <th>Entry Date and Time</th>\n",
       "      <th>Dispatch Date and Time</th>\n",
       "      <th>En route Date and Time</th>\n",
       "      <th>On Scene Date and Time</th>\n",
       "      <th>Close Date and Time</th>\n",
       "      <th>contain_r</th>\n",
       "    </tr>\n",
       "  </thead>\n",
       "  <tbody>\n",
       "    <tr>\n",
       "      <th>326604</th>\n",
       "      <td>180009997</td>\n",
       "      <td>100 INDIAN LAKES BL/PLEASANT VALLEY</td>\n",
       "      <td>Virginia Beach</td>\n",
       "      <td>VA</td>\n",
       "      <td>1</td>\n",
       "      <td>R19</td>\n",
       "      <td>2018-02-27 03:30:19</td>\n",
       "      <td>2018-02-27 03:30:58</td>\n",
       "      <td>2018-02-27 03:31:11</td>\n",
       "      <td>2018-02-27 03:32:50</td>\n",
       "      <td>2018-02-27 03:36:31</td>\n",
       "      <td>2018-02-27 04:38:47</td>\n",
       "      <td></td>\n",
       "    </tr>\n",
       "    <tr>\n",
       "      <th>326605</th>\n",
       "      <td>180009998</td>\n",
       "      <td>800 QUESNEL DR</td>\n",
       "      <td>Virginia Beach</td>\n",
       "      <td>VA</td>\n",
       "      <td>2</td>\n",
       "      <td>R21</td>\n",
       "      <td>2018-02-27 04:00:48</td>\n",
       "      <td>2018-02-27 04:03:52</td>\n",
       "      <td>2018-02-27 04:04:00</td>\n",
       "      <td>2018-02-27 04:05:10</td>\n",
       "      <td>2018-02-27 04:14:37</td>\n",
       "      <td>2018-02-27 05:15:41</td>\n",
       "      <td></td>\n",
       "    </tr>\n",
       "    <tr>\n",
       "      <th>326606</th>\n",
       "      <td>180009999</td>\n",
       "      <td>3500 CHIMNEY HILL CT</td>\n",
       "      <td>Virginia Beach</td>\n",
       "      <td>VA</td>\n",
       "      <td>2</td>\n",
       "      <td>R16</td>\n",
       "      <td>2018-02-27 04:31:17</td>\n",
       "      <td>2018-02-27 04:33:36</td>\n",
       "      <td>2018-02-27 04:33:43</td>\n",
       "      <td>2018-02-27 04:34:56</td>\n",
       "      <td>2018-02-27 04:48:45</td>\n",
       "      <td>2018-02-27 04:49:05</td>\n",
       "      <td></td>\n",
       "    </tr>\n",
       "    <tr>\n",
       "      <th>326607</th>\n",
       "      <td>180010000</td>\n",
       "      <td>700 PROSPECT CT</td>\n",
       "      <td>Virginia Beach</td>\n",
       "      <td>VA</td>\n",
       "      <td>1</td>\n",
       "      <td>R02</td>\n",
       "      <td>2018-02-27 04:51:34</td>\n",
       "      <td>2018-02-27 04:53:04</td>\n",
       "      <td>2018-02-27 04:53:15</td>\n",
       "      <td>2018-02-27 04:53:56</td>\n",
       "      <td>2018-02-27 05:00:43</td>\n",
       "      <td>2018-02-27 05:56:45</td>\n",
       "      <td></td>\n",
       "    </tr>\n",
       "    <tr>\n",
       "      <th>326608</th>\n",
       "      <td>180010002</td>\n",
       "      <td>5500 INDIAN RIVER RD</td>\n",
       "      <td>Virginia Beach</td>\n",
       "      <td>VA</td>\n",
       "      <td>2</td>\n",
       "      <td>R10</td>\n",
       "      <td>2018-02-27 05:40:04</td>\n",
       "      <td>2018-02-27 05:42:18</td>\n",
       "      <td>2018-02-27 05:42:27</td>\n",
       "      <td>2018-02-27 05:51:20</td>\n",
       "      <td>2018-02-27 06:00:41</td>\n",
       "      <td>2018-02-27 07:34:45</td>\n",
       "      <td></td>\n",
       "    </tr>\n",
       "  </tbody>\n",
       "</table>\n",
       "</div>"
      ],
      "text/plain": [
       "        EMS Call Number                        Block Address            City  \\\n",
       "326604        180009997  100 INDIAN LAKES BL/PLEASANT VALLEY  Virginia Beach   \n",
       "326605        180009998                       800 QUESNEL DR  Virginia Beach   \n",
       "326606        180009999                 3500 CHIMNEY HILL CT  Virginia Beach   \n",
       "326607        180010000                      700 PROSPECT CT  Virginia Beach   \n",
       "326608        180010002                 5500 INDIAN RIVER RD  Virginia Beach   \n",
       "\n",
       "       State  Call Priority Rescue Squad Number   Call Date and Time  \\\n",
       "326604    VA              1                 R19  2018-02-27 03:30:19   \n",
       "326605    VA              2                 R21  2018-02-27 04:00:48   \n",
       "326606    VA              2                 R16  2018-02-27 04:31:17   \n",
       "326607    VA              1                 R02  2018-02-27 04:51:34   \n",
       "326608    VA              2                 R10  2018-02-27 05:40:04   \n",
       "\n",
       "        Entry Date and Time Dispatch Date and Time En route Date and Time  \\\n",
       "326604  2018-02-27 03:30:58    2018-02-27 03:31:11    2018-02-27 03:32:50   \n",
       "326605  2018-02-27 04:03:52    2018-02-27 04:04:00    2018-02-27 04:05:10   \n",
       "326606  2018-02-27 04:33:36    2018-02-27 04:33:43    2018-02-27 04:34:56   \n",
       "326607  2018-02-27 04:53:04    2018-02-27 04:53:15    2018-02-27 04:53:56   \n",
       "326608  2018-02-27 05:42:18    2018-02-27 05:42:27    2018-02-27 05:51:20   \n",
       "\n",
       "       On Scene Date and Time  Close Date and Time contain_r  \n",
       "326604    2018-02-27 03:36:31  2018-02-27 04:38:47            \n",
       "326605    2018-02-27 04:14:37  2018-02-27 05:15:41            \n",
       "326606    2018-02-27 04:48:45  2018-02-27 04:49:05            \n",
       "326607    2018-02-27 05:00:43  2018-02-27 05:56:45            \n",
       "326608    2018-02-27 06:00:41  2018-02-27 07:34:45            "
      ]
     },
     "execution_count": 6,
     "metadata": {},
     "output_type": "execute_result"
    }
   ],
   "source": [
    "df['contain_r'] = ''\n",
    "df.tail()"
   ]
  },
  {
   "cell_type": "code",
   "execution_count": 7,
   "id": "4aab72a3",
   "metadata": {},
   "outputs": [
    {
     "name": "stdout",
     "output_type": "stream",
     "text": [
      "R in Position 0 // Total Entries: 25053\n",
      "R in Position 1 // Total Entries: 274875\n",
      "R in Position 2 // Total Entries: 666\n",
      "R in Position 3 // Total Entries: 206\n",
      "R in Position 4 // Total Entries: 12614\n",
      "R in Position 5 // Total Entries: 12933\n",
      "R in Position 6 // Total Entries: 262\n",
      "R in Position 7 // Total Entries: 0\n",
      "***Total Entries: 326609***\n"
     ]
    }
   ],
   "source": [
    "test = 'RMC'\n",
    "\n",
    "def contains_r(s):\n",
    "    try:\n",
    "        return int(s.lower().find('r'))\n",
    "    except:\n",
    "        return int(-1)\n",
    "    \n",
    "df['contain_r'] = df['Rescue Squad Number'].apply(contains_r)\n",
    "\n",
    "df_filter_r_none = df[df['contain_r'] == -1]\n",
    "df_filter_r_0 = df[df['contain_r'] == 0]\n",
    "df_filter_r_1 = df[df['contain_r'] == 1]\n",
    "df_filter_r_2 = df[df['contain_r'] == 2]\n",
    "df_filter_r_3 = df[df['contain_r'] == 3]\n",
    "df_filter_r_4 = df[df['contain_r'] == 4]\n",
    "df_filter_r_5 = df[df['contain_r'] == 5]\n",
    "df_filter_r_6 = df[df['contain_r'] == 6]\n",
    "\n",
    "list_of_pos = [df_filter_r_none, df_filter_r_0, \n",
    "               df_filter_r_1, df_filter_r_2, \n",
    "               df_filter_r_3, df_filter_r_4, \n",
    "               df_filter_r_5, df_filter_r_6]\n",
    "\n",
    "total = 0\n",
    "for idx, each in enumerate(list_of_pos):\n",
    "    total += each.shape[0]\n",
    "    print('R in Position {} // Total Entries: {}'.format(idx, each.shape[0]))\n",
    "print('***Total Entries: {}***'.format(total))"
   ]
  },
  {
   "cell_type": "code",
   "execution_count": 8,
   "id": "3936156d",
   "metadata": {},
   "outputs": [
    {
     "data": {
      "text/plain": [
       "{'BRIG03',\n",
       " 'BRIG04',\n",
       " 'BRIG05',\n",
       " 'BRIG06',\n",
       " 'BRIG07',\n",
       " 'BRIG08',\n",
       " 'BRIG09',\n",
       " 'BRIG10',\n",
       " 'BRU06',\n",
       " 'BRU08',\n",
       " 'BRU09',\n",
       " 'BRU13',\n",
       " 'FR01P',\n",
       " 'FR02',\n",
       " 'FR02P',\n",
       " 'FRSQ1P',\n",
       " 'MR01',\n",
       " 'MR02',\n",
       " 'MR22',\n",
       " 'MR23',\n",
       " 'MRT',\n",
       " 'MRTK01',\n",
       " 'MRTK02',\n",
       " 'MRTK03',\n",
       " 'MRTK04',\n",
       " 'MRTK05',\n",
       " 'NR15',\n",
       " 'NR16',\n",
       " 'NR17',\n",
       " 'NR17P',\n",
       " 'NR31',\n",
       " 'NR31P',\n",
       " 'NR32',\n",
       " 'NR32P',\n",
       " 'NR34'}"
      ]
     },
     "execution_count": 8,
     "metadata": {},
     "output_type": "execute_result"
    }
   ],
   "source": [
    "set(df_filter_r_1['Rescue Squad Number'].tolist())"
   ]
  },
  {
   "cell_type": "code",
   "execution_count": 9,
   "id": "9396e12f",
   "metadata": {},
   "outputs": [
    {
     "data": {
      "text/plain": [
       "0.841602650263771"
      ]
     },
     "execution_count": 9,
     "metadata": {},
     "output_type": "execute_result"
    }
   ],
   "source": [
    "df_filter_r_0.shape[0] / df.shape[0]"
   ]
  }
 ],
 "metadata": {
  "kernelspec": {
   "display_name": "Python 3 (ipykernel)",
   "language": "python",
   "name": "python3"
  },
  "language_info": {
   "codemirror_mode": {
    "name": "ipython",
    "version": 3
   },
   "file_extension": ".py",
   "mimetype": "text/x-python",
   "name": "python",
   "nbconvert_exporter": "python",
   "pygments_lexer": "ipython3",
   "version": "3.7.3"
  }
 },
 "nbformat": 4,
 "nbformat_minor": 5
}

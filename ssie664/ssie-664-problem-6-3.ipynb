{
 "cells": [
  {
   "cell_type": "code",
   "execution_count": 1,
   "id": "06d6f28b",
   "metadata": {},
   "outputs": [
    {
     "name": "stdout",
     "output_type": "stream",
     "text": [
      "Expected Value of Project A: $139,743.71\n",
      "Expected Value of Project B: $93,060.13\n",
      "Expected Value of Project C: $98,429.47\n"
     ]
    }
   ],
   "source": [
    "import numpy as np\n",
    "\n",
    "def simulation(itr=None, P=None, L=None, i=None, N=None, AE=None, cdf=None):\n",
    "    results_summary = []\n",
    "    results_simulation = []\n",
    "    \n",
    "    cost_case_01 = (((P-L)*i) / (((1 + i)**(N)) - 1)) + ((P*i))\n",
    "    cost_case_02 = (((P-L)*i) / (((1 + i)**(N)) - 1)) + ((P*i)+(AE))\n",
    "    \n",
    "    for each in range(itr):\n",
    "        resultsi = dict()\n",
    "        draw = np.random.uniform()\n",
    "\n",
    "        if draw <= cdf:\n",
    "            resultsi['draw'] = draw \n",
    "            resultsi['outcome'] = 'case_01' \n",
    "            resultsi['annual_cost'] = cost_case_01 \n",
    "            results_simulation.append(resultsi)\n",
    "        else:\n",
    "            resultsi['draw'] = draw \n",
    "            resultsi['outcome'] = 'case_02' \n",
    "            resultsi['annual_cost'] = cost_case_02\n",
    "            results_simulation.append(resultsi)\n",
    "            \n",
    "    freq_case_01 = [each['outcome'] for each in results_simulation].count('case_01') / itr\n",
    "    freq_case_02 = [each['outcome'] for each in results_simulation].count('case_02') / itr\n",
    "    \n",
    "    resultsk = dict()\n",
    "    resultsk['expected_value'] = (cost_case_01 * freq_case_01) + (cost_case_02 * freq_case_02)\n",
    "    resultsk['case_01_freq'] = freq_case_01\n",
    "    resultsk['case_02_freq'] = freq_case_02\n",
    "    resultsk['case_01_cost'] = cost_case_01\n",
    "    resultsk['case_02_cost'] = cost_case_02\n",
    "    results_summary.append(resultsk)\n",
    "    \n",
    "    return results_summary, results_simulation\n",
    "\n",
    "data_A = simulation(itr=100000, P=500000, L=0, i=0.1, N=40, AE=600000, cdf=0.85)\n",
    "data_B = simulation(itr=100000, P=625000, L=0, i=0.1, N=40, AE=600000, cdf=0.95)\n",
    "data_C = simulation(itr=100000, P=900000, L=0, i=0.1, N=40, AE=600000, cdf=0.99)\n",
    "\n",
    "print('Expected Value of Project A: ${:,.2f}'.format(data_A[0][0]['expected_value']))\n",
    "print('Expected Value of Project B: ${:,.2f}'.format(data_B[0][0]['expected_value']))\n",
    "print('Expected Value of Project C: ${:,.2f}'.format(data_C[0][0]['expected_value']))"
   ]
  }
 ],
 "metadata": {
  "kernelspec": {
   "display_name": "Python 3",
   "language": "python",
   "name": "python3"
  },
  "language_info": {
   "codemirror_mode": {
    "name": "ipython",
    "version": 3
   },
   "file_extension": ".py",
   "mimetype": "text/x-python",
   "name": "python",
   "nbconvert_exporter": "python",
   "pygments_lexer": "ipython3",
   "version": "3.8.8"
  }
 },
 "nbformat": 4,
 "nbformat_minor": 5
}
